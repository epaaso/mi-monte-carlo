{
 "metadata": {
  "language": "Julia",
  "name": "",
  "signature": "sha256:c5ee674650a0a5debbec3a3bacd308143b0b5cbcfca2b3a556322622e53f88c0"
 },
 "nbformat": 3,
 "nbformat_minor": 0,
 "worksheets": [
  {
   "cells": [
    {
     "cell_type": "heading",
     "level": 1,
     "metadata": {},
     "source": [
      "Tarea 3: Enumeraci\u00f3n exacta"
     ]
    },
    {
     "cell_type": "heading",
     "level": 2,
     "metadata": {},
     "source": [
      "Fecha l\u00edmite de entrega: jueves 26 de febrero 2015 a las 13:59 horas"
     ]
    },
    {
     "cell_type": "markdown",
     "metadata": {},
     "source": [
      "[1] Considera un caminante aleatorio Implementa enumeraci\u00f3n exacta para un caminante aleatorio en una red 1D sin fronteras, como en el notebook 4, pero para el cual tambi\u00e9n hay una probabilidad de que el caminante se quede en el mismo sitio en el cual est\u00e1.\n",
      "\n",
      "[2] Saca resultados para distintos tiempos para la distribuci\u00f3n de probabilidad (funci\u00f3n de masa), empezando desde una distribuci\u00f3n inicial concentrado en el punto central del sistema.\n",
      "Dibuja todos los resultados en una sola gr\u00e1fica, dibujando $t^{1/2} P_t(x)$ en funci\u00f3n de $x/t^{1/2}$. \u00bfQu\u00e9 observas? \u00bfC\u00f3mo interpretas el resultado? \u00bfTiene un nombre? Encuentra la expresi\u00f3n anal\u00edtica.\n",
      "\n",
      "[3] \u00bfQu\u00e9 pasa si la condici\u00f3n inicial ahora tiene la probabilidad repartida entre varias celdas?"
     ]
    },
    {
     "cell_type": "markdown",
     "metadata": {},
     "source": [
      "---"
     ]
    },
    {
     "cell_type": "heading",
     "level": 2,
     "metadata": {},
     "source": [
      "Tiempos de primer paso: sistemas con absorci\u00f3n"
     ]
    },
    {
     "cell_type": "markdown",
     "metadata": {},
     "source": [
      "Enumeraci\u00f3n exacta tambi\u00e9n se puede aplicar para calcular propiedades de sistemas con absorci\u00f3n para calcular *tiempos de primer paso* (el tiempo para llegar a un sitio *por primera vez*), tal como estudiamos en la tarea 2. Esto se lleva a cabo como sigue."
     ]
    },
    {
     "cell_type": "markdown",
     "metadata": {},
     "source": [
      "[3] Implementa enumeraci\u00f3n exacta para un caminante aleatorio en una red 1D con una frontera reflejante en $L$ y una frontera absorbente en $0$, como sigue.\n",
      "\n",
      "Es decir, la probabilidad que llega a $0$ en el tiempo $t$ representa la probabilidad que se *absorbe* en ese tiempo (desaparece del sistema), que corresponde a la probabilidad de que el caminante llegue a 0 *por primera vez* (\"tiempo de primer paso\").\n",
      "Esta probabilidad se guarda en un arreglo aparte. Luego a la $P_t(0)$ correspondiente *se le asigna 0*, lo cual corresponde al hecho de que la probabilidad desaparece del sistema.\n",
      "\n",
      "\u00bfC\u00f3mo se satisface la conservaci\u00f3n de probabilidad en este caso?"
     ]
    },
    {
     "cell_type": "markdown",
     "metadata": {},
     "source": [
      "[4] Utiliza tu c\u00f3digo para calcular la distribuci\u00f3n de probabilidad $f_T$ del tiempo de primer paso al origen, $T$, para distintos tama\u00f1os $L$, y graf\u00edcalas en una sola gr\u00e1fica."
     ]
    },
    {
     "cell_type": "markdown",
     "metadata": {},
     "source": [
      "[5] \u00bfQu\u00e9 observas? \u00bfC\u00f3mo se comparan los resultados con los de la tarea 2?"
     ]
    }
   ],
   "metadata": {}
  }
 ]
}