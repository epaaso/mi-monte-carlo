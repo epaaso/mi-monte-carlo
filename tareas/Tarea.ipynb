{
 "metadata": {
  "kernelspec": {
   "codemirror_mode": "julia",
   "display_name": "Julia",
   "language": "julia",
   "name": "julia"
  },
  "language": "Julia",
  "name": "",
  "signature": "sha256:86a83e077ce5be89d24d203bfe0e07fa26046cd4fb32ef77492241258cd50aa4"
 },
 "nbformat": 3,
 "nbformat_minor": 0,
 "worksheets": [
  {
   "cells": [
    {
     "cell_type": "heading",
     "level": 1,
     "metadata": {},
     "source": [
      "Tarea 1"
     ]
    },
    {
     "cell_type": "markdown",
     "metadata": {},
     "source": [
      "**Ejercicio 2**:\n",
      "\n",
      "Hacer una lista de:\n",
      "\n",
      "- 3 o m\u00e1s cosas que les gusta de Julia\n",
      "\n",
      "Me gusta que tenga Just in time compilation, hace las cosas mas interacticas y r\u00e1pidas\n",
      "\n",
      "Adem\u00e1s estoy acosutmbrado a usar multiple dispatch porque me gusta que mis programitas esten semanticamente limpios asi que es me gusta de julia \n",
      "\n",
      "Y sobre todo el hecho de que sea de c\u00f3digo abierto y pensado para la comundidad cientifica refleja una tendencia que es muy importante seguir\n",
      "\n",
      "- 3 o m\u00e1s cosas que les parece dif\u00edcil\n",
      "Me parece dificil que est\u00e9 en desarollo y que por eso falten muchas funciones, es decir me dificulta la resolucion de problemas pues no est\u00e1 todo resuelto\n",
      "\n",
      "Acostumbrarme a la nueva sint\u00e1xis me cuesta trabajo, el hecho de que se fije mucho en tipos y tenga una sintaxis parecida a python luego confunde\n",
      "\n",
      "No me gusta que el ijulia notebook no tenga comandos magic como el de ipython\n",
      "\n"
     ]
    }
   ],
   "metadata": {}
  }
 ]
}