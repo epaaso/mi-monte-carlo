{
 "cells": [
  {
   "cell_type": "markdown",
   "metadata": {},
   "source": [
    "# <center>Células estocásticas</center>"
   ]
  },
  {
   "cell_type": "code",
   "execution_count": 1,
   "metadata": {
    "collapsed": false
   },
   "outputs": [
    {
     "name": "stderr",
     "output_type": "stream",
     "text": [
      "INFO: Loading help data...\n"
     ]
    }
   ],
   "source": [
    "using PyPlot"
   ]
  },
  {
   "cell_type": "markdown",
   "metadata": {},
   "source": [
    "El chiste de este proyecto es ver cuando tiene sentido ver las reacciones que suceden en las celulas,\n",
    "que normalmente tienen pocos componentes, como procesos estocásticos en lugar de deterministas."
   ]
  },
  {
   "cell_type": "markdown",
   "metadata": {},
   "source": [
    "Para esto vamos a ver un modelo sencillo en el que se tiene una concentración de componentes de una sola molécula [M] por 'monomer'. Estos se convierten en componentes de dos moléculas (cuya concentración será [D] por 'dimer') con taza de conversión $k_b$. La taza para que regresen a ser unimolculares será $k_u$."
   ]
  },
  {
   "cell_type": "markdown",
   "metadata": {},
   "source": [
    "La reacción a modelar está resumida en el siguiente diagrama de Petri, donde las flechas entrantes indican resultado de una reacción y salientes el componente entrante de la reacción."
   ]
  },
  {
   "cell_type": "markdown",
   "metadata": {},
   "source": [
    "<img src=\"petri.png\">"
   ]
  },
  {
   "cell_type": "markdown",
   "metadata": {},
   "source": [
    "Sacar la inversa de $G*e^{-G*t}$"
   ]
  },
  {
   "cell_type": "code",
   "execution_count": null,
   "metadata": {
    "collapsed": true
   },
   "outputs": [],
   "source": [
    "function random_t_espera(Γtot::Float64)\n",
    "    \n",
    "end"
   ]
  }
 ],
 "metadata": {
  "kernelspec": {
   "display_name": "Julia 0.3.7",
   "language": "julia",
   "name": "julia 0.3"
  },
  "language_info": {
   "name": "julia",
   "version": "0.3.7"
  }
 },
 "nbformat": 4,
 "nbformat_minor": 0
}
