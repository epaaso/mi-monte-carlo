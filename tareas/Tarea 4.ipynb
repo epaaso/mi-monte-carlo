{
 "metadata": {
  "language": "Julia",
  "name": "",
  "signature": "sha256:ffe6ebfbde9a61c1d845c1f5c4bb8ed1e3e6e6eb13ca7fcf7f72421c28047c3d"
 },
 "nbformat": 3,
 "nbformat_minor": 0,
 "worksheets": [
  {
   "cells": [
    {
     "cell_type": "heading",
     "level": 1,
     "metadata": {},
     "source": [
      "Tarea 4: Simular el decaimiento de \u00e1tomos radioactivos"
     ]
    },
    {
     "cell_type": "markdown",
     "metadata": {},
     "source": [
      "En esta tarea, simularemos el decaimiento de $N$ \u00e1tomos radioactivos. El enfoque usual es en t\u00e9rminos de una ecuaci\u00f3n diferencial: al parecer esto es evidente para todos, excepto para m\u00ed... \n",
      "\n",
      "Pensaremos m\u00e1s bien (como debe ser) en los \u00e1tomos como sistemas que pueden estar o en el estado 1 (\"radioactivo\") o el estado 0 (\"deca\u00eddo\"), y que obedecen un proceso estoc\u00e1stico que gobierna su decaimiento. [El an\u00e1lisis funcionar\u00e1 tambi\u00e9n, por supuesto, para cualquier otro sistema que se puede modelar as\u00ed.]"
     ]
    },
    {
     "cell_type": "markdown",
     "metadata": {},
     "source": [
      "[1] Tratemos un \u00e1tomo como sigue. En cada paso, tiene una probabilidad $p$ de decaer del estado $1$ al estado 0.\n",
      "\n",
      "(i) Escribe una funci\u00f3n que calcule el tiempo *hasta que* decaiga.\n",
      "\n",
      "(ii) Encuentra la distribuci\u00f3n de tiempos de decaimiento. \u00bfC\u00f3mo es la cola de la distribuci\u00f3n? \u00bfQu\u00e9 tipo de distribuci\u00f3n es? "
     ]
    },
    {
     "cell_type": "markdown",
     "metadata": {},
     "source": [
      "[2] Simula $N$ tales \u00e1tomos, cada uno de los cuales tiene una probabilidad $p$ de decaer en cada paso.\n",
      "\n",
      "Dibuja el n\u00famero de \u00e1tomos que *no* han deca\u00eddo todav\u00eda hasta el paso $n$, en funci\u00f3n de $n$. \u00bfQu\u00e9 forma tiene la gr\u00e1fica? \u00bfEs sorprendente?"
     ]
    },
    {
     "cell_type": "markdown",
     "metadata": {},
     "source": [
      "[3] (i) Si $N$ es muy grande, escribe una ecuaci\u00f3n aproximada para c\u00f3mo cambia el n\u00famero *promedio* de \u00e1tomos que no se hayan deca\u00eddo al tiempo $1$, tiempo $2$, ..., tiempo $n$. \n",
      "\n",
      "(ii) Resuelve la ecuaci\u00f3n para encontrar la proporci\u00f3n no deca\u00edda al tiempo $n$."
     ]
    },
    {
     "cell_type": "markdown",
     "metadata": {},
     "source": [
      "[4] Ahora tomemos el *l\u00edmite continuo*: pensemos que cada paso toma un tiempo $\\delta t$, y tomemos el l\u00edmite $\\delta t \\to 0$ (as\u00ed que el proceso se volver\u00e1 continuo).\n",
      "\n",
      "Reescribe el resultado de la pregunta 3 en t\u00e9rminos de $\\delta t$, y toma el l\u00edmite cuando $\\delta t \\to \\infty$. [Pista: hay que reconocer que aparecer\u00e1 cierta funci\u00f3n interesante en este l\u00edmite.]\n",
      "\n"
     ]
    },
    {
     "cell_type": "markdown",
     "metadata": {},
     "source": [
      "[5] Da una interpretaci\u00f3n de la *tasa de decaimiento*.  \u00bfPuedes derivar la ecuaci\u00f3n diferencial est\u00e1ndar de decaimiento radioactivo de este an\u00e1lisis?"
     ]
    },
    {
     "cell_type": "markdown",
     "metadata": {},
     "source": [
      "Es posible simular directamente el proceso en tiempo continuo. Recu\u00e9rdenme de que debamos ver esto despu\u00e9s..."
     ]
    }
   ],
   "metadata": {}
  }
 ]
}