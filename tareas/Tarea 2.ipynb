{
 "metadata": {
  "language": "Julia",
  "name": "",
  "signature": "sha256:f6a85fbdbf42163a49e8b1d3b5ca6670c3876e1e9c97d9351ebe28de2c39521f"
 },
 "nbformat": 3,
 "nbformat_minor": 0,
 "worksheets": [
  {
   "cells": [
    {
     "cell_type": "heading",
     "level": 1,
     "metadata": {},
     "source": [
      "Tarea 2: Procesos de primer paso"
     ]
    },
    {
     "cell_type": "markdown",
     "metadata": {},
     "source": [
      "Para entregarse el jueves, 19 de febrero de 2015, antes de las 14 horas.\n",
      "\n",
      "**LA TAREA SE HACE Y SE ENTREGA EN PAREJAS**"
     ]
    },
    {
     "cell_type": "markdown",
     "metadata": {},
     "source": [
      "Consid\u00e9rese un caminante aleatorio que vive en los enteros. Es sim\u00e9trico, es decir, en cada paso, brinca a la izquierda o al derecha, los dos con probabilidad $\\frac{1}{2}$. Empieza en $1$. \n",
      "\n",
      "Estudiaremos el **tiempo de primer paso** a $0$, es decir, \u00bfcu\u00e1ndo llegar\u00e1 por primera vez el caminante a $0$? A esta variable aleatoria la llamaremos $\\tau$."
     ]
    },
    {
     "cell_type": "heading",
     "level": 2,
     "metadata": {},
     "source": [
      "Preguntas"
     ]
    },
    {
     "cell_type": "markdown",
     "metadata": {},
     "source": [
      "[1] Escribe una funci\u00f3n que simule al caminante aleatorio, empezando en $1$ hasta que llegue a $0$. El caminante vive en una caja de tama\u00f1o $L+1$, es decir en $\\{0, 1, \\ldots, L-1, L\\}$, y la funci\u00f3n debe tomar $L$ como par\u00e1metro.\n",
      "\n",
      "Hay una *frontera reflejante* en $L+\\frac{1}{2}$: si el caminante est\u00e1 en $L$ e intenta brincar a la derecha, se refleja y se queda en donde estaba.\n",
      "\n",
      "La funci\u00f3n regresa el tiempo que tard\u00f3 en llegar a $0$.\n",
      "\n",
      "[2] Escribe una funci\u00f3n que calcule el tiempo promedio $\\langle \\tau_L \\rangle$ en llegar a $0$ para un sistema de tama\u00f1o $L$, sobre un n\u00famero de corridas $N$.\n",
      "\n",
      "[3] Dibuja el tiempo promedio $\\langle \\tau_L \\rangle$ en funci\u00f3n del tama\u00f1o $L$. \u00bfC\u00f3mo escala el tiempo promedio con $L$? \u00bfQu\u00e9 pasa cuando $L \\to \\infty$?\n",
      "\n",
      "[4] Escribe una funci\u00f3n que calcule la distribuci\u00f3n de probabilidad de $\\tau_L$. \n",
      "\n",
      "[5] Dibuja la distribuci\u00f3n de probabilidad $f_{\\tau_L}(t)$ de $\\tau_L$ para distintas $L$ en una sola gr\u00e1fica. \u00bfC\u00f3mo escala la cola de la distribuci\u00f3n? \n",
      "\n",
      "[6] \u00bfC\u00f3mo se ve la distribuci\u00f3n de $\\tau_\\infty$? \u00bfC\u00f3mo es su cola? \u00bfQu\u00e9 implica para el tiempo promedio de $\\tau_\\infty$?\n",
      "\n"
     ]
    }
   ],
   "metadata": {}
  }
 ]
}