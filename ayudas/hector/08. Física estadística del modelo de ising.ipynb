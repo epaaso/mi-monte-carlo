{
 "metadata": {
  "kernelspec": {
   "display_name": "Julia 0.3.6-pre",
   "language": "julia",
   "name": "julia 0.3"
  },
  "language": "Julia",
  "language_info": {
   "name": "julia",
   "version": "0.3.6"
  },
  "name": "",
  "signature": "sha256:56f5ea4df921994c01d73a22f8e6078e526a17594b7643be616ca59076ca3108"
 },
 "nbformat": 3,
 "nbformat_minor": 0,
 "worksheets": [
  {
   "cells": [
    {
     "cell_type": "code",
     "collapsed": false,
     "input": [
      "using Iterators\n",
      "using PyPlot"
     ],
     "language": "python",
     "metadata": {},
     "outputs": [
      {
       "output_type": "stream",
       "stream": "stderr",
       "text": [
        "INFO: Loading help data...\n"
       ]
      }
     ],
     "prompt_number": 1
    },
    {
     "cell_type": "heading",
     "level": 1,
     "metadata": {},
     "source": [
      "F\u00edsica estad\u00edstica en el ensamble can\u00f3nico "
     ]
    },
    {
     "cell_type": "markdown",
     "metadata": {},
     "source": [
      "Ya que contamos con un modelo microsc\u00f3pico, el modelo de Ising, que especifica cu\u00e1les son las *configuraciones microsc\u00f3picas*, o **microestados**, del sistema, y su energ\u00eda, \u00a1podemos hacer **f\u00edsica estad\u00edstica**!"
     ]
    },
    {
     "cell_type": "markdown",
     "metadata": {},
     "source": [
      "Por el momento, y en la mayor parte del curso, ocuparemos el **ensamble can\u00f3nico**. Recordemos que esto modela un sistema en contacto con un ba\u00f1o t\u00e9rmico (o reservorio) infinito, a una temperatura fija $T$. \n",
      "\n",
      "[Estos conceptos no son nada sencillos, pero supondremos que ya se han tratado en el curso de F\u00edsica Estad\u00edstica.]"
     ]
    },
    {
     "cell_type": "markdown",
     "metadata": {},
     "source": [
      "$\\newcommand{\\ss}{\\pmb{\\sigma}}$\n",
      "Lo que debemos extraer de esto es que un sistema en equilibrio, a temperatura $T$, tiene cierta probabilidad de ocupar cada microestado $\\ss$, dada por\n",
      "\n",
      "$$p_T^{\\mathrm{(eq)}}(\\ss) \\propto e^{-\\beta E(\\ss)},$$\n",
      "\n",
      "donde hemos introducido la **temperatura inversa** $\\beta := 1/(k_B T)$, con $k_B$ la constante de Boltzmann. La cantidad $\\beta$ resulta ser m\u00e1s natural que pensar en t\u00e9rminos de $T$; tomaremos unidades en las cuales $k_B = 1$.\n",
      "\n",
      "Para la constante de proporcionalidad, introducimos la notaci\u00f3n $Z(\\beta)$, que depende de la temperatura o de $\\beta$, de tal forma que las probabilidades est\u00e1n dadas por\n",
      "\n",
      "$$p_T^{\\mathrm{(eq)}}(\\ss) = \\frac{1}{Z(\\beta)} e^{-\\beta E(\\ss)}.$$\n",
      "\n",
      "Esta distribuci\u00f3n de probabilidad se llama la **distribuci\u00f3n can\u00f3nica** a temperatura $T$, o la **distribuci\u00f3n de Boltzmann(-Gibbs)**.\n"
     ]
    },
    {
     "cell_type": "markdown",
     "metadata": {},
     "source": [
      "[1] Escribe una expresi\u00f3n para $Z(\\beta)$, que se llama la **funci\u00f3n de partici\u00f3n** a temperatura $T$. Recuerda cu\u00e1l es la relaci\u00f3n entre $Z$ y la energ\u00eda libre macrosc\u00f3pica, $F$."
     ]
    },
    {
     "cell_type": "markdown",
     "metadata": {},
     "source": [
      "Las cantidades de inter\u00e9s son cantidades macrosc\u00f3picas, dadas por **promedios** sobre la distribuci\u00f3n de Boltzmann, que denotaremos con $\\langle \\cdot \\rangle$. En general, estas propiedades se pueden expresar en t\u00e9rminos de la funci\u00f3n de partici\u00f3n, $Z$, por lo cual $Z$ asume un papel principal en la f\u00edsica estad\u00edstica de equilibrio."
     ]
    },
    {
     "cell_type": "markdown",
     "metadata": {},
     "source": [
      "[2] Escribe una expresi\u00f3n para el promedio $\\langle E \\rangle_\\beta$ de la energ\u00eda a temperatura $T$. Demuestra que se puede expresar en t\u00e9rminos de una derivada de $Z(\\beta)$."
     ]
    },
    {
     "cell_type": "heading",
     "level": 2,
     "metadata": {},
     "source": [
      "C\u00e1lculos exactos"
     ]
    },
    {
     "cell_type": "markdown",
     "metadata": {},
     "source": [
      "En principio, podemos calcular $Z$, y los promedios, de forma exacta a partir de su definici\u00f3n, como sigue."
     ]
    },
    {
     "cell_type": "markdown",
     "metadata": {},
     "source": [
      "[3] (i) Escribe c\u00f3digo que genera *todos los microestados $\\ss$* del modelo de Ising cuadrado de tama\u00f1o $n \\ times m$. [Pista: un arreglo 2D en Julia se puede manipular como si fuera de 1D; piensa en binario.]\n",
      "\n",
      "(ii) Utiliza tu c\u00f3digo para ir calculando $Z(\\beta)$ y $\\langle E \\rangle$ para distintas temperaturas **para sistemas peque\u00f1os**. Utiliza condiciones peri\u00f3dicas de frontera cuando calculas $E(\\ss)$.\n",
      "\n",
      "(iii) \u00bfHasta qu\u00e9 tama\u00f1o de sistema es razonable llevar a cabo estos c\u00e1lculos?\n",
      "\n",
      "(iv) Para el sistema m\u00e1s grande que puedas, dibuja estas cantidades en funci\u00f3n de $T$. \u00bfQu\u00e9 observas?\n",
      "\n",
      "(v) \u00bfQu\u00e9 pasa con $\\langle M \\rangle$? \u00bfPor qu\u00e9? \u00bfQu\u00e9 podr\u00edamos hacer al respecto?\n"
     ]
    },
    {
     "cell_type": "heading",
     "level": 2,
     "metadata": {},
     "source": [
      "\u00bfQu\u00e9 sigue? "
     ]
    },
    {
     "cell_type": "markdown",
     "metadata": {},
     "source": [
      "En principio, si calculamos $Z$ como funci\u00f3n de $\\beta$, podemos extraer las propiedades termodin\u00e1micas macrosc\u00f3picas. Pero acabamos de ver que \u00a1*no* podemos calcular $Z$ para sistemas de tama\u00f1o interesante!\n",
      "\n",
      "\u00bfCu\u00e1l es la soluci\u00f3n? Debemos encontrar una manera de calcular las cantidades de inter\u00e9s, como $\\langle E \\rangle$, *sin* tener que pasar por la v\u00eda de calcular $Z$.\n",
      "\n",
      "Dado que estas cantidades tienen que ver con *promedios*, surge la idea de calcularlas literalmente promediando sobre datos que generamos. \u00bfCu\u00e1les datos? La idea es que generemos una secuencia *en el tiempo* de configuraciones $\\ss^{(1)}$, $\\ss^{(2)}$, etc., y que calculemos $\\langle E \\rangle$ como el promedio --en el sentido de la estad\u00edstica-- de *los datos* $E(\\ss^{(1)})$, $E(\\ss^{(2)})$, etc. Por supuesto, esto nos dar\u00e1 s\u00f3lo *una aproximaci\u00f3n* al valor exacto. Si la generaci\u00f3n de la secuencia ocupa un proceso azaraso, entonces *ser\u00e1 un m\u00e9todo tipo Monte Carlo*."
     ]
    },
    {
     "cell_type": "markdown",
     "metadata": {},
     "source": [
      "Esto lo empezamos a hacer en el notebook anterior, pero sin contar con una manera de cambiar la temperatura. Ahora hemos introducido el concepto de temperatura, a trav\u00e9s de la distribuci\u00f3n de Boltzmann."
     ]
    },
    {
     "cell_type": "markdown",
     "metadata": {},
     "source": [
      "[4] Integra lo que hemos visto hasta ahora en el curso para \u00a1dar una propuesta para una soluci\u00f3n al problema!"
     ]
    },
    {
     "cell_type": "heading",
     "level": 3,
     "metadata": {},
     "source": [
      "- Respuestas."
     ]
    },
    {
     "cell_type": "markdown",
     "metadata": {},
     "source": [
      "1.-"
     ]
    },
    {
     "cell_type": "markdown",
     "metadata": {},
     "source": [
      "Sabemos que $F=U-TS=-log(Z)/\\beta$, por lo tanto $Z=e^{-\\beta F}=\\sum_{\\sigma\\in\\Omega_N}e^{-\\beta E(\\sigma)}$"
     ]
    },
    {
     "cell_type": "markdown",
     "metadata": {},
     "source": [
      "2.-"
     ]
    },
    {
     "cell_type": "markdown",
     "metadata": {},
     "source": [
      "\\begin{equation}\n",
      "\\langle E\\rangle_{\\beta}=\\sum_\\sigma(p_T(\\sigma)E(\\sigma))=\\frac{1}{Z}\\sum_{\\sigma} e^{-\\beta E(\\sigma)}E(\\sigma)=\\frac{1}{Z}\\frac{\\partial Z}{\\partial\\beta}=\\frac{\\partial log(Z)}{\\partial \\beta}\n",
      "\\end{equation}"
     ]
    },
    {
     "cell_type": "markdown",
     "metadata": {},
     "source": [
      "3.-"
     ]
    },
    {
     "cell_type": "markdown",
     "metadata": {},
     "source": [
      "Vamos a tomar el arreglo cuadrado de tama\u00f1o $N\\times M$, y los vamos a transformar a un arreglo en 1d de tama\u00f1o $N\\times M$."
     ]
    },
    {
     "cell_type": "code",
     "collapsed": false,
     "input": [
      "function menosuno(elem)\n",
      "    if elem==0\n",
      "        elem=-1\n",
      "    else\n",
      "        elem=elem\n",
      "    end\n",
      "    elem\n",
      "end"
     ],
     "language": "python",
     "metadata": {},
     "outputs": [
      {
       "metadata": {},
       "output_type": "pyout",
       "prompt_number": 6,
       "text": [
        "menosuno (generic function with 1 method)"
       ]
      }
     ],
     "prompt_number": 6
    },
    {
     "cell_type": "code",
     "collapsed": false,
     "input": [
      "N,M=4,4\n",
      "function microestados(N,M)\n",
      "    estados=Any[] \n",
      "     for i in 1:(2^(N*M))\n",
      "        tupla=(bits(i-1))[(64-N*M+1):64]\n",
      "        array=Any[]\n",
      "        for i in 1:length(tupla)\n",
      "            push!(array,int(string(tupla[i])))\n",
      "        end\n",
      "        array=map(menosuno,array)\n",
      "        reshape(array,N,M)\n",
      "        push!(estados,array)\n",
      "    end\n",
      "    estados\n",
      "end"
     ],
     "language": "python",
     "metadata": {},
     "outputs": []
    },
    {
     "cell_type": "code",
     "collapsed": false,
     "input": [
      "@time estaditos=microestados(4,4);"
     ],
     "language": "python",
     "metadata": {},
     "outputs": [
      {
       "output_type": "stream",
       "stream": "stdout",
       "text": [
        "elapsed time: 1.199484567 seconds (348912048 bytes allocated, 52.28% gc time)\n"
       ]
      }
     ],
     "prompt_number": 7
    },
    {
     "cell_type": "code",
     "collapsed": false,
     "input": [
      "length(estaditos)"
     ],
     "language": "python",
     "metadata": {},
     "outputs": [
      {
       "metadata": {},
       "output_type": "pyout",
       "prompt_number": 14,
       "text": [
        "65536"
       ]
      }
     ],
     "prompt_number": 14
    },
    {
     "cell_type": "code",
     "collapsed": false,
     "input": [
      "N=4\n",
      "M=4\n",
      "@time estados=collect(product(repeated(-1:2:1,N*M)...));"
     ],
     "language": "python",
     "metadata": {},
     "outputs": [
      {
       "output_type": "stream",
       "stream": "stdout",
       "text": [
        "elapsed time: 1.349622779 seconds (234500684 bytes allocated, 24.08% gc time)\n"
       ]
      }
     ],
     "prompt_number": 3
    },
    {
     "cell_type": "code",
     "collapsed": false,
     "input": [
      "~([1,2] in prueba)"
     ],
     "language": "python",
     "metadata": {},
     "outputs": [
      {
       "metadata": {},
       "output_type": "pyout",
       "prompt_number": 9,
       "text": [
        "false"
       ]
      }
     ],
     "prompt_number": 9
    },
    {
     "cell_type": "code",
     "collapsed": false,
     "input": [
      "#Convertimos la tupla en un arreglo \n",
      "function toarray(tupla)\n",
      "    array=Any[]\n",
      "    for i in 1:length(tupla)\n",
      "        push!(array,tupla[i])\n",
      "    end\n",
      "    reshape(array,N,M)\n",
      "end"
     ],
     "language": "python",
     "metadata": {},
     "outputs": [
      {
       "metadata": {},
       "output_type": "pyout",
       "prompt_number": 5,
       "text": [
        "toarray (generic function with 1 method)"
       ]
      }
     ],
     "prompt_number": 5
    },
    {
     "cell_type": "code",
     "collapsed": false,
     "input": [
      "#Convertirlos a matriz\n",
      "estados=map(toarray,estados);"
     ],
     "language": "python",
     "metadata": {},
     "outputs": [],
     "prompt_number": 6
    },
    {
     "cell_type": "markdown",
     "metadata": {},
     "source": [
      "Vamos a usar el c\u00f3digo que se hizo en el notebook pasado para calcular la energ\u00eda"
     ]
    },
    {
     "cell_type": "code",
     "collapsed": false,
     "input": [
      "function Energia(\u03c3)\n",
      "    L1=size(\u03c3)[1]\n",
      "    L2=size(\u03c3)[2]\n",
      "    #Creamos la matriz con t\u00e9rminos de frontera peri\u00f3dicos\n",
      "    \u03a3=zeros(L1+2,L2+2)\n",
      "    for i in 2:L1+1\n",
      "        for j in 2:L2+1\n",
      "            \u03a3[i,j]=\u03c3[i-1,j-1]\n",
      "        end\n",
      "    end\n",
      "    #Valores de frontera peri\u00f3dicos\n",
      "    \u03a3[1,:]=\u03a3[L1+1,:]\n",
      "    \u03a3[L1+2,:]=\u03a3[2,:]\n",
      "    \u03a3[:,1]=\u03a3[:,L2+1]\n",
      "    \u03a3[:,L2+2]=\u03a3[:,2]\n",
      "    #Calculamos la energ\u00eda total\n",
      "    E=0\n",
      "    for i in 2:L1+1\n",
      "        for j in 2:L2+1\n",
      "            E+=-\u03a3[i,j]*(\u03a3[i-1,j]+\u03a3[i+1,j]+\u03a3[i,j-1]+\u03a3[i,j+1])/4\n",
      "        end\n",
      "    end\n",
      "    E\n",
      "end"
     ],
     "language": "python",
     "metadata": {},
     "outputs": [
      {
       "metadata": {},
       "output_type": "pyout",
       "prompt_number": 1,
       "text": [
        "Energia (generic function with 1 method)"
       ]
      }
     ],
     "prompt_number": 1
    },
    {
     "cell_type": "code",
     "collapsed": false,
     "input": [
      "Energias=map(Energia,estados);"
     ],
     "language": "python",
     "metadata": {},
     "outputs": [],
     "prompt_number": 8
    },
    {
     "cell_type": "code",
     "collapsed": false,
     "input": [
      "#Constante \u03b2, con kB=1\n",
      "\u03b2(T)=1/T"
     ],
     "language": "python",
     "metadata": {},
     "outputs": [
      {
       "metadata": {},
       "output_type": "pyout",
       "prompt_number": 9,
       "text": [
        "\u03b2 (generic function with 1 method)"
       ]
      }
     ],
     "prompt_number": 9
    },
    {
     "cell_type": "code",
     "collapsed": false,
     "input": [
      "#Funci\u00f3n de partici\u00f3n\n",
      "Z(T)=sum(map(exp,-\u03b2(T)*Energias))"
     ],
     "language": "python",
     "metadata": {},
     "outputs": [
      {
       "metadata": {},
       "output_type": "pyout",
       "prompt_number": 10,
       "text": [
        "Z (generic function with 1 method)"
       ]
      }
     ],
     "prompt_number": 10
    },
    {
     "cell_type": "code",
     "collapsed": false,
     "input": [
      "#Energia promedio\n",
      "function Ep(T)\n",
      "    Eprom=0\n",
      "    for i in 1:length(Energias)\n",
      "        Eprom+=exp(-\u03b2(T)*Energias[i])*Energias[i]\n",
      "    end\n",
      "    (1/Z(T))*Eprom\n",
      "end"
     ],
     "language": "python",
     "metadata": {},
     "outputs": [
      {
       "metadata": {},
       "output_type": "pyout",
       "prompt_number": 11,
       "text": [
        "Ep (generic function with 1 method)"
       ]
      }
     ],
     "prompt_number": 11
    },
    {
     "cell_type": "code",
     "collapsed": false,
     "input": [
      "plot(1:20, map(Z,1:20))"
     ],
     "language": "python",
     "metadata": {},
     "outputs": [
      {
       "metadata": {},
       "output_type": "display_data",
       "png": "[encoded data removed]",
       "text": [
        "Figure(PyObject <matplotlib.figure.Figure object at 0x7fba115cced0>)"
       ]
      },
      {
       "metadata": {},
       "output_type": "pyout",
       "prompt_number": 12,
       "text": [
        "1-element Array{Any,1}:\n",
        " PyObject <matplotlib.lines.Line2D object at 0x7fba249b7990>"
       ]
      }
     ],
     "prompt_number": 12
    },
    {
     "cell_type": "markdown",
     "metadata": {
      "collapsed": false
     },
     "source": [
      "Con un sistame de $10\\times10$ es suficiente para dejar trabajando una compu normal un rato."
     ]
    },
    {
     "cell_type": "code",
     "collapsed": false,
     "input": [
      "plot(1:20, map(Ep,1:20))"
     ],
     "language": "python",
     "metadata": {},
     "outputs": [
      {
       "metadata": {},
       "output_type": "display_data",
       "png": "[encoded data removed]",
       "text": [
        "Figure(PyObject <matplotlib.figure.Figure object at 0x7fba21779a10>)"
       ]
      },
      {
       "metadata": {},
       "output_type": "pyout",
       "prompt_number": 13,
       "text": [
        "1-element Array{Any,1}:\n",
        " PyObject <matplotlib.lines.Line2D object at 0x7fb9fbe76510>"
       ]
      }
     ],
     "prompt_number": 13
    },
    {
     "cell_type": "markdown",
     "metadata": {},
     "source": [
      "Mientras que la funci\u00f3n de particion disminuye cuando aumenta la temperatura, la energ\u00eda promedio aumenta"
     ]
    },
    {
     "cell_type": "code",
     "collapsed": false,
     "input": [
      "#Magnetizaci\u00f3n\n",
      "function magnet(\u03c3)\n",
      "    sum=0\n",
      "    for i in 1:size(\u03c3)[1]\n",
      "        for j in 1:size(\u03c3)[2]\n",
      "            sum+=M[i,j]\n",
      "        end\n",
      "    end\n",
      "    sum\n",
      "end"
     ],
     "language": "python",
     "metadata": {},
     "outputs": [
      {
       "metadata": {},
       "output_type": "pyout",
       "prompt_number": 14,
       "text": [
        "magnet (generic function with 1 method)"
       ]
      }
     ],
     "prompt_number": 14
    },
    {
     "cell_type": "code",
     "collapsed": false,
     "input": [
      "#Magnetizaci\u00f3n promedio\n",
      "function Mp(T)\n",
      "    Mprom=0\n",
      "    for i in 1:length(estados)\n",
      "        Mprom+=exp(-\u03b2(T)*Energias[i])*sum(estados[i])\n",
      "    end\n",
      "    (1/Z(T))*Mprom\n",
      "end"
     ],
     "language": "python",
     "metadata": {},
     "outputs": [
      {
       "metadata": {},
       "output_type": "pyout",
       "prompt_number": 15,
       "text": [
        "Mp (generic function with 1 method)"
       ]
      }
     ],
     "prompt_number": 15
    },
    {
     "cell_type": "code",
     "collapsed": false,
     "input": [
      "plot(1:100, map(Mp,1:100))"
     ],
     "language": "python",
     "metadata": {},
     "outputs": [
      {
       "metadata": {},
       "output_type": "display_data",
       "png": "[encoded data removed]",
       "text": [
        "Figure(PyObject <matplotlib.figure.Figure object at 0x7fb9fbe80310>)"
       ]
      },
      {
       "metadata": {},
       "output_type": "pyout",
       "prompt_number": 16,
       "text": [
        "1-element Array{Any,1}:\n",
        " PyObject <matplotlib.lines.Line2D object at 0x7fb9fbe19d10>"
       ]
      }
     ],
     "prompt_number": 16
    },
    {
     "cell_type": "markdown",
     "metadata": {
      "collapsed": true
     },
     "source": [
      "$\\langle M\\rangle$ oscila como loca, no existe un campo externo que se acople con la magnetizaci\u00f3n, entonces no tiene un arreglo preferencial."
     ]
    },
    {
     "cell_type": "markdown",
     "metadata": {
      "collapsed": false
     },
     "source": [
      "4.-"
     ]
    },
    {
     "cell_type": "markdown",
     "metadata": {
      "collapsed": false
     },
     "source": [
      "La idea es generar un cadena de Markov para las configuraciones $\\sigma$ que tenga como distribuci\u00f3n de equilibrio la ditribuci\u00f3n de Boltzmann $\\pi_T^{\\mathrm{(eq)}}(\\ss) = \\frac{1}{Z(\\beta)} e^{-\\beta E(\\ss)}$. Para esto obligamos a que nuestra matriz de transici\u00f3n cumpla las propiedades vistas en el notebook 6, esto es irreducible y aperi\u00f3dica y aparte que cumpla con la condici\u00f3n de balance respecto a la distribuci\u00f3n de Boltzmann:\n",
      "\\begin{equation}\n",
      " \\mathbb{P}_{ij}(\\pi)_i=\\mathbb{P}_{ji}(\\pi)_j\n",
      "\\end{equation}\n",
      "Para que converga a dicha distribuci\u00f3n."
     ]
    }
   ],
   "metadata": {}
  }
 ]
}