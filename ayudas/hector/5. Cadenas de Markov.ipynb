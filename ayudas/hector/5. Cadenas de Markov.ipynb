{
 "cells": [
  {
   "cell_type": "markdown",
   "metadata": {},
   "source": [
    "# Cadenas de Markov "
   ]
  },
  {
   "cell_type": "markdown",
   "metadata": {},
   "source": [
    "Un caminante aleatorio es un tipo particular de una *cadena de Markov*.\n",
    "\n",
    "Una cadena de Markov es, a su vez, un tipo de \n",
    "*proceso estocástico*, es decir una evolución en \n",
    "el tiempo que no es determinista, sino donde hay \n",
    "una probabilidad dada, el sistema lleva a cabo \n",
    "una *transición* hacia un estado nuevo. Las cadenas de Markov son de gran importancia hoy día en las ciencias.\n",
    "\n",
    "La particularidad de las cadenas de Markov es que satisfacen la *propiedad de Markov*: el estado nuevo depende *sólo de un estado anterior*. Se suele decir que el proceso *no tiene memoria*.\n",
    "\n",
    "Por ejemplo, una caminata aleatoria satisface esto, ya que la posición al tiempo $t+1$ depende sólo de la posición al tiempo $t$ (no de posiciones a tiempos anteriores).  "
   ]
  },
  {
   "cell_type": "markdown",
   "metadata": {},
   "source": [
    "Sea $X_n$ el estado del proceso al tiempo $n$. Nos interesaremos por el momento en procesos de Markov tal que\n",
    "$P(X_{n+1} = j \\, | \\, X_n = i) = p_{ij}$, independiente del tiempo. La notación aquí es de una *probabilidad condicional*, es decir, la probabilidad de que el sistema está en el estado $j$ al tiempo $n+1$, *dado que* estaba en el estado $i$ al tiempo $n$."
   ]
  },
  {
   "cell_type": "markdown",
   "metadata": {},
   "source": [
    "[1] Las $p_{ij}$ forman una matriz. \n",
    "\n",
    "(i) Escribe la matriz para un caminante aleatorio con fronteras reflejantes en 0 y $L=5$, si tiene probabilidades $p$, $q$, y $r$ de brincar a la derecha o izquierda, o de permanecer en el mismo lugar, respectivamente.\n",
    "\n",
    "(ii) ¿Qué propiedad debe satisfacer cualquier matriz de transición?\n",
    "\n",
    "[2] Considera una cadena que tiene 4 estados. Desde cada estado puede brincar a cada otro estado con igual probabilidad. \n",
    "\n",
    "(i) Escribe la matriz de transición $\\mathsf{P} = (p_{ij})$. ¿Qué propiedades tiene que satisfacer?\n",
    "\n",
    "(ii) ¿Qué tipo de propiedades nos podrían interesar?, suponiendo que esto modela un estado físico, químico o biológico que puede estar en uno de estos estados.\n",
    "\n",
    "(iii) Simula la dinámica del sistema: escribe una función que genera una realización de cierta longitud.\n",
    "\n",
    "(iv) Escribe funciones que calculen las cantidades de interes numéricamente.\n",
    "\n"
   ]
  },
  {
   "cell_type": "markdown",
   "metadata": {},
   "source": [
    "[3] Escribe una función para simular una realización de una trayectoria correspondiendo a una matriz de transición *arbitraria* $\\mathsf{P}$ que satisfaga las propiedades de 2(i)."
   ]
  },
  {
   "cell_type": "markdown",
   "metadata": {},
   "source": [
    "## Método estilo enumeración exacta"
   ]
  },
  {
   "cell_type": "markdown",
   "metadata": {},
   "source": [
    "Tal como hicimos para un caminante aleatorio, para una cadena de Markov también podemos cambiar de punto de vista y estudiar la evolución de la *distribución de probabilidad*, la cual nos dice la probabilidad de que la cadena se encuentra en cada estado al tiempo $t$.\n",
    "\n",
    "Primero veamos esto analíticamente."
   ]
  },
  {
   "cell_type": "markdown",
   "metadata": {},
   "source": [
    "[4] Supongamos que la cadena empieza en alguna distribución de probabilidad inicial $\\mathbf{P}_0 = (P_{0,i}: i=1, \\ldots, n)$, donde $n$ es el número de estados.\n",
    "\n",
    "(i) Escribe la ecuación maestra que describe cómo evoluciona la probabilidad en 1 paso.  \n",
    "\n",
    "(ii) Escríbela de nuevo, ahora usando notación matricial.\n",
    "\n",
    "(ii) ¿Qué pasa en 2 pasos? ¿En $N$ pasos?"
   ]
  },
  {
   "cell_type": "markdown",
   "metadata": {},
   "source": [
    "[5] Simula la dinámica de la cadena de Markov de la pregunta 2 desde una condición inicial que es una delta en algún estado por un tiempo $t$. ¿Qué observas cuando $t \\to \\infty$?"
   ]
  },
  {
   "cell_type": "markdown",
   "metadata": {},
   "source": [
    "[6] Este mismo fenómeno (lo que pasa cuando $t \\to \\infty$) ocurre para \"casi todas\" las cadenas de Markov (cuando se satisfacen ciertas condiciones técnicas). Explícalo usando propiedades de la matriz que vieron en álgebra lineal. ¿A qué corresponde lo que pasa cuando $t \\to \\infty$?"
   ]
  },
  {
   "cell_type": "markdown",
   "metadata": {},
   "source": [
    "##- Respuestas."
   ]
  },
  {
   "cell_type": "markdown",
   "metadata": {},
   "source": [
    "1.-"
   ]
  },
  {
   "cell_type": "code",
   "execution_count": 1,
   "metadata": {
    "collapsed": false
   },
   "outputs": [
    {
     "data": {
      "text/plain": [
       "0.7000000000000001"
      ]
     },
     "execution_count": 1,
     "metadata": {},
     "output_type": "execute_result"
    }
   ],
   "source": [
    "p=0.3\n",
    "q=0.4\n",
    "r=1-p-q\n",
    "p1=rand(5,5)\n",
    "for i in 1:5\n",
    "    for j in 1:5\n",
    "        if i==j\n",
    "            p1[i,j]=r\n",
    "        elseif i>j\n",
    "            p1[i,j]=q\n",
    "        else\n",
    "            p1[i,j]=p\n",
    "        end\n",
    "    end\n",
    "end\n",
    "p1[1,2]=1-r\n",
    "p1[5,4]=1-r"
   ]
  },
  {
   "cell_type": "code",
   "execution_count": 3,
   "metadata": {
    "collapsed": false
   },
   "outputs": [
    {
     "data": {
      "text/plain": [
       "5x5 Array{Float64,2}:\n",
       " 0.3  0.7  0.3  0.3  0.3\n",
       " 0.4  0.3  0.3  0.3  0.3\n",
       " 0.4  0.4  0.3  0.3  0.3\n",
       " 0.4  0.4  0.4  0.3  0.3\n",
       " 0.4  0.4  0.4  0.7  0.3"
      ]
     },
     "execution_count": 3,
     "metadata": {},
     "output_type": "execute_result"
    }
   ],
   "source": [
    "p1"
   ]
  },
  {
   "cell_type": "markdown",
   "metadata": {},
   "source": [
    "La matriz de transición es diagonal."
   ]
  },
  {
   "cell_type": "markdown",
   "metadata": {},
   "source": [
    "2.-"
   ]
  },
  {
   "cell_type": "code",
   "execution_count": 4,
   "metadata": {
    "collapsed": false
   },
   "outputs": [],
   "source": [
    "p2=rand(4,4)\n",
    "for i in 1:4\n",
    "    for j in 1:4\n",
    "        if i==j\n",
    "            p2[i,j]=0\n",
    "        else\n",
    "            p2[i,j]=1/3\n",
    "        end\n",
    "    end\n",
    "end"
   ]
  },
  {
   "cell_type": "markdown",
   "metadata": {},
   "source": [
    "Los renglones de la matriz suman 1 para que la suma de las probabilidades de estar en un lugar al tiempo t y se mueva a cualquier otro en el tiempo t+1 sea 1. Y que la diagnoal sea igual para que la probabilidad de quedarse en el mismo estado sea la misma para todos los estados."
   ]
  },
  {
   "cell_type": "markdown",
   "metadata": {},
   "source": [
    "Si dejamos correr el tiempo en el proceso de markov, con una cierta condición inicial $\\pi_{t=0}$, entonces la dinámica se dá iterando la aplicación de la matriz de transición al vector de masa:\n",
    "\\begin{equation}\n",
    "\\pi_{t=N+1}=P\\pi_{t=N}=P^N\\pi_{t=0}\n",
    "\\end{equation}\n",
    "A continuación simulamos 100 realizaciones"
   ]
  },
  {
   "cell_type": "code",
   "execution_count": 5,
   "metadata": {
    "collapsed": false
   },
   "outputs": [],
   "source": [
    "pi=Any[]\n",
    "push!(pi,[1.,0.,0.,0.])\n",
    "for i in 1:100\n",
    "    push!(pi,p2*pi[i])\n",
    "end"
   ]
  },
  {
   "cell_type": "code",
   "execution_count": 6,
   "metadata": {
    "collapsed": false
   },
   "outputs": [
    {
     "data": {
      "text/plain": [
       "evolucion (generic function with 1 method)"
      ]
     },
     "execution_count": 6,
     "metadata": {},
     "output_type": "execute_result"
    }
   ],
   "source": [
    "#Funcion de dinámica, te devuelve la distribucion al tiempo t, iniciando con pi0\n",
    "function evolucion(pi0,t)\n",
    "    (p2^t)pi0\n",
    "end"
   ]
  },
  {
   "cell_type": "markdown",
   "metadata": {},
   "source": [
    "3.-"
   ]
  },
  {
   "cell_type": "code",
   "execution_count": 7,
   "metadata": {
    "collapsed": false
   },
   "outputs": [
    {
     "data": {
      "text/plain": [
       "evolucionarb (generic function with 1 method)"
      ]
     },
     "execution_count": 7,
     "metadata": {},
     "output_type": "execute_result"
    }
   ],
   "source": [
    "#Lo haré para una matriz de 4x4\n",
    "function evolucionarb(P,pi0,t)\n",
    "    if(sum(P[1,:])==1 && sum(P[2,:])==1 && sum(P[3,:])==1 && sum(P[4,:])==1 && P[1,1]==P[2,2]==P[3,3]==P[4,4])\n",
    "        return (p2^t)pi0\n",
    "    else\n",
    "        println(\"Tu matriz no es de transición\")\n",
    "    end\n",
    "end"
   ]
  },
  {
   "cell_type": "code",
   "execution_count": 9,
   "metadata": {
    "collapsed": false
   },
   "outputs": [
    {
     "data": {
      "text/plain": [
       "4-element Array{Float64,1}:\n",
       " 0.25\n",
       " 0.25\n",
       " 0.25\n",
       " 0.25"
      ]
     },
     "execution_count": 9,
     "metadata": {},
     "output_type": "execute_result"
    }
   ],
   "source": [
    "pi0=[0,1,0,0]\n",
    "evolucionarb(p2,pi0,100)"
   ]
  },
  {
   "cell_type": "markdown",
   "metadata": {
    "collapsed": false
   },
   "source": [
    "4.-"
   ]
  },
  {
   "cell_type": "markdown",
   "metadata": {
    "collapsed": false
   },
   "source": [
    "Si empezamos con una probabilidad inicial $\\pi_0$, la ecuación maestra de la probabilidad será:\n",
    "\\begin{equation}\n",
    "\\pi_t(i)=q\\pi_{t-1}(i+1)+p\\pi_{t-1}(i-1)+r\\pi_{t-1}(i)\n",
    "\\end{equation}"
   ]
  },
  {
   "cell_type": "markdown",
   "metadata": {
    "collapsed": true
   },
   "source": [
    "En forma matricial sería:\n",
    "\\begin{equation}\n",
    "\\begin{bmatrix}\n",
    "\\pi_{t+1}(1) \\\\\n",
    "\\pi_{t+1}(2) \\\\\n",
    "\\pi_{t+1}(3) \\\\\n",
    ".\\\\\n",
    ".\\\\\n",
    ".\\\\\n",
    "\\end{bmatrix}=\n",
    "\\begin{bmatrix}\n",
    "r & q & 0 &...\\\\        \n",
    "p & r & q & ....\\\\\n",
    "0 & p & r & ....\\\\\n",
    ". & . & . & ...\\\\\n",
    ". & . & . & ...\\\\\n",
    ". & . & . & ...\n",
    "\\end{bmatrix}\n",
    "\\begin{bmatrix}\n",
    "\\pi_{t}(1) \\\\\n",
    "\\pi_{t}(2) \\\\\n",
    "\\pi_{t}(3) \\\\\n",
    ".\\\\\n",
    ".\\\\\n",
    ".\\\\\n",
    "\\end{bmatrix}\n",
    "\\end{equation}\n",
    "En N pasos se verá:\n",
    "En forma matricial sería:\n",
    "\\begin{equation}\n",
    "\\begin{bmatrix}\n",
    "\\pi_{N}(1) \\\\\n",
    "\\pi_{N}(2) \\\\\n",
    "\\pi_{N}(3) \\\\\n",
    ".\\\\\n",
    ".\\\\\n",
    ".\\\\\n",
    "\\end{bmatrix}=\n",
    "\\begin{bmatrix}\n",
    "r & q & 0 &...\\\\        \n",
    "p & r & q & ....\\\\\n",
    "0 & p & r & ....\\\\\n",
    ". & . & . & ...\\\\\n",
    ". & . & . & ...\\\\\n",
    ". & . & . & ...\n",
    "\\end{bmatrix}^N\n",
    "\\begin{bmatrix}\n",
    "\\pi_{0}(1) \\\\\n",
    "\\pi_{0}(2) \\\\\n",
    "\\pi_{0}(3) \\\\\n",
    ".\\\\\n",
    ".\\\\\n",
    ".\\\\\n",
    "\\end{bmatrix}\n",
    "\\end{equation}"
   ]
  },
  {
   "cell_type": "markdown",
   "metadata": {},
   "source": [
    "5.-"
   ]
  },
  {
   "cell_type": "markdown",
   "metadata": {
    "collapsed": true
   },
   "source": [
    "Con $N=100$ y $\\pi_0=(0,1,0,0)$, la distribución llega a un equilibrio $\\pi_{\\infty}=(0.25,0.25,0.25,0.25)$, esto es, de estar con la misma probabilidad en cualquiera de los 4 estados"
   ]
  },
  {
   "cell_type": "code",
   "execution_count": 10,
   "metadata": {
    "collapsed": false
   },
   "outputs": [
    {
     "data": {
      "text/plain": [
       "4-element Array{Float64,1}:\n",
       " 0.25\n",
       " 0.25\n",
       " 0.25\n",
       " 0.25"
      ]
     },
     "execution_count": 10,
     "metadata": {},
     "output_type": "execute_result"
    }
   ],
   "source": [
    "pi0=[0,1,0,0]\n",
    "evolucion(pi0,100)"
   ]
  },
  {
   "cell_type": "markdown",
   "metadata": {},
   "source": [
    "6.-"
   ]
  },
  {
   "cell_type": "markdown",
   "metadata": {},
   "source": [
    "Si se diagonaliza la matriz, al tomar $t\\rightarrow \\infty$ es elevar a la $t$ cada entrada de la diagonal y por lo tanto si las entradas son menores que 1 si va a converge. "
   ]
  }
 ],
 "metadata": {
  "kernelspec": {
   "display_name": "Julia 0.3.6-pre",
   "language": "julia",
   "name": "julia 0.3"
  },
  "language_info": {
   "name": "julia",
   "version": "0.3.6"
  }
 },
 "nbformat": 4,
 "nbformat_minor": 0
}
