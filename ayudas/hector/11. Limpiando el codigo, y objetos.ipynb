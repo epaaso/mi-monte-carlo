{
 "metadata": {
  "kernelspec": {
   "display_name": "Julia 0.3.8-pre",
   "language": "julia",
   "name": "julia 0.3"
  },
  "language": "Julia",
  "language_info": {
   "name": "julia",
   "version": "0.3.8"
  },
  "name": ""
 },
 "nbformat": 3,
 "nbformat_minor": 0,
 "worksheets": [
  {
   "cells": [
    {
     "cell_type": "markdown",
     "metadata": {},
     "source": [
      "Hasta ahora, tu c\u00f3digo probablemente est\u00e1 regado en uno o varios notebooks.\n",
      "La idea es, primero, recolectarlo en un lugar."
     ]
    },
    {
     "cell_type": "markdown",
     "metadata": {},
     "source": [
      "[1] Revisa la documentaci\u00f3n sobre **modules** (m\u00f3dulos) en Julia. Crea un m\u00f3dulo que se llama `Ising` (o `ModeloIsing`, o algo por el estilo), en un archivo `Ising.jl` tal que puedas incluir el c\u00f3digo (e.g. desde un notebook) con `using Ising`, y correrlo al llamar una sola funci\u00f3n que acepte los par\u00e1metros importantes del modelo (tama\u00f1o de la caja, temperatura, etc.).  [Se recomienda usar un editor que \"sepa Julia\", e.g. Juno, Sublime Text, Atom (o Emacs o Vim) para este prop\u00f3sito.]\n",
      "\n",
      "[2] Escribe un \"script\" (programa corto con c\u00f3digo de Julia) que toma los *argumentos de la l\u00ednea de comandos* [en Julia, \u00e9stos se guardan en la variable `ARGS`, y produce los plots de la energ\u00eda y magnetizaci\u00f3n en funci\u00f3n de la temperatura."
     ]
    },
    {
     "cell_type": "heading",
     "level": 2,
     "metadata": {},
     "source": [
      "Tests (pruebas)"
     ]
    },
    {
     "cell_type": "markdown",
     "metadata": {},
     "source": [
      "Cuando uno escribe software cient\u00edfico, es de suma importancia (evidentemente) que el software funcione correctamente. Sin embargo, desgraciadamente es, al mismo tiempo **\u00a1imposible garantizar que funcione correctamente**! Lo m\u00e1s que podamos hacer es dar una cierta medida de confianza de esto. Una manera de hacerlo es el escribir **tests** (pruebas).\n",
      "\n",
      "Los **unit tests** (pruebas unitarias) checan si las unidades del programa (b\u00e1sicamente, las funciones) hacen lo que deben hacer. \n",
      "En Julia, un paquete muy \u00fatil para escribir tests es [`FactCheck.jl`](https://github.com/JuliaLang/FactCheck.jl)."
     ]
    },
    {
     "cell_type": "markdown",
     "metadata": {},
     "source": [
      "[3] Revisa la documentaci\u00f3n de `FactCheck.jl`. Escribe, en un archivo aparte, tests para tu c\u00f3digo de Ising para asegurarte que\n",
      "est\u00e9n bien las siguientes funciones (por ejemplo):\n",
      "\n",
      "- la funci\u00f3n que calcule la energ\u00eda de una configuraci\u00f3n\n",
      "- la funci\u00f3n que calcule la diferencia de energ\u00eda\n",
      "- la funci\u00f3n que calcule la probabilidad de aceptaci\u00f3n, $\\alpha$\n",
      "\n",
      "Para hacerlo, escoge para cada funci\u00f3n varias inputs (entradas / argumentos) de la funci\u00f3n **para los cuales conoces de antemano la respuesta correcta** y checa si tu programa da los resultados esperados."
     ]
    },
    {
     "cell_type": "heading",
     "level": 1,
     "metadata": {},
     "source": [
      "Tipos "
     ]
    },
    {
     "cell_type": "markdown",
     "metadata": {},
     "source": [
      "Hasta ahora, no hay manera de hablar del \"modelo de Ising\" o del \"m\u00e9todo de Metropolis\" en tu c\u00f3digo --los conceptos est\u00e1n, de igual forma, regados por el programa. Julia permite llevar a cabo la **programaci\u00f3n orientada a objetos**, al definir tus propios **tipos** nuevos.\n",
      "\n",
      "Por ejemplo:"
     ]
    },
    {
     "cell_type": "code",
     "collapsed": false,
     "input": [
      "type Hola\n",
      "    a::Int\n",
      "    b\n",
      "end"
     ],
     "language": "python",
     "metadata": {},
     "outputs": [],
     "prompt_number": 1
    },
    {
     "cell_type": "markdown",
     "metadata": {},
     "source": [
      "define un *tipo nuevo de objeto*, que se llama `Hola`. Especifica que un objeto de este tipo contendr\u00e1 una propiedad `a`, que es, a fuerzas, de tipo `Int`, y otro objeto `b`, que puede ser de cualquier tipo."
     ]
    },
    {
     "cell_type": "markdown",
     "metadata": {},
     "source": [
      "[4] Encuentra la manera de *crear un objeto nuevo* de este tipo."
     ]
    },
    {
     "cell_type": "markdown",
     "metadata": {},
     "source": [
      "[5] \u00bfCu\u00e1les elementos de tu programa podr\u00edas tratar como objetos de esta forma? \u00bfC\u00f3mo se deber\u00edan comunicar entre ellos? [Nota que \u00a1no necesariamente hay respuestas \u00fanicas ni evidentes a esta pregunta!]"
     ]
    },
    {
     "cell_type": "markdown",
     "metadata": {},
     "source": [
      "[6] La programaci\u00f3n orientada a objetos requiere la posibilidad de manipular los objetos, al llamar funciones que act\u00faan con o en funci\u00f3n de ellos. Por ejemplo, si uno tiene un tipo `Configuracion`, podr\u00eda querer tener una funci\u00f3n `voltear` que act\u00faa sobre este objeto. \u00bfC\u00f3mo se puede hacer esto en Julia?"
     ]
    },
    {
     "cell_type": "markdown",
     "metadata": {},
     "source": [
      "[7] Escribe una nueva versi\u00f3n de tu c\u00f3digo, en el cual se separa los conceptos de esta manera."
     ]
    },
    {
     "cell_type": "heading",
     "level": 2,
     "metadata": {},
     "source": [
      "Control de versiones"
     ]
    },
    {
     "cell_type": "markdown",
     "metadata": {},
     "source": [
      "Es importante contar con una bit\u00e1cora de la evoluci\u00f3n de tu c\u00f3digo (y notebooks, datos, etc.) Para esto, se utiliza un *sistema de control de versiones*. El m\u00e1s com\u00fan hoy d\u00eda es [`git`](http://git-scm.com/).  Luego debes guardar tus archivos, y la bit\u00e1cora, en un lugar remoto, por ejemplo [GitHub](http://www.github.com)."
     ]
    },
    {
     "cell_type": "markdown",
     "metadata": {},
     "source": [
      "[8] Aprende a utilizar `git`, por ejemplo usando los primeros dos notebooks de [este curso](https://github.com/lbenet/MetodosNumericosAvanzados)."
     ]
    },
    {
     "cell_type": "markdown",
     "metadata": {},
     "source": [
      "[9] Crea un repositorio para tus archivos y notebooks y emp\u00fajalo a una cuenta en GitHub."
     ]
    },
    {
     "cell_type": "markdown",
     "metadata": {},
     "source": [
      "[10] Haz un \"fork\" del proyecto de alguien m\u00e1s y compara los c\u00f3digos. Trabaja en equipo para mejorar los c\u00f3digos y sube la nueva versi\u00f3n.\n",
      "\n",
      "Adapta tus tests para el c\u00f3digo ajeno \u00a1e intentar romperlo!"
     ]
    },
    {
     "cell_type": "heading",
     "level": 2,
     "metadata": {},
     "source": [
      "Profiling"
     ]
    },
    {
     "cell_type": "markdown",
     "metadata": {},
     "source": [
      "El \"profiling\" (perfilamiento) es una manera de encontrar d\u00f3nde se pasa m\u00e1s tiempo en tu programa.\n",
      "\n",
      "Julia tiene un comando (macro) `@time` que permite ver cu\u00e1nto tiempo pasa en una funci\u00f3n dada, e.g.\n",
      "\n",
      "    @time run(100)\n",
      "    \n",
      "Regresa informaci\u00f3n sobre el tiempo total y la memoria utilizada."
     ]
    },
    {
     "cell_type": "markdown",
     "metadata": {},
     "source": [
      "[11] Compara el tiempo de los dos c\u00f3digos con los mismos par\u00e1metros. Encuentra cu\u00e1les funciones son m\u00e1s lentas."
     ]
    },
    {
     "cell_type": "markdown",
     "metadata": {},
     "source": [
      "Julia tiene tambi\u00e9n `@profile run(100)` que recolecta informaci\u00f3n sobre las funciones en las cuales se pas\u00f3 m\u00e1s tiempo durante la corrida:"
     ]
    },
    {
     "cell_type": "markdown",
     "metadata": {},
     "source": [
      "    @profile run(100)\n",
      "    Profile.print()"
     ]
    },
    {
     "cell_type": "markdown",
     "metadata": {},
     "source": [
      "[12] Encuentra d\u00f3nde pasa tiempo tu programa. \u00bfHay alguna manera de acelerarlo?"
     ]
    },
    {
     "cell_type": "markdown",
     "metadata": {},
     "source": [
      "N\u00f3tese que estas optimizaciones **s\u00f3lo** se deben hacer **despu\u00e9s** de que ya tengas una versi\u00f3n **funcional** (a\u00fan si lenta) del programa. `git` permite rastrear todas las versiones anteriores del programa.\n",
      "\n",
      "Dijo Donald Knuth (uno de los comput\u00f3logos m\u00e1s destacados del siglo XX): \"La optimizaci\u00f3n prematura es la ra\u00edz de todos los males\"."
     ]
    }
   ],
   "metadata": {}
  }
 ]
}