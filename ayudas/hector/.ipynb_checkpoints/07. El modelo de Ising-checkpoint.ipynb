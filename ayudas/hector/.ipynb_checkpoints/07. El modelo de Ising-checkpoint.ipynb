{
 "cells": [
  {
   "cell_type": "code",
   "execution_count": 77,
   "metadata": {
    "collapsed": false
   },
   "outputs": [],
   "source": [
    "using PyPlot"
   ]
  },
  {
   "cell_type": "markdown",
   "metadata": {},
   "source": [
    "# El modelo de Ising"
   ]
  },
  {
   "cell_type": "markdown",
   "metadata": {},
   "source": [
    "El modelo de Ising es un modelo simplificado de un imán tipo hierro.\n",
    "\n",
    "Consideremos que hay una red periódica de átomos, y que cada átomo tiene un \"espín\" (dipolo magnético, o \"imancito\") que puede apuntar hacia arriba o hacia abajo. Los dipolos *interactúan* con sus vecinos: en el caso ferromagnético, hay una tendencia a que *se alineen* con sus vecinos. \n",
    "\n",
    "[Esto se debe a la llamada *interacción de intercambio*, el cual es un fenómeno cuántico complicado; véase, por ejemplo, el libro *The Theory of Magnetism Made Simple* de Mattis.  No es, de hecho, ¡nada \"simple\"...!]"
   ]
  },
  {
   "cell_type": "markdown",
   "metadata": {},
   "source": [
    "Inicialmente trabajeremos con una red cuadrada en dos dimensiones, de tamaño finito $L \\times L$. Llamaremos $N := L^2$ el número de espines.\n",
    "\n",
    "Denotaremos el espín en el lugar $i$ por $\\sigma_i \\in \\{+1, -1\\}$, y por una configuración completa por $\\pmb {\\sigma} := (\\sigma_{i})_{i=1}^{N}$. [Nótese que estamos pensando aquí que cada sitio tiene una etiqueta que es un entero. También será útil pensar que la etiqueta es de la forma $(i,j)$.]\n",
    "\n",
    "Denotaremos por $\\Omega_{N}$ el conjunto de todas las configuraciones posibles, es decir, el *espacio de configuraciones*."
   ]
  },
  {
   "cell_type": "markdown",
   "metadata": {},
   "source": [
    "[1] ¿Cuál es la cardinalidad $|\\Omega_N|$, es decir, cuántas configuraciones hay?\n",
    "\n",
    "[2] Escribe una función que genere una configuración \"aleatoria\". ¿Qué tipo de aleatoriedad es?\n",
    "\n",
    "[3] La *magnetización* de una configuración $\\pmb \\sigma$ se define como $M(\\pmb \\sigma) := \\sum_i \\sigma_i$. \n",
    "\n",
    "(i) Escribe una función para calcular la magnetización de una configuración.\n",
    "\n",
    "(ii) ¿Cuáles son los valores posibles de la magnetización para un sistema de tamaño $N$?\n",
    "\n",
    "(iii) Genera bastantes configuraciones al azar y calcula la magnetización de cada una.\n",
    "\n",
    "(iv) ¿Cuáles valores realmente toma? Dibuja un histograma de los valores de la magnetización que obtienes para un sistema grande. ¿Qué observas?"
   ]
  },
  {
   "cell_type": "markdown",
   "metadata": {},
   "source": [
    "[4] Podemos llevar a cabo un proceso estocástico en el espacio $\\Omega$. Un paso es como sigue:\n",
    "\n",
    "1. Escoge un espín al azar.\n",
    "\n",
    "2. Cambiarlo al valor opuesto. (Esto se suele llamar un \"flip\" = \"darle la vuelta\".)\n",
    "\n",
    "(i) ¿Qué tipo de proceso es? ¿A qué te recuerda?\n",
    "\n",
    "(ii) Impleméntalo, partiendo de una configuración aleatoria. \n",
    "\n",
    "(iii) Dibuja cómo cambia la magnetización en el tiempo. ¿Qué observas?  \n",
    "\n",
    "(iv) ¿Cuál es el *promedio temporal* (promedio *en el tiempo*) de la magnetización?\n",
    "\n"
   ]
  },
  {
   "cell_type": "markdown",
   "metadata": {},
   "source": [
    "## La energía"
   ]
  },
  {
   "cell_type": "markdown",
   "metadata": {},
   "source": [
    "Hasta ahora, no hemos modelado las *interacciones* entre los espines, que es lo que hace interesante y rico el modelo. Para ello, tomaremos en cuenta que los espines \"quieren\" alinearse con sus vecinos, es decir, que la *energía* será *menor* cuando dos vecinos estén alineados."
   ]
  },
  {
   "cell_type": "markdown",
   "metadata": {},
   "source": [
    "[5] Considera un par de espines vecinos $\\sigma_i$ y $\\sigma_j$. Escribe una tabla de los valores posibles de los dos espines y las energías correspondientes que asignaremos."
   ]
  },
  {
   "cell_type": "markdown",
   "metadata": {},
   "source": [
    "[6] (i) Implementa una función que toma una configuración $\\pmb \\sigma$ y regresa la energía correspondiente $E(\\pmb \\sigma)$. \n",
    "\n",
    "(ii) Calcula analíticamente los valores mínimo y máximo posible de la energía para un sistema de tamaño $L_1 \\times L_2$. ¿A qué tipo de configuraciones corresponden? ¿Cuántas configuraciones hay con estos valores de la energía?\n",
    "\n",
    "(iii) Verifica que tu código reproduzca estos resultados analíticos para estas configuraciones."
   ]
  },
  {
   "cell_type": "markdown",
   "metadata": {},
   "source": [
    "[7] En la pregunta [6], hubo que escoger qué hacer en las fronteras e la configuración finita. Enumera unas posibilidades de cómo tratar las fronteras e impleméntalas, en particular el caso de fronteras **periódicas**."
   ]
  },
  {
   "cell_type": "markdown",
   "metadata": {},
   "source": [
    "### - Respuestas."
   ]
  },
  {
   "cell_type": "markdown",
   "metadata": {},
   "source": [
    "1.-"
   ]
  },
  {
   "cell_type": "markdown",
   "metadata": {},
   "source": [
    "Cada espín tiene dos estados (arriba y abajo) por lo que el espacio de configuraciones tiene cardinalidad $|\\Omega_N|=2^N$. Vamos a denotar las posiciones de los espines por pares ordenados $(i,j)\\in \\mathbb{N}^2$, la siguiente función genera una matriz de estados de espines con pseudoaleatoriedad uniforme (distribución de probabilidad uniforme):"
   ]
  },
  {
   "cell_type": "markdown",
   "metadata": {},
   "source": [
    "2.-"
   ]
  },
  {
   "cell_type": "code",
   "execution_count": 28,
   "metadata": {
    "collapsed": false
   },
   "outputs": [
    {
     "data": {
      "text/plain": [
       "config (generic function with 1 method)"
      ]
     },
     "execution_count": 28,
     "metadata": {},
     "output_type": "execute_result"
    }
   ],
   "source": [
    "function config(N)\n",
    "    2*int(rand(N,N))-1\n",
    "end"
   ]
  },
  {
   "cell_type": "markdown",
   "metadata": {},
   "source": [
    "3.-"
   ]
  },
  {
   "cell_type": "code",
   "execution_count": 29,
   "metadata": {
    "collapsed": false
   },
   "outputs": [
    {
     "data": {
      "text/plain": [
       "magnet (generic function with 1 method)"
      ]
     },
     "execution_count": 29,
     "metadata": {},
     "output_type": "execute_result"
    }
   ],
   "source": [
    "function magnet(M)\n",
    "    sum=0\n",
    "    for i in 1:size(M)[1]\n",
    "        for j in 1:size(M)[2]\n",
    "            sum+=M[i,j]\n",
    "        end\n",
    "    end\n",
    "    sum\n",
    "end"
   ]
  },
  {
   "cell_type": "markdown",
   "metadata": {},
   "source": [
    "La magnetización en un sistema de tamaño N está entre $-N$ y $N$."
   ]
  },
  {
   "cell_type": "code",
   "execution_count": 36,
   "metadata": {
    "collapsed": false
   },
   "outputs": [],
   "source": [
    "configs=Any[]\n",
    "for i in 1:1000\n",
    "    push!(configs, magnet(config(1000)))\n",
    "end"
   ]
  },
  {
   "cell_type": "code",
   "execution_count": 39,
   "metadata": {
    "collapsed": false
   },
   "outputs": [
    {
     "data": {
      "image/png": "[encoded data removed]",
      "text/plain": [
       "Figure(PyObject <matplotlib.figure.Figure object at 0x11a0d4a90>)"
      ]
     },
     "metadata": {},
     "output_type": "display_data"
    },
    {
     "data": {
      "text/plain": [
       "([12.0,49.0,97.0,207.0,243.0,219.0,107.0,52.0,11.0,3.0],[-2816.0,-2185.8,-1555.6,-925.4,-295.2,335.0,965.2,1595.4,2225.6,2855.8,3486.0],{PyObject <matplotlib.patches.Rectangle object at 0x11a1bf7d0>,PyObject <matplotlib.patches.Rectangle object at 0x11a1bfe50>,PyObject <matplotlib.patches.Rectangle object at 0x11a1d2510>,PyObject <matplotlib.patches.Rectangle object at 0x11a1d2b90>,PyObject <matplotlib.patches.Rectangle object at 0x11a1e0250>,PyObject <matplotlib.patches.Rectangle object at 0x11a1e08d0>,PyObject <matplotlib.patches.Rectangle object at 0x11a1e0f50>,PyObject <matplotlib.patches.Rectangle object at 0x11a1ee610>,PyObject <matplotlib.patches.Rectangle object at 0x11a1eec90>,PyObject <matplotlib.patches.Rectangle object at 0x11a1fc350>})"
      ]
     },
     "execution_count": 39,
     "metadata": {},
     "output_type": "execute_result"
    }
   ],
   "source": [
    "PyPlot.plt.hist(configs)"
   ]
  },
  {
   "cell_type": "markdown",
   "metadata": {
    "collapsed": false
   },
   "source": [
    "El histograma presenta una distribución central (centrada en el cero)."
   ]
  },
  {
   "cell_type": "markdown",
   "metadata": {
    "collapsed": true
   },
   "source": [
    "4.-"
   ]
  },
  {
   "cell_type": "markdown",
   "metadata": {},
   "source": [
    "El proceso de voltear un espín es un proceso independiente. Me recuerda a una caminata aleatoria."
   ]
  },
  {
   "cell_type": "code",
   "execution_count": 43,
   "metadata": {
    "collapsed": false
   },
   "outputs": [],
   "source": [
    "#Partimos de una configuración aleatoria de 1000x1000\n",
    "M=config(1000);"
   ]
  },
  {
   "cell_type": "code",
   "execution_count": 62,
   "metadata": {
    "collapsed": false
   },
   "outputs": [
    {
     "data": {
      "text/plain": [
       "flip (generic function with 1 method)"
      ]
     },
     "execution_count": 62,
     "metadata": {},
     "output_type": "execute_result"
    }
   ],
   "source": [
    "#Función de flipar\n",
    "function flip(M)\n",
    "    i,j=int(999rand())+1,int(999rand())+1\n",
    "    M[i,j]=-M[i,j]\n",
    "    M\n",
    "end"
   ]
  },
  {
   "cell_type": "code",
   "execution_count": 69,
   "metadata": {
    "collapsed": false
   },
   "outputs": [],
   "source": [
    "procflip=Any[]\n",
    "M=config(1000)\n",
    "for i in 1:300\n",
    "    push!(procflip,magnet(M))\n",
    "    M=flip(M)\n",
    "end"
   ]
  },
  {
   "cell_type": "code",
   "execution_count": 73,
   "metadata": {
    "collapsed": false
   },
   "outputs": [
    {
     "data": {
      "image/png": "[encoded data removed]",
      "text/plain": [
       "Figure(PyObject <matplotlib.figure.Figure object at 0x11a5f5810>)"
      ]
     },
     "metadata": {},
     "output_type": "display_data"
    },
    {
     "data": {
      "text/plain": [
       "PyObject <matplotlib.text.Text object at 0x11a7bec10>"
      ]
     },
     "execution_count": 73,
     "metadata": {},
     "output_type": "execute_result"
    }
   ],
   "source": [
    "plot(1:300,procflip)\n",
    "xlabel(\"Tiempo\")\n",
    "ylabel(\"Magnetización\")\n",
    "title(\"Magnetización en el tiempo\")"
   ]
  },
  {
   "cell_type": "markdown",
   "metadata": {},
   "source": [
    "La gráfica es muy parecida a una caminata aleatoria"
   ]
  },
  {
   "cell_type": "code",
   "execution_count": 75,
   "metadata": {
    "collapsed": false
   },
   "outputs": [
    {
     "data": {
      "text/plain": [
       "254.52"
      ]
     },
     "execution_count": 75,
     "metadata": {},
     "output_type": "execute_result"
    }
   ],
   "source": [
    "promedio=sum(procflip)/300"
   ]
  },
  {
   "cell_type": "markdown",
   "metadata": {},
   "source": [
    "5.-"
   ]
  },
  {
   "cell_type": "markdown",
   "metadata": {},
   "source": [
    "Tabla con espines posibles y energías (se le asiganará energía $\\sigma_i\\sigma_j$):\n",
    "\n",
    "|$\\sigma_i$|$\\sigma_j$|$E$|\n",
    "|:----:|:----:|:----:|\n",
    "|1|1|1|\n",
    "|-1|1|-1|\n",
    "|1|-1|-1|\n",
    "|-1|-1|1|"
   ]
  },
  {
   "cell_type": "markdown",
   "metadata": {},
   "source": [
    " 6.-"
   ]
  },
  {
   "cell_type": "markdown",
   "metadata": {},
   "source": [
    "Vamos a tomar los vecinos como periódicos para una configuración de $1000\\times1000$:"
   ]
  },
  {
   "cell_type": "code",
   "execution_count": 107,
   "metadata": {
    "collapsed": false
   },
   "outputs": [
    {
     "data": {
      "text/plain": [
       "Energia (generic function with 1 method)"
      ]
     },
     "execution_count": 107,
     "metadata": {},
     "output_type": "execute_result"
    }
   ],
   "source": [
    "function Energia(σ)\n",
    "    L1=size(σ)[1]\n",
    "    L2=size(σ)[2]\n",
    "    #Creamos la matriz con términos de frontera periódicos\n",
    "    Σ=zeros(L1+2,L2+2)\n",
    "    for i in 2:L1+1\n",
    "        for j in 2:L2+1\n",
    "            Σ[i,j]=σ[i-1,j-1]\n",
    "        end\n",
    "    end\n",
    "    #Valores de frontera periódicos\n",
    "    Σ[1,:]=Σ[L1+1,:]\n",
    "    Σ[L1+2,:]=Σ[2,:]\n",
    "    Σ[:,1]=Σ[:,L2+1]\n",
    "    Σ[:,L2+2]=Σ[:,2]\n",
    "    #Calculamos la energía total\n",
    "    E=0\n",
    "    for i in 2:L1+1\n",
    "        for j in 2:L2+1\n",
    "            E+=Σ[i,j]*(Σ[i-1,j]+Σ[i+1,j]+Σ[i,j-1]+Σ[i,j+1])/4\n",
    "        end\n",
    "    end\n",
    "    E\n",
    "end"
   ]
  },
  {
   "cell_type": "markdown",
   "metadata": {},
   "source": [
    "El valor máximo de energía que puede tomar en un arreglo de $L_1\\times L_2$ espines es cuando todos los espines están alienados $E_{max}=\\frac{L_1\\times L_2}{4}$ hay dos configuraciones posibles de esto, por otro lado no es trivial encontrar la configuración de energía mínima de una red dos dimensional, pero intuitivamente sería tener a la mitad de los espines hacia arriba y a la mitad hacia abajo con energía $-\\frac{L_1\\times L_2}{4}$, el número de configuraciones con esa propiedad es $C\\left(L_1L_2,\\frac{L_1L_2}{2}\\right)$."
   ]
  },
  {
   "cell_type": "code",
   "execution_count": 117,
   "metadata": {
    "collapsed": false
   },
   "outputs": [
    {
     "data": {
      "text/plain": [
       "20000.0"
      ]
     },
     "execution_count": 117,
     "metadata": {},
     "output_type": "execute_result"
    }
   ],
   "source": [
    "#Veamos la energía máxima\n",
    "Energia(ones(100,100))"
   ]
  },
  {
   "cell_type": "markdown",
   "metadata": {},
   "source": [
    "7.-"
   ]
  },
  {
   "cell_type": "markdown",
   "metadata": {},
   "source": [
    "Podemos tener valores de frontera fijos, o valores de fronteras móviles como las condiciones periódicas que ya fueron implementadas"
   ]
  }
 ],
 "metadata": {
  "kernelspec": {
   "display_name": "Julia 0.3.6-pre",
   "language": "julia",
   "name": "julia 0.3"
  },
  "language_info": {
   "name": "julia",
   "version": "0.3.6"
  }
 },
 "nbformat": 4,
 "nbformat_minor": 0
}
