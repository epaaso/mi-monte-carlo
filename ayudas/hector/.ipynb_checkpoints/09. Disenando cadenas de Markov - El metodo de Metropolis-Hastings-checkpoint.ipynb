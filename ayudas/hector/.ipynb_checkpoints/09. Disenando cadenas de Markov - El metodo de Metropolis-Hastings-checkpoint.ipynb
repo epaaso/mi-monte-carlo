{
 "cells": [
  {
   "cell_type": "markdown",
   "metadata": {},
   "source": [
    "# Diseñar una cadena de Markov "
   ]
  },
  {
   "cell_type": "markdown",
   "metadata": {},
   "source": [
    "$\\newcommand{\\ss}{\\pmb \\sigma}\n",
    "\\newcommand{\\tt}{\\pmb \\tau}\n",
    "\\newcommand{\\pp}{\\pmb \\pi}$\n",
    "\n",
    "Ahora estamos listos para poder ¡*simular el modelo de Ising a una temperatura $T$ fija*!\n",
    "Ocuparemos todo lo que hemos visto hasta ahora en el curso.\n",
    "\n",
    "La idea *genial*, que se ha redescubierto varias veces, es el de **diseñar una cadena de Markov**, es decir, diseñar su matriz de transición, tal que **su distribución estacionaria es la que queramos**. Llamaremos la distribución estacionaria $\\pi(\\ss)$.\n",
    "\n",
    "En el caso de la física estadística, la distribución deseada es (por el momento) la de Boltzmann,\n",
    "\n",
    "$$\\pi(\\ss) = \\frac{1}{Z(\\beta)} e^{-\\beta E(\\ss)}.$$\n",
    "\n",
    "Pero en otros contextos, por ejemplo en la estadística (y posteriormente en el curso), podría interesarnos generar distintas distribuciones estacionarias.\n",
    "\n",
    "La idea es, entonces, **diseñar** una matriz de transición $P(\\ss \\to \\tt)$, la cual, recordemos, da las probabilidades de que la cadena, estando en el microestado (configuración) $\\ss$, brinque al microestado $\\tt$, con el fin de que la cadena de Markov correspondiente a esta matriz de transición tenga la distribución estacionaria $\\pi(\\ss)$ deseada.\n",
    "\n",
    "Resta una sola pregunta: ¿cómo hacer esto?\n"
   ]
  },
  {
   "cell_type": "markdown",
   "metadata": {},
   "source": [
    "## Balance detallado "
   ]
  },
  {
   "cell_type": "markdown",
   "metadata": {},
   "source": [
    "Recordemos de un notebook anterior que hay una condición *necesaria* para que la distribución de probabilidad $\\pp$ sea una distribución estacionaria de la matriz de transición $\\mathsf{P}$ con entradas $P(\\ss \\to \\tt)$, llamada la *condición de balance*. \n",
    "\n",
    "Físicamente, la condición de balance expresa el hecho de que la cantidad de probabilidad que fluye de $\\ss$ a todos los demás estados en un paso es la misma que la cantidad de probabilidad que fluye de todos los demás estados hacia $\\ss$."
   ]
  },
  {
   "cell_type": "markdown",
   "metadata": {},
   "source": [
    "[1] Escribe la condición de balance usando esta notación."
   ]
  },
  {
   "cell_type": "markdown",
   "metadata": {},
   "source": [
    "Muchos métodos de Monte Carlo usan una condición más fuerte, que es *suficiente*, pero no *necesaria*, para que la distribución $\\pi$ sea estacionaria para la cadena. Esta condición se llama la condición de **balance detallado**, y dice que el flujo de probabilidad de un estado $\\ss$ a otro $\\tt$ es igual al flujo al revés, de $\\tt$ a $\\ss$, para *cualquier* par de estados $\\ss$ y $\\tt$.\n",
    "\n",
    "La condición de balance detallado se suele *imponer*, ya que hace más fácil derivar una cadena de Markov adecuada."
   ]
  },
  {
   "cell_type": "markdown",
   "metadata": {},
   "source": [
    "[2] (i) Escribe una fórmula para la condición de balance detallado.\n",
    "\n",
    "(ii) De ahí extrae una condición sobre las probabilidades de transición, en términos de las $\\pi(\\ss)$. \n",
    "\n",
    "(iii) En el caso de la distribución de Boltzmann, ¿qué pasa con la $Z$ en esta expresión? "
   ]
  },
  {
   "cell_type": "markdown",
   "metadata": {},
   "source": [
    "El punto que vimos en el 2(iii) es crucial -- quiere decir que **no es necesario conocer la constante de normalización de la distribución de probabilidad**."
   ]
  },
  {
   "cell_type": "markdown",
   "metadata": {},
   "source": [
    "## Metropolis-Hastings"
   ]
  },
  {
   "cell_type": "markdown",
   "metadata": {},
   "source": [
    "Pensemos en el modelo de Ising. Tenemos configuraciones $\\ss$ y necesitamos diseñar probabilidades de transición a otras configuraciones $\\tt$. Una manera natural de **generar** una nueva configuración es el voltear un espín. Esto nos da una probabilidad $g(\\ss \\to \\tt)$."
   ]
  },
  {
   "cell_type": "markdown",
   "metadata": {},
   "source": [
    "[3] ¿Cuánto es $g(\\ss \\to \\tt)$ si $\\ss$ y $\\tt$ difieren en el valor de sólo un espín? ¿Si difieren en más de un espín?"
   ]
  },
  {
   "cell_type": "markdown",
   "metadata": {},
   "source": [
    "Habiendo generado, o *propuesto*, una nueva configuración, tenemos que ver si es \"adecuado\": lo **aceptaremos** con probabilidad $\\alpha(\\ss \\to \\tt)$, en cuyo caso el estado del sistema cambiará a $\\tt$, y lo **rechazamos** con probabilidad $1-\\alpha(\\ss \\to \\tt)$, en cuyo caso el sistema se queda en el mismo estado $\\ss$."
   ]
  },
  {
   "cell_type": "markdown",
   "metadata": {},
   "source": [
    "La probabilidad de transición $P(\\ss \\to \\tt)$ es la combinación de las dos:\n",
    "\n",
    "$$P(\\ss \\to \\tt) = g(\\ss \\to \\tt) \\cdot \\alpha(\\ss \\to \\tt)$$"
   ]
  },
  {
   "cell_type": "markdown",
   "metadata": {},
   "source": [
    "[4] Para el caso de voltear un solo espín, ¿cómo se comparan $g(\\ss \\to \\tt)$ y $g(\\tt \\to \\ss)$. Así, encuentra una relación entre $\\alpha$ y $\\pi$."
   ]
  },
  {
   "cell_type": "markdown",
   "metadata": {},
   "source": [
    "Ahora debemos resolver esta ecuación para encontrar $\\alpha$ en términos de $\\pi$. Sin embargo, le ecuación *no* determina $\\alpha$ de forma *única* --tenemos cierta libertad. "
   ]
  },
  {
   "cell_type": "markdown",
   "metadata": {},
   "source": [
    "[5] Supón que el más grande de $\\alpha(\\ss \\to \\tt)$ y $\\alpha(\\tt \\to \\ss)$ sea $1$. [Ésta es la elección conocida como \"Metropolis-Hastings\".] \n",
    "\n",
    "(i) Encuentra una expresión para $\\alpha(\\ss \\to \\tt)$ en términos de $\\pi$.\n",
    "\n",
    "(ii) Escríbelo explícitamente para la distribución de Boltzmann en el modelo de Ising. ¿Cómo depende de la temperatura (o de $\\beta$)?"
   ]
  },
  {
   "cell_type": "markdown",
   "metadata": {},
   "source": [
    "## Simulando el modelo de Ising"
   ]
  },
  {
   "cell_type": "markdown",
   "metadata": {},
   "source": [
    "[6] (i) Implementa todo esto en el modelo de Ising:\n",
    "\n",
    "- Empieza en una configuración aleatoria.\n",
    "- En cada paso, escoge un espín al azar que se propone para voltearse.\n",
    "- Acepta el cambio a la configuración nueva con la probabilidad que encontraste en la pregunta 5; si no, el sistema se queda donde está.\n",
    "\n",
    "(ii) En tu simulación, espera un buen rato, y luego promedia la energía y la magnetización en el tiempo.\n",
    "\n",
    "(iii) Así, encuentra estimados de $\\langle E \\rangle_T$, y dibújalas como función de $T$.\n",
    "\n",
    "(iv) Dibuja la energía *por espín* promedio en función de $T$ para distintos tamaños del sistema $L$, todas en una sola gráfica. ¿Qué observas?"
   ]
  },
  {
   "cell_type": "markdown",
   "metadata": {},
   "source": [
    "[7] Repite lo mismo para la magnetización. ¿Qué observas? ¿Qué solución le podríamos dar? Hazlo. ¿Qué observas?"
   ]
  },
  {
   "cell_type": "markdown",
   "metadata": {},
   "source": [
    "- Respuestas."
   ]
  },
  {
   "cell_type": "markdown",
   "metadata": {},
   "source": [
    "1.-"
   ]
  },
  {
   "cell_type": "markdown",
   "metadata": {
    "collapsed": true
   },
   "source": [
    "La condición de balance será:\n",
    "\\begin{equation}\n",
    "\\sum_{\\tau\\in\\Omega}\\pi(\\sigma)P(\\sigma\\rightarrow \\tau)=\\sum_{\\tau\\in\\Omega}\\pi(\\tau)P(\\tau\\rightarrow \\sigma)\n",
    "\\end{equation}"
   ]
  },
  {
   "cell_type": "markdown",
   "metadata": {},
   "source": [
    "2.-"
   ]
  },
  {
   "cell_type": "markdown",
   "metadata": {},
   "source": [
    "La condición de balance detallado:\n",
    "\\begin{equation}\n",
    "\\pi(\\sigma)P(\\sigma\\rightarrow\\tau)=\\pi(\\tau)P(\\tau\\rightarrow\\sigma)\\text{     } \\forall \\sigma,\\tau\\in\\Omega\n",
    "\\end{equation}\n",
    "por lo tanto la probabilidad de transici\\'on tiene la propiedad \n",
    "$$\\frac{P(\\sigma\\rightarrow\\tau)}{P(\\tau\\rightarrow\\sigma)}=\\frac{\\pi(\\tau)}{\\pi(\\sigma)}=e^{-\\beta (E(\\ss) -E(\\tt))}$$\n",
    "en el caso de la distribuci\\'on de Boltzmann $Z(\\beta)$ desaparece de la expresión."
   ]
  },
  {
   "cell_type": "markdown",
   "metadata": {
    "collapsed": true
   },
   "source": [
    "3.-"
   ]
  },
  {
   "cell_type": "markdown",
   "metadata": {},
   "source": [
    "Si $g(\\ss\\rightarrow\\tt)$ es la probabilidad de transición de voltear un espín, si $\\ss$ y $\\tau$ difieren en 1 espín y supongamos que tenemos $N$ espines en totoal entonces $g(\\ss\\rightarrow\\tt)=\\frac{1}{N}$ y si difieren en más de uno entonces $g(\\ss\\rightarrow\\tt)=0$."
   ]
  },
  {
   "cell_type": "markdown",
   "metadata": {},
   "source": [
    "4.-"
   ]
  },
  {
   "cell_type": "markdown",
   "metadata": {},
   "source": [
    "Para el caso de voltear un solo espín, $g(\\ss\\rightarrow\\tt)=g(\\tt\\rightarrow\\ss)$, por lo tanto: \n",
    "$$\\frac{\\pi(\\tt)}{\\pi(\\ss)}=\\frac{P(\\ss\\rightarrow\\tt)}{P(\\tt\\rightarrow\\ss)}=\\frac{g(\\ss\\rightarrow\\tt)\\cdot\\alpha(\\ss\\rightarrow\\tt)}{g(\\tt\\rightarrow\\ss)\\cdot\\alpha(\\tt\\rightarrow\\ss)}=\\frac{\\alpha(\\ss\\rightarrow\\tt)}{\n",
    "\\alpha(\\tt\\rightarrow\\ss)}$$"
   ]
  },
  {
   "cell_type": "markdown",
   "metadata": {},
   "source": [
    "5.-"
   ]
  },
  {
   "cell_type": "markdown",
   "metadata": {},
   "source": [
    "Como $\\text{max}(\\alpha(\\ss\\rightarrow\\tt),\\alpha(\\ss\\rightarrow\\ss))=1$ entonces $\\alpha(\\ss\\rightarrow\\tt)=\\frac{\\pi(\\tt)}{\\pi(\\ss)}$ y en el caso de la distribución de Boltzmann $\\alpha(\\ss\\rightarrow\\tt)=e^{-\\beta (E(\\tt) -E(\\ss))}$"
   ]
  },
  {
   "cell_type": "markdown",
   "metadata": {},
   "source": [
    "6.-"
   ]
  },
  {
   "cell_type": "code",
   "execution_count": 3,
   "metadata": {
    "collapsed": false
   },
   "outputs": [
    {
     "data": {
      "text/plain": [
       "config (generic function with 1 method)"
      ]
     },
     "execution_count": 3,
     "metadata": {},
     "output_type": "execute_result"
    }
   ],
   "source": [
    "function config(N)\n",
    "    2*int(rand(N,N))-1\n",
    "end"
   ]
  },
  {
   "cell_type": "code",
   "execution_count": 28,
   "metadata": {
    "collapsed": false
   },
   "outputs": [],
   "source": [
    "σ=config(100) #Configuracion inicial;"
   ]
  },
  {
   "cell_type": "code",
   "execution_count": 29,
   "metadata": {
    "collapsed": false
   },
   "outputs": [
    {
     "data": {
      "text/plain": [
       "flip (generic function with 1 method)"
      ]
     },
     "execution_count": 29,
     "metadata": {},
     "output_type": "execute_result"
    }
   ],
   "source": [
    "function flip(σ)\n",
    "    i,j=int(99rand())+1,int(99rand())+1\n",
    "    σ[i,j]=-σ[i,j]\n",
    "    σ\n",
    "end"
   ]
  },
  {
   "cell_type": "code",
   "execution_count": 6,
   "metadata": {
    "collapsed": false
   },
   "outputs": [
    {
     "data": {
      "text/plain": [
       "1.0"
      ]
     },
     "execution_count": 6,
     "metadata": {},
     "output_type": "execute_result"
    }
   ],
   "source": [
    "#Temperatura, constante de Boltzmann y β\n",
    "T=1.0\n",
    "kB=1\n",
    "β=1/(kB*T)"
   ]
  },
  {
   "cell_type": "code",
   "execution_count": 15,
   "metadata": {
    "collapsed": false
   },
   "outputs": [
    {
     "data": {
      "text/plain": [
       "Energia (generic function with 1 method)"
      ]
     },
     "execution_count": 15,
     "metadata": {},
     "output_type": "execute_result"
    }
   ],
   "source": [
    "#Calculo de Energia\n",
    "function Energia(σ)\n",
    "    L1=size(σ)[1]\n",
    "    L2=size(σ)[2]\n",
    "    #Creamos la matriz con términos de frontera periódicos\n",
    "    Σ=zeros(L1+2,L2+2)\n",
    "    for i in 2:L1+1\n",
    "        for j in 2:L2+1\n",
    "            Σ[i,j]=σ[i-1,j-1]\n",
    "        end\n",
    "    end\n",
    "    #Valores de frontera periódicos\n",
    "    Σ[1,:]=Σ[L1+1,:]\n",
    "    Σ[L1+2,:]=Σ[2,:]\n",
    "    Σ[:,1]=Σ[:,L2+1]\n",
    "    Σ[:,L2+2]=Σ[:,2]\n",
    "    #Calculamos la energía total\n",
    "    E=0\n",
    "    for i in 2:L1+1\n",
    "        for j in 2:L2+1\n",
    "            E+=-Σ[i,j]*(Σ[i-1,j]+Σ[i+1,j]+Σ[i,j-1]+Σ[i,j+1])/4\n",
    "        end\n",
    "    end\n",
    "    E\n",
    "end"
   ]
  },
  {
   "cell_type": "code",
   "execution_count": 41,
   "metadata": {
    "collapsed": false
   },
   "outputs": [
    {
     "data": {
      "text/plain": [
       "MarkovBoltzmann (generic function with 1 method)"
      ]
     },
     "execution_count": 41,
     "metadata": {},
     "output_type": "execute_result"
    }
   ],
   "source": [
    "#Proceso estocástico\n",
    "function MarkovBoltzmann(σ,β)\n",
    "    α=exp(-β*(Energia(flip(σ))-Energia(σ)))\n",
    "    r=rand()\n",
    "    if r<=α\n",
    "        return flip(σ)\n",
    "    else\n",
    "        return σ\n",
    "    end\n",
    "end"
   ]
  },
  {
   "cell_type": "code",
   "execution_count": 42,
   "metadata": {
    "collapsed": false
   },
   "outputs": [
    {
     "data": {
      "text/plain": [
       "100x100 Array{Int64,2}:\n",
       " -1  -1   1   1   1  -1  -1  -1   1  …  -1  -1  -1   1  -1   1   1   1   1\n",
       " -1   1  -1   1   1   1   1   1   1     -1   1   1  -1   1  -1  -1   1   1\n",
       " -1  -1  -1   1  -1  -1   1   1   1     -1   1  -1   1  -1   1  -1   1  -1\n",
       "  1  -1   1   1   1   1   1   1  -1     -1   1   1   1   1  -1   1   1   1\n",
       " -1  -1  -1  -1  -1   1  -1   1   1      1  -1   1  -1  -1  -1   1  -1   1\n",
       " -1  -1  -1   1  -1   1   1  -1  -1  …  -1  -1  -1   1   1   1   1   1  -1\n",
       " -1  -1  -1  -1  -1   1   1  -1  -1      1   1   1  -1  -1  -1   1   1   1\n",
       " -1  -1   1   1   1  -1  -1   1  -1     -1  -1  -1   1  -1  -1   1  -1  -1\n",
       " -1   1  -1  -1  -1   1   1   1   1      1   1  -1   1   1  -1   1  -1   1\n",
       " -1   1  -1  -1  -1   1   1   1  -1     -1  -1   1   1  -1   1   1   1  -1\n",
       "  1   1  -1  -1   1  -1  -1  -1  -1  …  -1  -1  -1  -1  -1  -1  -1  -1  -1\n",
       " -1  -1   1   1   1  -1   1   1  -1      1   1  -1   1   1   1   1  -1   1\n",
       "  1  -1   1   1   1  -1   1  -1   1      1  -1   1   1   1   1   1  -1  -1\n",
       "  ⋮                   ⋮              ⋱                   ⋮                \n",
       " -1  -1  -1   1  -1  -1  -1   1  -1     -1  -1  -1  -1  -1  -1  -1  -1  -1\n",
       "  1   1  -1  -1   1   1  -1   1  -1     -1   1  -1  -1  -1  -1   1  -1   1\n",
       "  1  -1  -1  -1  -1  -1  -1  -1  -1  …  -1   1   1   1   1  -1  -1  -1   1\n",
       "  1   1   1  -1   1   1   1  -1   1      1   1   1  -1   1   1   1   1  -1\n",
       " -1  -1   1  -1   1  -1  -1   1  -1     -1  -1  -1  -1   1   1   1  -1   1\n",
       " -1  -1  -1   1   1   1  -1  -1  -1     -1   1   1  -1   1   1   1  -1  -1\n",
       " -1   1  -1   1   1   1  -1  -1  -1     -1  -1   1   1   1  -1  -1   1   1\n",
       "  1  -1   1   1  -1  -1  -1   1   1  …  -1  -1  -1  -1  -1  -1  -1   1  -1\n",
       "  1   1  -1   1  -1   1   1   1   1     -1   1  -1  -1   1   1  -1  -1   1\n",
       " -1  -1   1   1   1  -1  -1  -1  -1      1  -1  -1   1  -1  -1  -1   1   1\n",
       " -1   1   1   1   1  -1   1   1   1      1  -1   1   1   1   1  -1   1  -1\n",
       "  1  -1  -1   1  -1  -1  -1  -1   1      1  -1   1  -1   1  -1   1  -1   1"
      ]
     },
     "execution_count": 42,
     "metadata": {},
     "output_type": "execute_result"
    }
   ],
   "source": [
    " MarkovBoltzmann(σ,β)"
   ]
  },
  {
   "cell_type": "code",
   "execution_count": null,
   "metadata": {
    "collapsed": true
   },
   "outputs": [],
   "source": []
  }
 ],
 "metadata": {
  "kernelspec": {
   "display_name": "Julia 0.3.6-pre",
   "language": "julia",
   "name": "julia 0.3"
  },
  "language_info": {
   "name": "julia",
   "version": "0.3.6"
  }
 },
 "nbformat": 4,
 "nbformat_minor": 0
}
