{
 "cells": [
  {
   "cell_type": "markdown",
   "metadata": {},
   "source": [
    "# MCMC para Ising "
   ]
  },
  {
   "cell_type": "markdown",
   "metadata": {},
   "source": [
    "En el notebook anterior, vimos cómo muestrear de una distribución de probabilidad $\\pi$ dada, usando el algoritmo de Metropolis, que es un ejemplo de un método de \"Markov Chain Monte Carlo\" (\"Monte Carlo usando cadenas de Markov\",  MCMC).\n",
    "Apliquemos esto al modelo de Ising."
   ]
  },
  {
   "cell_type": "markdown",
   "metadata": {},
   "source": [
    "$\\newcommand{\\ss}{\\pmb \\sigma}\n",
    "\\newcommand{\\tt}{\\pmb \\tau}$\n",
    "\n",
    "[1] Escribe la probabilidad de aceptación, $\\alpha(\\ss \\to \\tt)$, para la distribución de Boltzmann, en términos de la diferencia de energías, $\\Delta E := E(\\tt) - E(\\ss)$."
   ]
  },
  {
   "cell_type": "markdown",
   "metadata": {},
   "source": [
    "[2] En el caso de voltear un solo espín, encuentra una expresión analítica para $\\Delta E$, en términos del valor actual del espín que se va a voltear (antes de que se cambie su valor) y los valores de sus espines. "
   ]
  },
  {
   "cell_type": "markdown",
   "metadata": {},
   "source": [
    "[3] Así, implementa el algoritmo de Metropolis para simular el modelo de Ising a una temperatura $T$ dada. \n",
    "\n",
    "Nota que el resultado de la pregunta [2] muestra que, una vez propuesto un espín por voltear, *no* es necesario voltear el espín para calcular la $\\Delta E$, y, por lo tanto, se requiere voltearlo *sólo* si el cambio propuesto resulte ser aceptado. Se puede voltear al modificar la misma configuración."
   ]
  },
  {
   "cell_type": "markdown",
   "metadata": {},
   "source": [
    "[4] Durante la simulación, rastrea los valores de la magnetización $M(t)$ y la energía $E(t)$. Dibuja estas cantidades como función del tiempo."
   ]
  },
  {
   "cell_type": "markdown",
   "metadata": {},
   "source": [
    "[5] Quisiéramos calcular estimados de valores promedio como $\\langle E \\rangle_\\beta$. Viendo tus gráficas, propón cómo hacer esto e impleméntalo. "
   ]
  },
  {
   "cell_type": "markdown",
   "metadata": {},
   "source": [
    "[6] Así, calcula $\\langle E \\rangle_\\beta$ para distintos valores de $\\beta$ entre $0$ y $5$, poniendo $J = 1$."
   ]
  },
  {
   "cell_type": "markdown",
   "metadata": {},
   "source": [
    "[7] Haz lo mismo con la magnetización. ¿Por qué no da un resultado interesante? ¿Qué podrías hacer al respecto? Impleméntalo y dibuja las gráficas."
   ]
  },
  {
   "cell_type": "markdown",
   "metadata": {},
   "source": [
    "[8] Cambia gradualmente la temperatura inversa de $5$ a $0$ y haz una animación de algunas **configuraciones** representativas para distintas temperaturas."
   ]
  },
  {
   "cell_type": "markdown",
   "metadata": {},
   "source": [
    "[9] Interpreta todo esto físicamente. ¿Qué estamos viendo?"
   ]
  },
  {
   "cell_type": "markdown",
   "metadata": {},
   "source": [
    "###-Respuestas."
   ]
  },
  {
   "cell_type": "markdown",
   "metadata": {},
   "source": [
    "1.-"
   ]
  },
  {
   "cell_type": "markdown",
   "metadata": {},
   "source": [
    "Sabemos que si $\\pi(\\ss)$ es la probabilidad estacionaria de estar en el lugar $\\ss$, entonces la probabilidad de aceptaci\\'on de pasar a $\\tt$ es\n",
    "\\begin{equation}\n",
    "\\alpha(\\ss\\rightarrow\\tt)=\\frac{\\pi(\\tt)}{\\pi(\\ss)}\n",
    "\\end{equation}\n",
    "pero $\\pi(\\ss)=e^{-\\beta E(\\ss)}$por lo tanto\n",
    "\\begin{equation}\n",
    "\\alpha(\\ss\\rightarrow\\tt)=e^{-\\beta \\Delta E}\n",
    "\\end{equation}\n"
   ]
  },
  {
   "cell_type": "markdown",
   "metadata": {},
   "source": [
    "2.- "
   ]
  },
  {
   "cell_type": "markdown",
   "metadata": {},
   "source": [
    "La energía del estado $\\ss$ está dada por:\n",
    "\\begin{equation}\n",
    "E(\\ss)=-\\sum_{\\langle i,j\\rangle} J_{i,j}\\sigma_i \\sigma_j\n",
    "\\end{equation}\n",
    "con $i,j$ vecinos en la red de espines. Para simplificar el  calculo asumimos que $J_{i,j}=1\\ \\ \\forall i,j$.\n",
    "Si volteamos el espín i' entonces, cuatro de los elementos de la suma cambian de signo (los relacionados con los vecinos de $i'$), esto es\n",
    "\\begin{equation}\n",
    "\\Delta E=E(\\tau)-E(\\sigma)=-\\sum_{\\text{$j$ vc a i'}} \\sigma_j(\\tau_{i'}-\\sigma_{i'})\n",
    "\\end{equation}\n",
    "(vc se refiere a vecinos cercanos), pero $\\tau_{i'}-\\sigma_{i'}=-2\\sigma_{i'}$, por lo tanto\n",
    "\\begin{equation}\n",
    "\\Delta E=E(\\tau)-E(\\sigma)=2\\sigma_{i'}\\sum_{\\text{$j$ vc a i'}} \\sigma_j\n",
    "\\end{equation}"
   ]
  },
  {
   "cell_type": "markdown",
   "metadata": {},
   "source": [
    "3.-"
   ]
  },
  {
   "cell_type": "code",
   "execution_count": 1,
   "metadata": {
    "collapsed": false,
    "scrolled": true
   },
   "outputs": [
    {
     "name": "stderr",
     "output_type": "stream",
     "text": [
      "INFO: Loading help data...\n"
     ]
    }
   ],
   "source": [
    "using PyPlot"
   ]
  },
  {
   "cell_type": "code",
   "execution_count": 2,
   "metadata": {
    "collapsed": false
   },
   "outputs": [
    {
     "data": {
      "text/plain": [
       "1"
      ]
     },
     "execution_count": 2,
     "metadata": {},
     "output_type": "execute_result"
    }
   ],
   "source": [
    "#Temperatura y beta\n",
    "kB=1\n",
    "β(T)=1/(kB*T);\n",
    "T=1"
   ]
  },
  {
   "cell_type": "code",
   "execution_count": 4,
   "metadata": {
    "collapsed": false
   },
   "outputs": [
    {
     "data": {
      "text/plain": [
       "δE (generic function with 3 methods)"
      ]
     },
     "execution_count": 4,
     "metadata": {},
     "output_type": "execute_result"
    }
   ],
   "source": [
    "####Configuracion y funciones de flip,energia y magnetización####\n",
    "\n",
    "#Configuracion aleatoria en un matriz\n",
    "function config(N,M)\n",
    "    2*int(rand(N,M))-1\n",
    "end\n",
    "\n",
    "#Hacemos nuestro propio modulo para tener fronteras periodicas\n",
    "function modulo(i::Int64,L::Int64)\n",
    "    i = i>L ? 1 : i<1 ? L : i\n",
    "end\n",
    "\n",
    "#Flip a la configuracion\n",
    "function flip!(σ::Matrix{Int64},i::Int64=0,j::Int64=0)               \n",
    "  N=size(σ)[1]\n",
    "  M=size(σ)[2]\n",
    "  if i==0 && j==0\n",
    "    i,j=int((N-1)*rand())+1,int((M-1)*rand())+1\n",
    "  end\n",
    "  σ[i,j]=-σ[i,j]\n",
    "  σ\n",
    "end\n",
    "\n",
    "#Calculo de Energia\n",
    "function energia(σ)\n",
    "    L1=size(σ)[1]\n",
    "    L2=size(σ)[2]\n",
    "    E=0\n",
    "    for i in 1:L1\n",
    "        for j in 1:L2\n",
    "            E+=-σ[i,j]*(σ[modulo(i+1,L1),j]+σ[modulo(i-1,L1),j]+\n",
    "                σ[i,modulo(j+1,L2)]+σ[i,modulo(j-1,L2)])\n",
    "        end\n",
    "    end\n",
    "    E\n",
    "end\n",
    "\n",
    "function magnet(σ)\n",
    "    sum(σ)\n",
    "end\n",
    "\n",
    "#Cambio de energia en un flip propuesto\n",
    "function δE(σ::Matrix{Int64},i::Int64=0,j::Int64=0)\n",
    "    if i==0 && j==0\n",
    "    i,j=int((size(σ,1)-1)*rand())+1,int((size(σ,2)-1)*rand())+1\n",
    "    end\n",
    "    L1=size(σ)[1]\n",
    "    L2=size(σ)[2]\n",
    "    \n",
    "    ΔE=2*σ[i,j]*(σ[modulo(i+1,L1),j]+σ[modulo(i-1,L1),j]+\n",
    "    σ[i,modulo(j+1,L2)]+σ[i,modulo(j-1,L2)]),\n",
    "    i,j\n",
    "end"
   ]
  },
  {
   "cell_type": "code",
   "execution_count": 9,
   "metadata": {
    "collapsed": false
   },
   "outputs": [
    {
     "data": {
      "text/plain": [
       "Array{Int64,2}"
      ]
     },
     "execution_count": 9,
     "metadata": {},
     "output_type": "execute_result"
    }
   ],
   "source": [
    "typeof(σ)"
   ]
  },
  {
   "cell_type": "code",
   "execution_count": 7,
   "metadata": {
    "collapsed": false
   },
   "outputs": [
    {
     "data": {
      "text/plain": [
       "Metropolis (generic function with 1 method)"
      ]
     },
     "execution_count": 7,
     "metadata": {},
     "output_type": "execute_result"
    }
   ],
   "source": [
    "#Proceso estocastico\n",
    "function Metropolis(σ::Matrix{Int64},T::Float64)\n",
    "    ΔE=δE(σ)[1]\n",
    "    i,j=δE(σ)[2],δE(σ)[3]\n",
    "    α=exp(-β(T)*ΔE)\n",
    "    r=rand()\n",
    "    if r<α\n",
    "        σ[i,j]=-σ[i,j]\n",
    "    else\n",
    "        σ[i,j]=σ[i,j]\n",
    "    end\n",
    "    σ\n",
    "end"
   ]
  },
  {
   "cell_type": "code",
   "execution_count": 8,
   "metadata": {
    "collapsed": false
   },
   "outputs": [
    {
     "ename": "LoadError",
     "evalue": "`Metropolis` has no method matching Metropolis(::Array{Int64,2}, ::Int64)\nwhile loading In[8], in expression starting on line 1",
     "output_type": "error",
     "traceback": [
      "`Metropolis` has no method matching Metropolis(::Array{Int64,2}, ::Int64)\nwhile loading In[8], in expression starting on line 1",
      ""
     ]
    }
   ],
   "source": [
    "Metropolis(σ,30)"
   ]
  },
  {
   "cell_type": "code",
   "execution_count": 169,
   "metadata": {
    "collapsed": false
   },
   "outputs": [
    {
     "data": {
      "image/png": "[encoded data removed]",
      "text/plain": [
       "Figure(PyObject <matplotlib.figure.Figure object at 0x7fe4527f8dd8>)"
      ]
     },
     "metadata": {},
     "output_type": "display_data"
    },
    {
     "data": {
      "text/plain": [
       "([0.0,0.0,0.0,0.0,0.0,10000.0,0.0,0.0,0.0,0.0],[-100.5,-100.4,-100.3,-100.2,-100.1,-100.0,-99.9,-99.8,-99.7,-99.6,-99.5],{PyObject <matplotlib.patches.Rectangle object at 0x7fe452785f98>,PyObject <matplotlib.patches.Rectangle object at 0x7fe45270b710>,PyObject <matplotlib.patches.Rectangle object at 0x7fe45270bfd0>,PyObject <matplotlib.patches.Rectangle object at 0x7fe4527118d0>,PyObject <matplotlib.patches.Rectangle object at 0x7fe4527161d0>,PyObject <matplotlib.patches.Rectangle object at 0x7fe452716a90>,PyObject <matplotlib.patches.Rectangle object at 0x7fe45271e390>,PyObject <matplotlib.patches.Rectangle object at 0x7fe45271ec50>,PyObject <matplotlib.patches.Rectangle object at 0x7fe452723550>,PyObject <matplotlib.patches.Rectangle object at 0x7fe452723e10>})"
      ]
     },
     "execution_count": 169,
     "metadata": {},
     "output_type": "execute_result"
    }
   ],
   "source": [
    "me=int(zeros(10000))\n",
    "for i in 1:10000\n",
    "    me[i]=energia(config(10,10))\n",
    "end\n",
    "PyPlot.hist(me)"
   ]
  },
  {
   "cell_type": "code",
   "execution_count": null,
   "metadata": {
    "collapsed": true
   },
   "outputs": [],
   "source": []
  }
 ],
 "metadata": {
  "kernelspec": {
   "display_name": "Julia 0.3.7",
   "language": "julia",
   "name": "julia 0.3"
  },
  "language_info": {
   "name": "julia",
   "version": "0.3.7"
  }
 },
 "nbformat": 4,
 "nbformat_minor": 0
}
