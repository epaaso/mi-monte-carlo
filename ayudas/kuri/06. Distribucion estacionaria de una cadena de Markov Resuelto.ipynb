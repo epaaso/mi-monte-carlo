{
 "metadata": {
  "language": "Julia",
  "name": "",
  "signature": "sha256:4afbe1f16ee5bffa8940af972c00b89e268e42edd05bccfccdac31b1cfe76e9d"
 },
 "nbformat": 3,
 "nbformat_minor": 0,
 "worksheets": [
  {
   "cells": [
    {
     "cell_type": "heading",
     "level": 1,
     "metadata": {},
     "source": [
      "Distribuci\u00f3n estacionaria"
     ]
    },
    {
     "cell_type": "markdown",
     "metadata": {},
     "source": [
      "En el notebook 05, vimos que la distribuci\u00f3n de probabilidad $\\mathbf{\\mu}_t$ de una cadena de Markov tiende a acercarse (*converger*), cuando $t \\to \\infty$, a una distribuci\u00f3n de probabilidad que podemos denotar $\\mathbf{\\mu}_\\infty$.  [Usaremos la notaci\u00f3n $\\mu$ (de \"medida\") para evitar que haya tantos P's.]"
     ]
    },
    {
     "cell_type": "markdown",
     "metadata": {},
     "source": [
      "[1] (i) Escribe la ecuaci\u00f3n que gobierna la evoluci\u00f3n de $\\mathbf{\\mu}_t$, y de ah\u00ed obtiene una ecuaci\u00f3n para $\\mathbf{\\mu}_\\infty$.\n",
      "\n",
      "(ii) \u00bfC\u00f3mo se relacion $\\mathbf{\\mu}_\\infty$ con la matriz de transici\u00f3n $\\mathsf{P}$ de la cadena?\n",
      "\n",
      "(iii) Demuestra que si empezamos con la distribuci\u00f3n $\\mathbf{\\mu}_\\infty$, la distribuci\u00f3n a cualquier tiempo ser\u00e1 la misma. \n",
      "\n",
      "(iv) Debido a ello, llamamos a $\\mathbf{\\mu}_\\infty$ una *distribuci\u00f3n estacionaria* de la cadena. se puede demostrar que existe y es \u00fanica si la cadena satisface dos propiedades t\u00e9cnicas, que sea *aperi\u00f3dica* e *irreducible*.\n",
      "\n",
      "Busca y explica estas dos propiedades de una cadena de Markov."
     ]
    },
    {
     "cell_type": "heading",
     "level": 4,
     "metadata": {},
     "source": [
      "Inciso 1"
     ]
    },
    {
     "cell_type": "markdown",
     "metadata": {},
     "source": [
      "(i) la distribuci\u00f3n $\\mu_t$ est\u00e1 dada por $\\mu_t=\\mu_0 P^t$, siendo las $\\mu$ vectores fila y $P$ la matriz de transici\u00f3n.\n",
      "\n",
      "para obtener $\\mu_\\infty$, tendemos $t \\to \\infty$ entonces $\\mu_\\infty=\\displaystyle\\lim_{t\\to\\infty}\\mu_0 P^t$"
     ]
    },
    {
     "cell_type": "markdown",
     "metadata": {},
     "source": [
      "(ii) pues $\\mu_\\infty=\\mu_0\\displaystyle\\lim_{t\\to\\infty} P^t$"
     ]
    },
    {
     "cell_type": "markdown",
     "metadata": {},
     "source": [
      "(iii)pues como $\\mu_\\infty=\\mu_0\\displaystyle\\lim_{t\\to\\infty} P^t$, entonces $\\mu_\\infty=\\mu_0(\\displaystyle\\lim_{t\\to\\infty} P^t)(P)$, entonces $\\mu_\\infty=\\mu_\\infty P$ y entonces $\\mu_\\infty=\\mu_\\infty P^t$ para todo $t$ en los naturales"
     ]
    },
    {
     "cell_type": "markdown",
     "metadata": {},
     "source": [
      "(iv) Irreducible o Erg\u00f3dica quiere decir que puedes llegar a caulquier estado desde cualquier estado\n",
      "\n",
      "Aperi\u00f3dica es que para todos los estados, al siguiente paso hay una probabilidad diferente de 0 que se quede en \u00e9se estado"
     ]
    },
    {
     "cell_type": "markdown",
     "metadata": {},
     "source": [
      "[2] Dada una matriz de transici\u00f3n $\\mathsf{P}$, \u00bfc\u00f3mo podemos calcular de forma num\u00e9rica la distribuci\u00f3n estacionaria correspondiente?"
     ]
    },
    {
     "cell_type": "heading",
     "level": 4,
     "metadata": {},
     "source": [
      "Inciso 2"
     ]
    },
    {
     "cell_type": "markdown",
     "metadata": {},
     "source": [
      "Podemos hacerlo a pie, agarrando un vector de probabilidad inicial arbitrario, y aplicando la matriz de transici\u00f3n, hasta que el vector resultante no cambie en sus entradas bajo un m\u00e1rgen que decidamos."
     ]
    },
    {
     "cell_type": "markdown",
     "metadata": {},
     "source": [
      "[3] Reescribe la expresi\u00f3n de estacionariedad para un estado dado, $i$, de la cadena. Interpreta esta expresi\u00f3n f\u00edsicamente. Esta propiedad se llama *balance*."
     ]
    },
    {
     "cell_type": "heading",
     "level": 4,
     "metadata": {},
     "source": [
      "Inciso 3"
     ]
    },
    {
     "cell_type": "markdown",
     "metadata": {},
     "source": [
      "para un estado con probabilidad estacionaria, correspondiente a la entrada $i$, tenemos que $\\mu^i_\\infty=\\displaystyle\\sum_{j}\\mu^j_\\infty P^{ji}$, como del vector de transici\u00f3n, las filas suman $1$, i.e. $\\displaystyle\\sum_{j}P^{ij}=1$, entonces, $(\\displaystyle\\sum_{j}P^{ij})\\mu^i_\\infty=\\displaystyle\\sum_{j}\\mu^j_\\infty P^{ji}$ y entonces $\\displaystyle\\sum_{j}P^{ij}\\mu^i_\\infty=\\displaystyle\\sum_{j}\\mu^j_\\infty P^{ji}$"
     ]
    },
    {
     "cell_type": "markdown",
     "metadata": {},
     "source": [
      "[4] \u00bfQu\u00e9 tan r\u00e1pido converger\u00e1 una cadena de Markov a distribuci\u00f3n estacionaria?"
     ]
    },
    {
     "cell_type": "markdown",
     "metadata": {},
     "source": [
      "Le\u00ed que lo hace exponencialmente"
     ]
    },
    {
     "cell_type": "heading",
     "level": 1,
     "metadata": {},
     "source": [
      "Hacia MCMC: Markov Chain Monte Carlo"
     ]
    },
    {
     "cell_type": "markdown",
     "metadata": {},
     "source": [
      "En el resto del curso, estaremos ocupados con una pregunta distinta:\n",
      "\n",
      "*Dada* una distribuci\u00f3n de probabilidad $\\pi$ sobre un conjunto $S := \\{s_1, \\ldots, s_k\\}$, \u00bfc\u00f3mo podr\u00edamos *dise\u00f1ar* un proceso estoc\u00e1stico tal que tenga la distribuci\u00f3n $\\pi$, y as\u00ed *simular* el sistema con la distribuci\u00f3n requerida?"
     ]
    },
    {
     "cell_type": "markdown",
     "metadata": {},
     "source": [
      "[5] \u00a1Responde esta pregunta!"
     ]
    },
    {
     "cell_type": "heading",
     "level": 5,
     "metadata": {},
     "source": [
      "Inciso 5"
     ]
    },
    {
     "cell_type": "markdown",
     "metadata": {},
     "source": [
      "Se me ocurre correr una variable aleatoria uniforme entre $0$ y $1$, como con la funci\u00f3n rand, observar el vector de probabilidad a ese tiempo y como el vector tambi\u00e9n suma $1$, hacer como que esas probabilidades definen una longitud entre un segmento de longitud 1, y ver d\u00f3nde cae nuestra variable uniforme, y pasar el estado correspondiente para ese paso, al siguiente paso, aplicar la matriz de transici\u00f3n al vector de probabilidades si es que no estamos en la distribuci\u00f3n estacionaria, y repetimos el proceso"
     ]
    }
   ],
   "metadata": {}
  }
 ]
}