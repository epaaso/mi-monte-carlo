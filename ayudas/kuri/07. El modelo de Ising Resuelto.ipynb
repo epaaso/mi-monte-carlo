{
 "metadata": {
  "kernelspec": {
   "display_name": "Julia 0.3.7-pre",
   "language": "julia",
   "name": "julia 0.3"
  },
  "language": "Julia",
  "language_info": {
   "name": "julia",
   "version": "0.3.7"
  },
  "name": "",
  "signature": "sha256:9f46e154b3701e7517924e310d9181ac8391b04f3e4eaa4806006f50ab5f3508"
 },
 "nbformat": 3,
 "nbformat_minor": 0,
 "worksheets": [
  {
   "cells": [
    {
     "cell_type": "heading",
     "level": 1,
     "metadata": {},
     "source": [
      "El modelo de Ising"
     ]
    },
    {
     "cell_type": "markdown",
     "metadata": {},
     "source": [
      "El modelo de Ising es un modelo simplificado de un im\u00e1n tipo hierro.\n",
      "\n",
      "Consideremos que hay una red peri\u00f3dica de \u00e1tomos, y que cada \u00e1tomo tiene un \"esp\u00edn\" (dipolo magn\u00e9tico, o \"imancito\") que puede apuntar hacia arriba o hacia abajo. Los dipolos *interact\u00faan* con sus vecinos: en el caso ferromagn\u00e9tico, hay una tendencia a que *se alineen* con sus vecinos. \n",
      "\n",
      "[Esto se debe a la llamada *interacci\u00f3n de intercambio*, el cual es un fen\u00f3meno cu\u00e1ntico complicado; v\u00e9ase, por ejemplo, el libro *The Theory of Magnetism Made Simple* de Mattis.  No es, de hecho, \u00a1nada \"simple\"...!]"
     ]
    },
    {
     "cell_type": "markdown",
     "metadata": {},
     "source": [
      "Inicialmente trabajeremos con una red cuadrada en dos dimensiones, de tama\u00f1o finito $L \\times L$. Llamaremos $N := L^2$ el n\u00famero de espines.\n",
      "\n",
      "Denotaremos el esp\u00edn en el lugar $i$ por $\\sigma_i \\in \\{+1, -1\\}$, y por una configuraci\u00f3n completa por $\\pmb {\\sigma} := (\\sigma_{i})_{i=1}^{N}$. [N\u00f3tese que estamos pensando aqu\u00ed que cada sitio tiene una etiqueta que es un entero. Tambi\u00e9n ser\u00e1 \u00fatil pensar que la etiqueta es de la forma $(i,j)$.]\n",
      "\n",
      "Denotaremos por $\\Omega_{N}$ el conjunto de todas las configuraciones posibles, es decir, el *espacio de configuraciones*."
     ]
    },
    {
     "cell_type": "markdown",
     "metadata": {},
     "source": [
      "[1] \u00bfCu\u00e1l es la cardinalidad $|\\Omega_N|$, es decir, cu\u00e1ntas configuraciones hay?"
     ]
    },
    {
     "cell_type": "heading",
     "level": 4,
     "metadata": {},
     "source": [
      "Inciso 1"
     ]
    },
    {
     "cell_type": "markdown",
     "metadata": {},
     "source": [
      "la cardinalidad del espacio de configuraciones es $2^N$"
     ]
    },
    {
     "cell_type": "markdown",
     "metadata": {},
     "source": [
      "[2] Escribe una funci\u00f3n que genere una configuraci\u00f3n \"aleatoria\". \u00bfQu\u00e9 tipo de aleatoriedad es?"
     ]
    },
    {
     "cell_type": "heading",
     "level": 4,
     "metadata": {},
     "source": [
      "Inciso 2"
     ]
    },
    {
     "cell_type": "markdown",
     "metadata": {},
     "source": [
      "La aleatoriedad es uniforme"
     ]
    },
    {
     "cell_type": "code",
     "collapsed": false,
     "input": [
      "function Ising_grid(Lado)\n",
      "    red=zeros((Lado,Lado))\n",
      "    for i in 1:Lado\n",
      "        for j in 1:Lado\n",
      "            p=2*int(rand())-1\n",
      "            red[i,j]=p\n",
      "        end\n",
      "    end\n",
      "    return red\n",
      "end"
     ],
     "language": "python",
     "metadata": {},
     "outputs": []
    },
    {
     "cell_type": "markdown",
     "metadata": {},
     "source": [
      "[3] La *magnetizaci\u00f3n* de una configuraci\u00f3n $\\pmb \\sigma$ se define como $M(\\pmb \\sigma) := \\sum_i \\sigma_i$. \n",
      "\n",
      "(i) Escribe una funci\u00f3n para calcular la magnetizaci\u00f3n de una configuraci\u00f3n.\n",
      "\n",
      "(ii) \u00bfCu\u00e1les son los valores posibles de la magnetizaci\u00f3n para un sistema de tama\u00f1o $N$?\n",
      "\n",
      "(iii) Genera bastantes configuraciones al azar y calcula la magnetizaci\u00f3n de cada una.\n",
      "\n",
      "(iv) \u00bfCu\u00e1les valores realmente toma? Dibuja un histograma de los valores de la magnetizaci\u00f3n que obtienes para un sistema grande. \u00bfQu\u00e9 observas?"
     ]
    },
    {
     "cell_type": "heading",
     "level": 4,
     "metadata": {},
     "source": [
      "Inciso 3"
     ]
    },
    {
     "cell_type": "code",
     "collapsed": false,
     "input": [
      "function magnetizacion(red)\n",
      "    m=sum(red)\n",
      "end\n",
      "\n",
      "magnetizacion(Ising_grid(20))"
     ],
     "language": "python",
     "metadata": {},
     "outputs": []
    },
    {
     "cell_type": "markdown",
     "metadata": {},
     "source": [
      "los valores posibles de $M$ est\u00e1n entre $-N$ y $N$, saltando de $2$ en $2$"
     ]
    },
    {
     "cell_type": "code",
     "collapsed": false,
     "input": [
      "using PyPlot"
     ],
     "language": "python",
     "metadata": {},
     "outputs": [
      {
       "output_type": "stream",
       "stream": "stderr",
       "text": [
        "INFO: Loading help data...\n"
       ]
      }
     ],
     "prompt_number": 1
    },
    {
     "cell_type": "code",
     "collapsed": false,
     "input": [
      "function hist_magnetizacion(Lado,veces)\n",
      "    mag=zeros(2*(Lado)^2+1)\n",
      "    for i in 1:veces\n",
      "        p=magnetizacion(Ising_grid(Lado))\n",
      "        mag[p+Lado^2+1]+=1\n",
      "    end\n",
      "    u=[-(Lado^2):Lado^2]\n",
      "    plot(u,mag,\".\")\n",
      "    xlim(-7*Lado,7*Lado)\n",
      "end\n",
      "hist_magnetizacion(100,50000)"
     ],
     "language": "python",
     "metadata": {},
     "outputs": []
    },
    {
     "cell_type": "markdown",
     "metadata": {},
     "source": [
      "Vemos que pareciera una distribuci\u00f3n normal"
     ]
    },
    {
     "cell_type": "markdown",
     "metadata": {},
     "source": [
      "[4] Podemos llevar a cabo un proceso estoc\u00e1stico en el espacio $\\Omega$. Un paso es como sigue:\n",
      "\n",
      "1. Escoge un esp\u00edn al azar.\n",
      "\n",
      "2. Cambiarlo al valor opuesto. (Esto se suele llamar un \"flip\" = \"darle la vuelta\".)\n",
      "\n",
      "(i) \u00bfQu\u00e9 tipo de proceso es? \u00bfA qu\u00e9 te recuerda?\n",
      "\n",
      "(ii) Implem\u00e9ntalo, partiendo de una configuraci\u00f3n aleatoria. \n",
      "\n",
      "(iii) Dibuja c\u00f3mo cambia la magnetizaci\u00f3n en el tiempo. \u00bfQu\u00e9 observas?  \n",
      "\n",
      "(iv) \u00bfCu\u00e1l es el *promedio temporal* (promedio *en el tiempo*) de la magnetizaci\u00f3n?\n",
      "\n"
     ]
    },
    {
     "cell_type": "heading",
     "level": 4,
     "metadata": {},
     "source": [
      "Inciso 4"
     ]
    },
    {
     "cell_type": "code",
     "collapsed": false,
     "input": [
      "function flip(red)\n",
      "    b,h=size(red)\n",
      "    i=rand(1:b)\n",
      "    j=rand(1:h)\n",
      "    red[i,j]=(-1)*red[i,j]\n",
      "    return red\n",
      "end"
     ],
     "language": "python",
     "metadata": {},
     "outputs": []
    },
    {
     "cell_type": "code",
     "collapsed": false,
     "input": [
      "function flip_mag(Lado,veces)\n",
      "    red=Ising_grid(Lado)\n",
      "    mag=zeros(veces)\n",
      "    mag[1]=magnetizacion(red)\n",
      "    for i in 2:veces\n",
      "        red=flip(red)\n",
      "        mag[i]=magnetizacion(red)\n",
      "    end\n",
      "    plot(1:veces,mag)\n",
      "    prom=(sum(mag)/veces)*ones(veces)\n",
      "    plot(1:veces,prom,color=\"red\")\n",
      "end\n",
      "flip_mag(20,30000)"
     ],
     "language": "python",
     "metadata": {},
     "outputs": []
    },
    {
     "cell_type": "markdown",
     "metadata": {},
     "source": [
      "No s\u00e9 qu\u00e9 proceso es D:"
     ]
    },
    {
     "cell_type": "heading",
     "level": 2,
     "metadata": {},
     "source": [
      "La energ\u00eda"
     ]
    },
    {
     "cell_type": "markdown",
     "metadata": {},
     "source": [
      "Hasta ahora, no hemos modelado las *interacciones* entre los espines, que es lo que hace interesante y rico el modelo. Para ello, tomaremos en cuenta que los espines \"quieren\" alinearse con sus vecinos, es decir, que la *energ\u00eda* ser\u00e1 *menor* cuando dos vecinos est\u00e9n alineados."
     ]
    },
    {
     "cell_type": "markdown",
     "metadata": {},
     "source": [
      "[5] Considera un par de espines vecinos $\\sigma_i$ y $\\sigma_j$. \n",
      "\n",
      "(i) Escribe una tabla de los valores posibles de los dos espines y las energ\u00edas correspondientes que asignaremos, si a un par de vecinos iguales le asignamos la energ\u00eda $-J$ y a un par de vecinos desiguales la energ\u00eda $+J$.\n",
      "\n",
      "(ii) Escribe esta energ\u00eda como una f\u00f3rmula en t\u00e9rminos de los valores $\\sigma_i$ y $\\sigma_j$. \n",
      "\n",
      "(iii) As\u00ed, escribe una f\u00f3rmula para la energ\u00eda $E(\\pmb \\sigma)$ de una configuraci\u00f3n $\\pmb \\sigma$."
     ]
    },
    {
     "cell_type": "heading",
     "level": 4,
     "metadata": {},
     "source": [
      "Inciso 5"
     ]
    },
    {
     "cell_type": "markdown",
     "metadata": {},
     "source": [
      "si $\\sigma_i=1$, $\\sigma_j=1$ entonces $E=-J$ \n",
      "\n",
      "si $\\sigma_i=1$, $\\sigma_j=-1$ entonces $E=J$\n",
      "\n",
      "si $\\sigma_i=-1$, $\\sigma_j=1$ entonces $E=J$\n",
      "\n",
      "si $\\sigma_i=-1$, $\\sigma_j=-1$ entonces $E=-J$"
     ]
    },
    {
     "cell_type": "markdown",
     "metadata": {},
     "source": [
      "entonces la energ\u00eda de un par de espines $e(\\sigma_i,\\sigma_j)=-J\\sigma_i\\sigma_j$"
     ]
    },
    {
     "cell_type": "markdown",
     "metadata": {},
     "source": [
      "entonces la energ\u00eda de una configuraci\u00f3n $\\sigma$ es $E(\\sigma)=\\displaystyle\\sum_{i,j}\\frac{e(\\sigma_i,\\sigma_j)}{2}\n",
      "$ con $i \\neq j$, dividiendo entre 2 para no preocuparnos si repetimos pares de espines"
     ]
    },
    {
     "cell_type": "markdown",
     "metadata": {},
     "source": [
      "[6] Implementa una funci\u00f3n que toma una configuraci\u00f3n $\\pmb \\sigma$ y regresa la energ\u00eda correspondiente, $E(\\pmb \\sigma)$. "
     ]
    },
    {
     "cell_type": "heading",
     "level": 4,
     "metadata": {},
     "source": [
      "Inciso 6"
     ]
    },
    {
     "cell_type": "code",
     "collapsed": false,
     "input": [
      "function energia(red) #vamos a expandir la matrix, de forma que los bordes definan la condicion de frontera\n",
      "    b,h=size(red)     #si hacemos todos los bordes 0 y en medio nuestra configuracion, corresponder\u00e1 a fronteras cerradas \n",
      "    red2=zeros((b+2,h+2))\n",
      "    for i in 1:h\n",
      "        for j in 1:b\n",
      "            red2[i+1,j+1]=red[i,j]\n",
      "        end\n",
      "    end\n",
      "    energia_total=0\n",
      "    for i in 1:h\n",
      "        for j in 1:b\n",
      "            energia_local=0\n",
      "            energia_local+=-red2[i+1,j+1]*red2[i,j+1]\n",
      "            energia_local+=-red2[i+1,j+1]*red2[i+1,j]\n",
      "            energia_local+=-red2[i+1,j+1]*red2[i+2,j+1]\n",
      "            energia_local+=-red2[i+1,j+1]*red2[i+1,j+2]\n",
      "            energia_total+=energia_local\n",
      "        end\n",
      "    end\n",
      "    energia_total=energia_total/2 #porque contamos 2 veces todo\n",
      "    return energia_total\n",
      "end"
     ],
     "language": "python",
     "metadata": {},
     "outputs": []
    },
    {
     "cell_type": "markdown",
     "metadata": {},
     "source": [
      "[7] En la pregunta [6], hubo que escoger qu\u00e9 hacer en las fronteras e la configuraci\u00f3n finita. Enumera unas posibilidades de c\u00f3mo tratar las fronteras e implem\u00e9ntalas."
     ]
    },
    {
     "cell_type": "heading",
     "level": 4,
     "metadata": {},
     "source": [
      "Inciso 7"
     ]
    },
    {
     "cell_type": "markdown",
     "metadata": {},
     "source": [
      "Podemos hacer fronteras peri\u00f3dicas, o cerradas, o estar inmersas en todo alrededor en espines arriba o abajo"
     ]
    },
    {
     "cell_type": "code",
     "collapsed": false,
     "input": [
      "function energia_period(red) \n",
      "    b,h=size(red)     #para hacer las fronteras peri\u00f3dicas, hay que copiar las ultimas y primeras columnas y filas en las primeras y \n",
      "    red2=zeros((b+2,h+2)) #ultimas columnas y filas que estamos agregando\n",
      "    for i in 1:h\n",
      "        red2[1,i+1]=red[h,i]\n",
      "        red2[h+2,i+1]=red[1,i]\n",
      "        red2[i+1,1]=red[i,h]\n",
      "        red2[i+1,h+2]=red[i,1]\n",
      "        for j in 1:b\n",
      "            red2[i+1,j+1]=red[i,j]\n",
      "        end\n",
      "    end\n",
      "    \n",
      "    energia_total=0\n",
      "    for i in 1:h\n",
      "        for j in 1:b\n",
      "            energia_local=0\n",
      "            energia_local+=-red2[i+1,j+1]*red2[i,j+1]\n",
      "            energia_local+=-red2[i+1,j+1]*red2[i+1,j]\n",
      "            energia_local+=-red2[i+1,j+1]*red2[i+2,j+1]\n",
      "            energia_local+=-red2[i+1,j+1]*red2[i+1,j+2]\n",
      "            energia_total+=energia_local\n",
      "        end\n",
      "    end\n",
      "    energia_total=energia_total/2 #porque contamos 2 veces todo\n",
      "    return energia_total\n",
      "end"
     ],
     "language": "python",
     "metadata": {},
     "outputs": []
    },
    {
     "cell_type": "markdown",
     "metadata": {},
     "source": [
      "[8] Repite la pregunta [4] para la energ\u00eda, en lugar de la magnetizaci\u00f3n.\n",
      "\n",
      "\u00bfA qu\u00e9 temperatura [concepto que a\u00fan no hemos introducido] correspondar\u00eda esta din\u00e1mica?"
     ]
    },
    {
     "cell_type": "code",
     "collapsed": false,
     "input": [
      "function flip_energia(Lado,veces)\n",
      "    red=Ising_grid(Lado)\n",
      "    ener=zeros(veces)\n",
      "    ener[1]=energia(red)\n",
      "    for i in 2:veces\n",
      "        red=flip(red)\n",
      "        ener[i]=energia(red)\n",
      "    end\n",
      "    plot(1:veces,ener)\n",
      "    prom=(sum(ener)/veces)*ones(veces)\n",
      "    plot(1:veces,prom,color=\"red\")\n",
      "end\n",
      "flip_energia(20,10000)"
     ],
     "language": "python",
     "metadata": {},
     "outputs": []
    },
    {
     "cell_type": "markdown",
     "metadata": {},
     "source": [
      "Corresponde a una temparatura constante, en una fase correspondiente donde no se magnetiza, podemos pensar que es a altas temperaturas"
     ]
    }
   ],
   "metadata": {}
  }
 ]
}