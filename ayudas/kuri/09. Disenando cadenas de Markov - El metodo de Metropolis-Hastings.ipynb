{
 "metadata": {
  "kernelspec": {
   "display_name": "Julia 0.3.7-pre",
   "language": "julia",
   "name": "julia 0.3"
  },
  "language_info": {
   "name": "julia",
   "version": "0.3.7"
  },
  "name": ""
 },
 "nbformat": 3,
 "nbformat_minor": 0,
 "worksheets": [
  {
   "cells": [
    {
     "cell_type": "heading",
     "level": 1,
     "metadata": {},
     "source": [
      "Dise\u00f1ar una cadena de Markov "
     ]
    },
    {
     "cell_type": "markdown",
     "metadata": {},
     "source": [
      "$\\newcommand{\\ss}{\\pmb \\sigma}\n",
      "\\newcommand{\\tt}{\\pmb \\tau}\n",
      "\\newcommand{\\pp}{\\pmb \\pi}$\n",
      "\n",
      "Ahora estamos listos para poder \u00a1*simular el modelo de Ising a una temperatura $T$ fija*!\n",
      "Ocuparemos todo lo que hemos visto hasta ahora en el curso.\n",
      "\n",
      "La idea *genial*, que se ha redescubierto varias veces, es el de **dise\u00f1ar una cadena de Markov**, es decir, dise\u00f1ar su matriz de transici\u00f3n, tal que **su distribuci\u00f3n estacionaria es la que queramos**. Llamaremos la distribuci\u00f3n estacionaria $\\pi(\\ss)$.\n",
      "\n",
      "En el caso de la f\u00edsica estad\u00edstica, la distribuci\u00f3n deseada es (por el momento) la de Boltzmann,\n",
      "\n",
      "$$\\pi(\\ss) = \\frac{1}{Z(\\beta)} e^{-\\beta E(\\ss)}.$$\n",
      "\n",
      "Pero en otros contextos, por ejemplo en la estad\u00edstica (y posteriormente en el curso), podr\u00eda interesarnos generar distintas distribuciones estacionarias.\n",
      "\n",
      "La idea es, entonces, **dise\u00f1ar** una matriz de transici\u00f3n $P(\\ss \\to \\tt)$, la cual, recordemos, da las probabilidades de que la cadena, estando en el microestado (configuraci\u00f3n) $\\ss$, brinque al microestado $\\tt$, con el fin de que la cadena de Markov correspondiente a esta matriz de transici\u00f3n tenga la distribuci\u00f3n estacionaria $\\pi(\\ss)$ deseada.\n",
      "\n",
      "Resta una sola pregunta: \u00bfc\u00f3mo hacer esto?\n"
     ]
    },
    {
     "cell_type": "heading",
     "level": 2,
     "metadata": {},
     "source": [
      "Balance detallado "
     ]
    },
    {
     "cell_type": "markdown",
     "metadata": {},
     "source": [
      "Recordemos de un notebook anterior que hay una condici\u00f3n *necesaria* para que la distribuci\u00f3n de probabilidad $\\pp$ sea una distribuci\u00f3n estacionaria de la matriz de transici\u00f3n $\\mathsf{P}$ con entradas $P(\\ss \\to \\tt)$, llamada la *condici\u00f3n de balance*. \n",
      "\n",
      "F\u00edsicamente, la condici\u00f3n de balance expresa el hecho de que la cantidad de probabilidad que fluye de $\\ss$ a todos los dem\u00e1s estados en un paso es la misma que la cantidad de probabilidad que fluye de todos los dem\u00e1s estados hacia $\\ss$."
     ]
    },
    {
     "cell_type": "markdown",
     "metadata": {},
     "source": [
      "[1] Escribe la condici\u00f3n de balance usando esta notaci\u00f3n."
     ]
    },
    {
     "cell_type": "markdown",
     "metadata": {},
     "source": [
      "Muchos m\u00e9todos de Monte Carlo usan una condici\u00f3n m\u00e1s fuerte, que es *suficiente*, pero no *necesaria*, para que la distribuci\u00f3n $\\pi$ sea estacionaria para la cadena. Esta condici\u00f3n se llama la condici\u00f3n de **balance detallado**, y dice que el flujo de probabilidad de un estado $\\ss$ a otro $\\tt$ es igual al flujo al rev\u00e9s, de $\\tt$ a $\\ss$, para *cualquier* par de estados $\\ss$ y $\\tt$.\n",
      "\n",
      "La condici\u00f3n de balance detallado se suele *imponer*, ya que hace m\u00e1s f\u00e1cil derivar una cadena de Markov adecuada."
     ]
    },
    {
     "cell_type": "markdown",
     "metadata": {},
     "source": [
      "[2] (i) Escribe una f\u00f3rmula para la condici\u00f3n de balance detallado.\n",
      "\n",
      "(ii) De ah\u00ed extrae una condici\u00f3n sobre las probabilidades de transici\u00f3n, en t\u00e9rminos de las $\\pi(\\ss)$. \n",
      "\n",
      "(iii) En el caso de la distribuci\u00f3n de Boltzmann, \u00bfqu\u00e9 pasa con la $Z$ en esta expresi\u00f3n? "
     ]
    },
    {
     "cell_type": "markdown",
     "metadata": {},
     "source": [
      "El punto que vimos en el 2(iii) es crucial -- quiere decir que **no es necesario conocer la constante de normalizaci\u00f3n de la distribuci\u00f3n de probabilidad**."
     ]
    },
    {
     "cell_type": "heading",
     "level": 2,
     "metadata": {},
     "source": [
      "Metropolis-Hastings"
     ]
    },
    {
     "cell_type": "markdown",
     "metadata": {},
     "source": [
      "Pensemos en el modelo de Ising. Tenemos configuraciones $\\ss$ y necesitamos dise\u00f1ar probabilidades de transici\u00f3n a otras configuraciones $\\tt$. Una manera natural de **generar** una nueva configuraci\u00f3n es el voltear un esp\u00edn. Esto nos da una probabilidad $g(\\ss \\to \\tt)$."
     ]
    },
    {
     "cell_type": "markdown",
     "metadata": {},
     "source": [
      "[3] \u00bfCu\u00e1nto es $g(\\ss \\to \\tt)$ si $\\ss$ y $\\tt$ difieren en el valor de s\u00f3lo un esp\u00edn? \u00bfSi difieren en m\u00e1s de un esp\u00edn?"
     ]
    },
    {
     "cell_type": "markdown",
     "metadata": {},
     "source": [
      "Habiendo generado, o *propuesto*, una nueva configuraci\u00f3n, tenemos que ver si es \"adecuado\": lo **aceptaremos** con probabilidad $\\alpha(\\ss \\to \\tt)$, en cuyo caso el estado del sistema cambiar\u00e1 a $\\tt$, y lo **rechazamos** con probabilidad $1-\\alpha(\\ss \\to \\tt)$, en cuyo caso el sistema se queda en el mismo estado $\\ss$."
     ]
    },
    {
     "cell_type": "markdown",
     "metadata": {},
     "source": [
      "La probabilidad de transici\u00f3n $P(\\ss \\to \\tt)$ es la combinaci\u00f3n de las dos:\n",
      "\n",
      "$$P(\\ss \\to \\tt) = g(\\ss \\to \\tt) \\cdot \\alpha(\\ss \\to \\tt)$$"
     ]
    },
    {
     "cell_type": "markdown",
     "metadata": {},
     "source": [
      "[4] Para el caso de voltear un solo esp\u00edn, \u00bfc\u00f3mo se comparan $g(\\ss \\to \\tt)$ y $g(\\tt \\to \\ss)$. As\u00ed, encuentra una relaci\u00f3n entre $\\alpha$ y $\\pi$."
     ]
    },
    {
     "cell_type": "markdown",
     "metadata": {},
     "source": [
      "Ahora debemos resolver esta ecuaci\u00f3n para encontrar $\\alpha$ en t\u00e9rminos de $\\pi$. Sin embargo, le ecuaci\u00f3n *no* determina $\\alpha$ de forma *\u00fanica* --tenemos cierta libertad. "
     ]
    },
    {
     "cell_type": "markdown",
     "metadata": {},
     "source": [
      "[5] Sup\u00f3n que el m\u00e1s grande de $\\alpha(\\ss \\to \\tt)$ y $\\alpha(\\tt \\to \\ss)$ sea $1$. [\u00c9sta es la elecci\u00f3n conocida como \"Metropolis-Hastings\".] \n",
      "\n",
      "(i) Encuentra una expresi\u00f3n para $\\alpha(\\ss \\to \\tt)$ en t\u00e9rminos de $\\pi$.\n",
      "\n",
      "(ii) Escr\u00edbelo expl\u00edcitamente para la distribuci\u00f3n de Boltzmann en el modelo de Ising. \u00bfC\u00f3mo depende de la temperatura (o de $\\beta$)?"
     ]
    },
    {
     "cell_type": "heading",
     "level": 2,
     "metadata": {},
     "source": [
      "Simulando el modelo de Ising"
     ]
    },
    {
     "cell_type": "markdown",
     "metadata": {},
     "source": [
      "[6] (i) Implementa todo esto en el modelo de Ising:\n",
      "\n",
      "- Empieza en una configuraci\u00f3n aleatoria.\n",
      "- En cada paso, escoge un esp\u00edn al azar que se propone para voltearse.\n",
      "- Acepta el cambio a la configuraci\u00f3n nueva con la probabilidad que encontraste en la pregunta 5; si no, el sistema se queda donde est\u00e1.\n",
      "\n",
      "(ii) En tu simulaci\u00f3n, espera un buen rato, y luego promedia la energ\u00eda y la magnetizaci\u00f3n en el tiempo.\n",
      "\n",
      "(iii) As\u00ed, encuentra estimados de $\\langle E \\rangle_T$, y dib\u00fajalas como funci\u00f3n de $T$.\n",
      "\n",
      "(iv) Dibuja la energ\u00eda *por esp\u00edn* promedio en funci\u00f3n de $T$ para distintos tama\u00f1os del sistema $L$, todas en una sola gr\u00e1fica. \u00bfQu\u00e9 observas?"
     ]
    },
    {
     "cell_type": "markdown",
     "metadata": {},
     "source": [
      "[7] Repite lo mismo para la magnetizaci\u00f3n. \u00bfQu\u00e9 observas? \u00bfQu\u00e9 soluci\u00f3n le podr\u00edamos dar? Hazlo. \u00bfQu\u00e9 observas?"
     ]
    }
   ],
   "metadata": {}
  }
 ]
}