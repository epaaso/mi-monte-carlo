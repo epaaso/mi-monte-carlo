{
 "metadata": {
  "language": "Julia",
  "name": "",
  "signature": "sha256:7d40c6f34fb9d503ec6c2c0d5c9a55e6b4fde449ade95a86a9ba00df7492031d"
 },
 "nbformat": 3,
 "nbformat_minor": 0,
 "worksheets": [
  {
   "cells": [
    {
     "cell_type": "heading",
     "level": 1,
     "metadata": {},
     "source": [
      "Ejercicio 1"
     ]
    },
    {
     "cell_type": "code",
     "collapsed": false,
     "input": [
      "pos = 1"
     ],
     "language": "python",
     "metadata": {},
     "outputs": [
      {
       "metadata": {},
       "output_type": "pyout",
       "prompt_number": 1,
       "text": [
        "1"
       ]
      }
     ],
     "prompt_number": 1
    },
    {
     "cell_type": "code",
     "collapsed": false,
     "input": [
      "function brinco1()\n",
      "    r = rand()\n",
      "    if r < 0.5\n",
      "        1\n",
      "    else\n",
      "        -1\n",
      "    end\n",
      "end"
     ],
     "language": "python",
     "metadata": {},
     "outputs": [
      {
       "metadata": {},
       "output_type": "pyout",
       "prompt_number": 4,
       "text": [
        "brinco1 (generic function with 1 method)"
       ]
      }
     ],
     "prompt_number": 4
    },
    {
     "cell_type": "code",
     "collapsed": false,
     "input": [
      "function brinco2()\n",
      "    r = 2*int(rand())- 1\n",
      "end\n",
      "\n",
      "function brinco3()\n",
      "    rand(-1:2:1)\n",
      "end"
     ],
     "language": "python",
     "metadata": {},
     "outputs": [
      {
       "metadata": {},
       "output_type": "pyout",
       "prompt_number": 7,
       "text": [
        "brinco3 (generic function with 1 method)"
       ]
      }
     ],
     "prompt_number": 7
    },
    {
     "cell_type": "code",
     "collapsed": false,
     "input": [
      "brinco1()\n",
      "N = 1000000\n",
      "@time for i in 1:N brinco1() end"
     ],
     "language": "python",
     "metadata": {},
     "outputs": [
      {
       "output_type": "stream",
       "stream": "stdout",
       "text": [
        "elapsed time: 0."
       ]
      },
      {
       "output_type": "stream",
       "stream": "stdout",
       "text": [
        "215338835 seconds (63983688 bytes allocated, 17.61% gc time)\n"
       ]
      }
     ],
     "prompt_number": 13
    },
    {
     "cell_type": "code",
     "collapsed": false,
     "input": [
      "brinco2()\n",
      "N = 1000000\n",
      "@time for i in 1:N brinco2() end"
     ],
     "language": "python",
     "metadata": {},
     "outputs": [
      {
       "output_type": "stream",
       "stream": "stdout",
       "text": [
        "elapsed time: 0."
       ]
      },
      {
       "output_type": "stream",
       "stream": "stdout",
       "text": [
        "259386046 seconds (64073096 bytes allocated, 31.93% gc time)\n"
       ]
      }
     ],
     "prompt_number": 15
    },
    {
     "cell_type": "code",
     "collapsed": false,
     "input": [
      "brinco3()\n",
      "N = 1000000\n",
      "@time for i in 1:N brinco3() end"
     ],
     "language": "python",
     "metadata": {},
     "outputs": [
      {
       "output_type": "stream",
       "stream": "stdout",
       "text": [
        "elapsed time: 0."
       ]
      },
      {
       "output_type": "stream",
       "stream": "stdout",
       "text": [
        "3150286 seconds (63983688 bytes allocated, 23.73% gc time)\n"
       ]
      }
     ],
     "prompt_number": 23
    },
    {
     "cell_type": "code",
     "collapsed": false,
     "input": [
      "pos = pos + brinco1()"
     ],
     "language": "python",
     "metadata": {},
     "outputs": [
      {
       "metadata": {},
       "output_type": "pyout",
       "prompt_number": 83,
       "text": [
        "-2"
       ]
      }
     ],
     "prompt_number": 83
    },
    {
     "cell_type": "code",
     "collapsed": false,
     "input": [
      "function primera_llegada_a_0(L::Int=100)\n",
      "    pos = 1\n",
      "    t = 0\n",
      "\n",
      "    while pos > 0\n",
      "        \n",
      "        pos = pos + brinco1()\n",
      "        \n",
      "        if pos > L\n",
      "            pos = L\n",
      "        end\n",
      "        \n",
      "        t += 1\n",
      "    end\n",
      "    \n",
      "    t\n",
      "end"
     ],
     "language": "python",
     "metadata": {},
     "outputs": [
      {
       "metadata": {},
       "output_type": "pyout",
       "prompt_number": 1,
       "text": [
        "primera_llegada_a_0 (generic function with 2 methods)"
       ]
      }
     ],
     "prompt_number": 1
    },
    {
     "cell_type": "code",
     "collapsed": false,
     "input": [
      "primera_llegada_a_0()"
     ],
     "language": "python",
     "metadata": {},
     "outputs": [
      {
       "metadata": {},
       "output_type": "pyout",
       "prompt_number": 205,
       "text": [
        "3"
       ]
      }
     ],
     "prompt_number": 205
    },
    {
     "cell_type": "code",
     "collapsed": false,
     "input": [
      "primera_llegada_a_0(1000)"
     ],
     "language": "python",
     "metadata": {},
     "outputs": [
      {
       "metadata": {},
       "output_type": "pyout",
       "prompt_number": 206,
       "text": [
        "3"
       ]
      }
     ],
     "prompt_number": 206
    },
    {
     "cell_type": "code",
     "collapsed": false,
     "input": [
      "primera_llegada_a_0(3.5)"
     ],
     "language": "python",
     "metadata": {},
     "outputs": [
      {
       "ename": "LoadError",
       "evalue": "`primera_llegada_a_0` has no method matching primera_llegada_a_0(::Float64)\nwhile loading In[207], in expression starting on line 1",
       "output_type": "pyerr",
       "traceback": [
        "`primera_llegada_a_0` has no method matching primera_llegada_a_0(::Float64)\nwhile loading In[207], in expression starting on line 1",
        ""
       ]
      }
     ],
     "prompt_number": 207
    },
    {
     "cell_type": "code",
     "collapsed": false,
     "input": [
      "Int"
     ],
     "language": "python",
     "metadata": {},
     "outputs": [
      {
       "metadata": {},
       "output_type": "pyout",
       "prompt_number": 208,
       "text": [
        "Int64"
       ]
      }
     ],
     "prompt_number": 208
    },
    {
     "cell_type": "code",
     "collapsed": false,
     "input": [
      "llegadas = Int[]"
     ],
     "language": "python",
     "metadata": {},
     "outputs": [
      {
       "metadata": {},
       "output_type": "pyout",
       "prompt_number": 209,
       "text": [
        "0-element Array{Int64,1}"
       ]
      }
     ],
     "prompt_number": 209
    },
    {
     "cell_type": "code",
     "collapsed": false,
     "input": [
      "zeros(5)"
     ],
     "language": "python",
     "metadata": {},
     "outputs": [
      {
       "metadata": {},
       "output_type": "pyout",
       "prompt_number": 210,
       "text": [
        "5-element Array{Float64,1}:\n",
        " 0.0\n",
        " 0.0\n",
        " 0.0\n",
        " 0.0\n",
        " 0.0"
       ]
      }
     ],
     "prompt_number": 210
    },
    {
     "cell_type": "code",
     "collapsed": false,
     "input": [
      "zeros(Int, 5)"
     ],
     "language": "python",
     "metadata": {},
     "outputs": [
      {
       "metadata": {},
       "output_type": "pyout",
       "prompt_number": 211,
       "text": [
        "5-element Array{Int64,1}:\n",
        " 0\n",
        " 0\n",
        " 0\n",
        " 0\n",
        " 0"
       ]
      }
     ],
     "prompt_number": 211
    },
    {
     "cell_type": "code",
     "collapsed": false,
     "input": [
      "function calcular_datos(L,N)\n",
      "    llegadas = Int[]\n",
      "\n",
      "    for i in 1:N\n",
      "        tiempo = primera_llegada_a_0(L)\n",
      "        push!(llegadas, tiempo)\n",
      "    end\n",
      "    \n",
      "    llegadas\n",
      "end\n"
     ],
     "language": "python",
     "metadata": {},
     "outputs": [
      {
       "metadata": {},
       "output_type": "pyout",
       "prompt_number": 2,
       "text": [
        "calcular_datos (generic function with 1 method)"
       ]
      }
     ],
     "prompt_number": 2
    },
    {
     "cell_type": "code",
     "collapsed": false,
     "input": [
      "function calcular_datos(L, N, f::Function)\n",
      "    datos = Int[]\n",
      "\n",
      "    for i in 1:N\n",
      "        resultado = f(L)\n",
      "        push!(datos, resultado)\n",
      "    end\n",
      "    \n",
      "    datos\n",
      "end\n"
     ],
     "language": "python",
     "metadata": {},
     "outputs": [
      {
       "metadata": {},
       "output_type": "pyout",
       "prompt_number": 218,
       "text": [
        "calcular_datos (generic function with 2 methods)"
       ]
      }
     ],
     "prompt_number": 218
    },
    {
     "cell_type": "code",
     "collapsed": false,
     "input": [
      "calcular_datos(10, 100, primera_llegada_a_0)"
     ],
     "language": "python",
     "metadata": {},
     "outputs": [
      {
       "metadata": {},
       "output_type": "pyout",
       "prompt_number": 219,
       "text": [
        "100-element Array{Int64,1}:\n",
        "  85\n",
        "   3\n",
        "  91\n",
        "   5\n",
        "   1\n",
        "   3\n",
        "   1\n",
        "   1\n",
        "   1\n",
        "   1\n",
        "   3\n",
        "   5\n",
        "   1\n",
        "   \u22ee\n",
        "   9\n",
        " 208\n",
        "   3\n",
        "   3\n",
        " 233\n",
        "   1\n",
        "   1\n",
        "   9\n",
        " 166\n",
        "  29\n",
        "  65\n",
        " 293"
       ]
      }
     ],
     "prompt_number": 219
    },
    {
     "cell_type": "code",
     "collapsed": false,
     "input": [
      "llegadas"
     ],
     "language": "python",
     "metadata": {},
     "outputs": [
      {
       "metadata": {},
       "output_type": "pyout",
       "prompt_number": 216,
       "text": [
        "100-element Array{Int64,1}:\n",
        " 269\n",
        "  11\n",
        "   1\n",
        " 156\n",
        "  15\n",
        "   3\n",
        "   1\n",
        "  23\n",
        "   3\n",
        "  51\n",
        "   1\n",
        "   1\n",
        "   1\n",
        "   \u22ee\n",
        "  27\n",
        "   1\n",
        "   1\n",
        "   1\n",
        "  11\n",
        "   5\n",
        "   1\n",
        "  19\n",
        "  21\n",
        "  11\n",
        "   3\n",
        "   1"
       ]
      }
     ],
     "prompt_number": 216
    },
    {
     "cell_type": "code",
     "collapsed": false,
     "input": [
      "datos = calcular_datos(10, 100)\n",
      "mean(datos)"
     ],
     "language": "python",
     "metadata": {},
     "outputs": [
      {
       "metadata": {},
       "output_type": "pyout",
       "prompt_number": 241,
       "text": [
        "17.01"
       ]
      }
     ],
     "prompt_number": 241
    },
    {
     "cell_type": "code",
     "collapsed": false,
     "input": [
      "100000000000. + 0.0000000001"
     ],
     "language": "python",
     "metadata": {},
     "outputs": [
      {
       "metadata": {},
       "output_type": "pyout",
       "prompt_number": 222,
       "text": [
        "1.0e11"
       ]
      }
     ],
     "prompt_number": 222
    },
    {
     "cell_type": "code",
     "collapsed": false,
     "input": [
      "function calcular_promedios(Ls, N)\n",
      "    promedios = Float64[]\n",
      "\n",
      "    for L in Ls\n",
      "        promedio = mean(calcular_datos(L, N))\n",
      "        push!(promedios, promedio)\n",
      "    end\n",
      "    \n",
      "    promedios\n",
      "end\n",
      "\n",
      "\n",
      "N = 10000\n",
      "Ls = 10:10:300\n",
      "@time promedios = calcular_promedios(Ls, N)"
     ],
     "language": "python",
     "metadata": {},
     "outputs": [
      {
       "output_type": "stream",
       "stream": "stdout",
       "text": [
        "elapsed time: 12"
       ]
      },
      {
       "output_type": "stream",
       "stream": "stdout",
       "text": [
        ".344414057 seconds (8017684 bytes allocated)\n"
       ]
      },
      {
       "metadata": {},
       "output_type": "pyout",
       "prompt_number": 16,
       "text": [
        "30-element Array{Float64,1}:\n",
        "  20.1968\n",
        "  39.5925\n",
        "  60.1117\n",
        "  82.6048\n",
        "  90.7307\n",
        " 115.714 \n",
        " 135.944 \n",
        " 172.658 \n",
        " 193.482 \n",
        " 195.096 \n",
        " 219.452 \n",
        " 214.718 \n",
        " 267.872 \n",
        "   \u22ee     \n",
        " 369.247 \n",
        " 352.684 \n",
        " 382.153 \n",
        " 443.138 \n",
        " 529.501 \n",
        " 472.036 \n",
        " 515.077 \n",
        " 468.665 \n",
        " 465.464 \n",
        " 540.311 \n",
        " 507.067 \n",
        " 571.344 "
       ]
      }
     ],
     "prompt_number": 16
    },
    {
     "cell_type": "code",
     "collapsed": false,
     "input": [
      "using PyPlot"
     ],
     "language": "python",
     "metadata": {},
     "outputs": [
      {
       "output_type": "stream",
       "stream": "stderr",
       "text": [
        "INFO: Loading help data...\n"
       ]
      }
     ],
     "prompt_number": 8
    },
    {
     "cell_type": "code",
     "collapsed": false,
     "input": [
      "Ls"
     ],
     "language": "python",
     "metadata": {},
     "outputs": [
      {
       "metadata": {},
       "output_type": "pyout",
       "prompt_number": 14,
       "text": [
        "10:10:500"
       ]
      }
     ],
     "prompt_number": 14
    },
    {
     "cell_type": "code",
     "collapsed": false,
     "input": [
      "promedios"
     ],
     "language": "python",
     "metadata": {},
     "outputs": [
      {
       "metadata": {},
       "output_type": "pyout",
       "prompt_number": 15,
       "text": [
        "10-element Array{Float64,1}:\n",
        "  20.497 \n",
        "  38.9443\n",
        "  52.9675\n",
        "  85.3686\n",
        "  94.086 \n",
        " 113.74  \n",
        " 140.72  \n",
        " 171.401 \n",
        " 204.726 \n",
        " 218.85  "
       ]
      }
     ],
     "prompt_number": 15
    },
    {
     "cell_type": "code",
     "collapsed": false,
     "input": [
      "plot(Ls, promedios, \"-o\")"
     ],
     "language": "python",
     "metadata": {},
     "outputs": [
      {
       "metadata": {},
       "output_type": "display_data",
       "png": "[encoded data removed]",
       "text": [
        "Figure(PyObject <matplotlib.figure.Figure object at 0x7f54e04559d0>)"
       ]
      },
      {
       "metadata": {},
       "output_type": "pyout",
       "prompt_number": 17,
       "text": [
        "1-element Array{Any,1}:\n",
        " PyObject <matplotlib.lines.Line2D object at 0x7f54e03bced0>"
       ]
      }
     ],
     "prompt_number": 17
    },
    {
     "cell_type": "code",
     "collapsed": false,
     "input": [
      "promedio\u03b1(x) = 3x"
     ],
     "language": "python",
     "metadata": {},
     "outputs": [
      {
       "metadata": {},
       "output_type": "pyout",
       "prompt_number": 18,
       "text": [
        "promedio\u03b1 (generic function with 1 method)"
       ]
      }
     ],
     "prompt_number": 18
    },
    {
     "cell_type": "code",
     "collapsed": false,
     "input": [
      "datos = calcular_datos(10, 100)\n",
      "mean(datos), std(datos)"
     ],
     "language": "python",
     "metadata": {},
     "outputs": [
      {
       "metadata": {},
       "output_type": "pyout",
       "prompt_number": 28,
       "text": [
        "(18.85,45.06972712398316)"
       ]
      }
     ],
     "prompt_number": 28
    },
    {
     "cell_type": "heading",
     "level": 2,
     "metadata": {},
     "source": [
      "Distribucion de prob de $T$"
     ]
    },
    {
     "cell_type": "code",
     "collapsed": false,
     "input": [
      "for L in [20, 50, 200]\n",
      "    N = 100000\n",
      "    datos = calcular_datos(L, N);\n",
      "    PyPlot.hist(datos, 100, normed=true, range=(1,10000))\n",
      "end\n",
      "yscale(\"log\")"
     ],
     "language": "python",
     "metadata": {},
     "outputs": [
      {
       "metadata": {},
       "output_type": "display_data",
       "png": "[encoded data removed]",
       "text": [
        "Figure(PyObject <matplotlib.figure.Figure object at 0x7f54def63a10>)"
       ]
      }
     ],
     "prompt_number": 73
    },
    {
     "cell_type": "code",
     "collapsed": false,
     "input": [
      "\n"
     ],
     "language": "python",
     "metadata": {},
     "outputs": [
      {
       "metadata": {},
       "output_type": "display_data",
       "png": "[encoded data removed]",
       "text": [
        "Figure(PyObject <matplotlib.figure.Figure object at 0x7f54dd676490>)"
       ]
      }
     ],
     "prompt_number": 64
    },
    {
     "cell_type": "code",
     "collapsed": false,
     "input": [
      "?PyPlot.hist"
     ],
     "language": "python",
     "metadata": {},
     "outputs": [
      {
       "output_type": "stream",
       "stream": "stdout",
       "text": [
        "Plot a histogram.\n",
        "\n",
        "Compute and draw the histogram of *x*. The return value is a\n",
        "tuple (*n*, *bins*, *patches*) or ([*n0*, *n1*, ...], *bins*,\n",
        "[*patches0*, *patches1*,...]) if the input contains multiple\n",
        "data.\n",
        "\n",
        "Multiple data can be provided via *x* as a list of datasets\n",
        "of potentially different length ([*x0*, *x1*, ...]), or as\n",
        "a 2-D ndarray in which each column is a dataset.  Note that\n",
        "the ndarray form is transposed relative to the list form.\n",
        "\n",
        "Masked arrays are not supported at present.\n",
        "\n",
        "Parameters\n",
        "----------\n",
        "x : (n,) array or sequence of (n,) arrays\n",
        "    Input values, this takes either a single array or a sequency of\n",
        "    arrays which are not required to be of the same length\n",
        "\n",
        "bins : integer or array_like, optional, default: 10\n",
        "    If an integer is given, `bins + 1` bin edges are returned,\n",
        "    consistently with :func:`numpy.histogram` for numpy version >=\n",
        "    1.3.\n",
        "\n",
        "    Unequally spaced bins are supported if `bins` is a sequence.\n",
        "\n",
        "range : tuple, optional, default: None\n",
        "    The lower and upper range of the bins. Lower and upper outliers\n",
        "    are ignored. If not provided, `range` is (x.min(), x.max()). Range\n",
        "    has no effect if `bins` is a sequence.\n",
        "\n",
        "    If `bins` is a sequence or `range` is specified, autoscaling\n",
        "    is based on the specified bin range instead of the\n",
        "    range of x.\n",
        "\n",
        "normed : boolean, optional, default: False\n",
        "    If `True`, the first element of the return tuple will\n",
        "    be the counts normalized to form a probability density, i.e.,\n",
        "    ``n/(len(x)`dbin)``, ie the integral of the histogram will sum to\n",
        "    1. If *stacked* is also *True*, the sum of the histograms is\n",
        "    normalized to 1.\n",
        "\n",
        "weights : array_like, shape (n, ), optional, default: None\n",
        "    An array of weights, of the same shape as `x`.  Each value in `x`\n",
        "    only contributes its associated weight towards the bin count\n",
        "    (instead of 1).  If `normed` is True, the weights are normalized,\n",
        "    so that the integral of the density over the range remains 1.\n",
        "\n",
        "cumulative : boolean, optional, default : False\n",
        "    If `True`, then a histogram is computed where each bin gives the\n",
        "    counts in that bin plus all bins for smaller values. The last bin\n",
        "    gives the total number of datapoints.  If `normed` is also `True`\n",
        "    then the histogram is normalized such that the last bin equals 1.\n",
        "    If `cumulative` evaluates to less than 0 (e.g., -1), the direction\n",
        "    of accumulation is reversed.  In this case, if `normed` is also\n",
        "    `True`, then the histogram is normalized such that the first bin\n",
        "    equals 1.\n",
        "\n",
        "bottom : array_like, scalar, or None, default: None\n",
        "    Location of the bottom baseline of each bin.  If a scalar,\n",
        "    the base line for each bin is shifted by the same amount.\n",
        "    If an array, each bin is shifted independently and the length\n",
        "    of bottom must match the number of bins.  If None, defaults to 0.\n",
        "\n",
        "histtype : ['bar' | 'barstacked' | 'step' | 'stepfilled'], optional\n",
        "    The type of histogram to draw.\n",
        "\n",
        "    - 'bar' is a traditional bar-type histogram.  If multiple data\n",
        "      are given the bars are aranged side by side.\n",
        "\n",
        "    - 'barstacked' is a bar-type histogram where multiple\n",
        "      data are stacked on top of each other.\n",
        "\n",
        "    - 'step' generates a lineplot that is by default\n",
        "      unfilled.\n",
        "\n",
        "    - 'stepfilled' generates a lineplot that is by default\n",
        "      filled.\n",
        "\n",
        "align : ['left' | 'mid' | 'right'], optional, default: 'mid'\n",
        "    Controls how the histogram is plotted.\n",
        "\n",
        "        - 'left': bars are centered on the left bin edges.\n",
        "\n",
        "        - 'mid': bars are centered between the bin edges.\n",
        "\n",
        "        - 'right': bars are centered on the right bin edges.\n",
        "\n",
        "orientation : ['horizontal' | 'vertical'], optional\n",
        "    If 'horizontal', `~matplotlib.pyplot.barh` will be used for\n",
        "    bar-type histograms and the *bottom* kwarg will be the left edges.\n",
        "\n",
        "rwidth : scalar, optional, default: None\n",
        "    The relative width of the bars as a fraction of the bin width.  If\n",
        "    `None`, automatically compute the width. Ignored if `histtype` =\n",
        "    'step' or 'stepfilled'.\n",
        "\n",
        "log : boolean, optional, default : False\n",
        "    If `True`, the histogram axis will be set to a log scale. If `log`\n",
        "    is `True` and `x` is a 1D array, empty bins will be filtered out\n",
        "    and only the non-empty (`n`, `bins`, `patches`) will be returned.\n",
        "\n",
        "color : color or array_like of colors, optional, default: None\n",
        "    Color spec or sequence of color specs, one per dataset.  Default\n",
        "    (`None`) uses the standard line color sequence.\n",
        "\n",
        "label : string, optional, default: ''\n",
        "    String, or sequence of strings to match multiple datasets.  Bar\n",
        "    charts yield multiple patches per dataset, but only the first gets\n",
        "    the label, so that the legend command will work as expected.\n",
        "\n",
        "stacked : boolean, optional, default : False\n",
        "    If `True`, multiple data are stacked on top of each other If\n",
        "    `False` multiple data are aranged side by side if histtype is\n",
        "    'bar' or on top of each other if histtype is 'step'\n",
        "\n",
        "Returns\n",
        "-------\n",
        "n : array or list of arrays\n",
        "    The values of the histogram bins. See **normed** and **weights**\n",
        "    for a description of the possible semantics. If input **x** is an\n",
        "    array, then this is an array of length **nbins**. If input is a\n",
        "    sequence arrays ``[data1, data2,..]``, then this is a list of\n",
        "    arrays with the values of the histograms for each of the arrays\n",
        "    in the same order.\n",
        "\n",
        "bins : array\n",
        "    The edges of the bins. Length nbins + 1 (nbins left edges and right\n",
        "    edge of last bin).  Always a single array even when multiple data\n",
        "    sets are passed in.\n",
        "\n",
        "patches : list or list of lists\n",
        "    Silent list of individual patches used to create the histogram\n",
        "    or list of such list if multiple input datasets.\n",
        "\n",
        "Other Parameters\n",
        "----------------\n",
        "kwargs : `~matplotlib.patches.Patch` properties\n",
        "\n",
        "See also\n",
        "--------\n",
        "hist2d : 2D histograms\n",
        "\n",
        "Notes\n",
        "-----\n",
        "Until numpy release 1.5, the underlying numpy histogram function was\n",
        "incorrect with `normed`=`True` if bin sizes were unequal.  MPL\n",
        "inherited that error.  It is now corrected within MPL when using\n",
        "earlier numpy versions.\n",
        "\n",
        "Examples\n",
        "--------\n",
        ".. plot:: mpl_examples/statistics/histogram_demo_features.py\n",
        "\n",
        "\n",
        "\n",
        "Additional kwargs: hold = [True|False] overrides default hold state\n"
       ]
      }
     ],
     "prompt_number": 58
    },
    {
     "cell_type": "code",
     "collapsed": false,
     "input": [],
     "language": "python",
     "metadata": {},
     "outputs": []
    }
   ],
   "metadata": {}
  }
 ]
}