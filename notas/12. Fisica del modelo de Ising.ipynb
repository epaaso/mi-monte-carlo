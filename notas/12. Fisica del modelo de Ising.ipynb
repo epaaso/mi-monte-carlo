{
 "cells": [
  {
   "cell_type": "markdown",
   "metadata": {},
   "source": [
    "# La física del modelo de Ising\n",
    "\n",
    "En este notebook, investigaremos cuestiones de física que muestran el modelo de Ising."
   ]
  },
  {
   "cell_type": "markdown",
   "metadata": {},
   "source": [
    "## Escalamiento"
   ]
  },
  {
   "cell_type": "markdown",
   "metadata": {},
   "source": [
    "Usa una versión eficiente del código del modelo de Ising para las siguientes tareas."
   ]
  },
  {
   "cell_type": "markdown",
   "metadata": {},
   "source": [
    "[1] Define la *energía por espín* $e := E/N$ y *magnetización por espín* $m := M/N$.\n",
    "\n",
    "(i) Grafica $\\langle e \\rangle_T$ en función de la temperatura $T$, para distintos tamaños del sistema. \n",
    "\n",
    "(ii) Grafica $\\langle |m| \\rangle_T$ en función de la temperatura $T$, para distintos tamaños del sistema.\n",
    "\n",
    "¿Qué observas? ¿A qué corresponde físicamente? ¿Cuál es el efecto de aumentar el tamaño del sistema?\n",
    "\n",
    "Nótese que es común trabajar con tiempos en unidades de *un sweep*, definido como $N$ intentos por voltear un espín. Esto corresponde a un \"tiempo físico\", ya que da a cada espín la oportunidad de voltearse una vez (en promedio)."
   ]
  },
  {
   "cell_type": "markdown",
   "metadata": {},
   "source": [
    "[2] La *capacidad calorífica* se define como\n",
    "\n",
    "$$ C_T := \\frac{\\partial \\langle E \\rangle(T)}{\\partial T}. $$\n",
    "\n",
    "(i) Encuentra una fórmula para $C$ en términos de la función de partición $Z$.\n",
    "\n",
    "(ii) Encuentra una fórmula para $C$ en términos de promedios de ensamble."
   ]
  },
  {
   "cell_type": "markdown",
   "metadata": {},
   "source": [
    "[3] Calcula $c_T := C_T/N$ y dibújalo en función de $T$. ¿Qué observas?"
   ]
  },
  {
   "cell_type": "markdown",
   "metadata": {},
   "source": [
    "## Ising con campo externo"
   ]
  },
  {
   "cell_type": "markdown",
   "metadata": {},
   "source": [
    "La física cambia si le agregamos un *campo magnético externo* al modelo, es decir un campo magnético de magnitud $h$ que acopla a cada espín.\n",
    "\n",
    "[4] Escribe un Hamiltoniano para la energía de una configuración $\\pmb{\\sigma}$.\n",
    "\n",
    "[5] Haz una simulación del modelo para temperaturas $T$ más o menos bajas, cambiando el campo de positivo a negativo y de regreso. \n",
    "\n",
    "(i) ¿Qué se observa?\n",
    "\n",
    "(ii) Si hay campo $h \\neq 0$, ¿qué pasa al variar $T$? ¿Hay transición de fase?\n",
    "\n",
    "(ii) Resume lo que has encontrado en un *diagrama de fases*: en el plano $(T, h)$, ¿dónde son las líneas que separan distintos tipos de comportamiento del sistema?\n",
    "\n",
    "[6] Dibuja configuraciones para entender físicamente lo que está pasando."
   ]
  },
  {
   "cell_type": "markdown",
   "metadata": {},
   "source": [
    "## Modelo antiferromagnético"
   ]
  },
  {
   "cell_type": "markdown",
   "metadata": {},
   "source": [
    "[7] ¿Qué pasa si los espines quieren estar *anti*-alineados con sus vecinos? ¿Qué pasa si $h \\neq 0$ al variar $T$ -- hay transición de fase?"
   ]
  },
  {
   "cell_type": "markdown",
   "metadata": {},
   "source": [
    "## Otras redes"
   ]
  },
  {
   "cell_type": "markdown",
   "metadata": {},
   "source": [
    "Pensando en los materiales reales, éstos pueden tener distintas estructuras atómicas. Por lo tanto, es de interés estudiar el efecto de estudiar el mismo modelo de Ising en distintas redes."
   ]
  },
  {
   "cell_type": "markdown",
   "metadata": {},
   "source": [
    "[8] ¿Cómo podemos representar distintas redes en la computadora? Hazlo para la red cuadrada, la triangular y la cúbica simple, todas con condiciones periódicas de frontera. (En el caso de la triangular, encuentra una forma razonable para el sistema en el cual tiene sentido hablar de condiciones periódicas.)\n",
    "\n",
    "[9] Extrae las partes de tu código que dependan de la red. Haz un tipo `Red` *abstracto* y subtipos de este tipo que son los distintos tipos de red: cuadrada, triangular, cúbica. El código se escribe como sigue:\n",
    "\n",
    "```\n",
    "abstract Red\n",
    "\n",
    "type RedCuadrada <: Red\n",
    " ...\n",
    "end\n",
    "```\n",
    "\n",
    "Para cada tipo de red, implementa funciones `vecinos` etc.\n",
    "\n",
    "[10] Investiga las transiciones de fase que ocurren para las distintas redes, incluyendo los casos antiferromagnético y/o con campo."
   ]
  },
  {
   "cell_type": "code",
   "execution_count": null,
   "metadata": {
    "collapsed": true
   },
   "outputs": [],
   "source": []
  }
 ],
 "metadata": {
  "kernelspec": {
   "display_name": "Julia 0.3.7",
   "language": "julia",
   "name": "julia 0.3"
  },
  "language_info": {
   "name": "julia",
   "version": "0.3.7"
  }
 },
 "nbformat": 4,
 "nbformat_minor": 0
}
