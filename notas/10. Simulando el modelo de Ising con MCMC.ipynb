{
 "cells": [
  {
   "cell_type": "markdown",
   "metadata": {},
   "source": [
    "# MCMC para Ising "
   ]
  },
  {
   "cell_type": "markdown",
   "metadata": {},
   "source": [
    "En el notebook anterior, vimos cómo muestrear de una distribución de probabilidad $\\pi$ dada, usando el algoritmo de Metropolis, que es un ejemplo de un método de \"Markov Chain Monte Carlo\" (\"Monte Carlo usando cadenas de Markov\",  MCMC).\n",
    "Apliquemos esto al modelo de Ising."
   ]
  },
  {
   "cell_type": "markdown",
   "metadata": {},
   "source": [
    "$\\newcommand{\\ss}{\\pmb \\sigma}\n",
    "\\newcommand{\\tt}{\\pmb \\tau}$\n",
    "\n",
    "[1] Escribe la probabilidad de aceptación, $\\alpha(\\ss \\to \\tt)$, para la distribución de Boltzmann, en términos de la diferencia de energías, $\\Delta E := E(\\tt) - E(\\ss)$."
   ]
  },
  {
   "cell_type": "markdown",
   "metadata": {},
   "source": [
    "[2] En el caso de voltear un solo espín, encuentra una expresión analítica para $\\Delta E$, en términos del valor actual del espín que se va a voltear (antes de que se cambie su valor) y los valores de sus espines. "
   ]
  },
  {
   "cell_type": "markdown",
   "metadata": {},
   "source": [
    "[3] Así, implementa el algoritmo de Metropolis para simular el modelo de Ising a una temperatura $T$ dada. \n",
    "\n",
    "Nota que el resultado de la pregunta [2] muestra que, una vez propuesto un espín por voltear, *no* es necesario voltear el espín para calcular la $\\Delta E$, y, por lo tanto, se requiere voltearlo *sólo* si el cambio propuesto resulte ser aceptado. Se puede voltear al modificar la misma configuración."
   ]
  },
  {
   "cell_type": "markdown",
   "metadata": {},
   "source": [
    "[4] Durante la simulación, rastrea los valores de la magnetización $M(t)$ y la energía $E(t)$. Dibuja estas cantidades como función del tiempo."
   ]
  },
  {
   "cell_type": "markdown",
   "metadata": {},
   "source": [
    "[5] Quisiéramos calcular estimados de valores promedio como $\\langle E \\rangle_\\beta$. Viendo tus gráficas, propón cómo hacer esto e impleméntalo. "
   ]
  },
  {
   "cell_type": "markdown",
   "metadata": {},
   "source": [
    "[6] Así, calcula $\\langle E \\rangle_\\beta$ para distintos valores de $\\beta$ entre $0$ y $5$, poniendo $J = 1$."
   ]
  },
  {
   "cell_type": "markdown",
   "metadata": {},
   "source": [
    "[7] Haz lo mismo con la magnetización. ¿Por qué no da un resultado interesante? ¿Qué podrías hacer al respecto? Impleméntalo y dibuja las gráficas."
   ]
  },
  {
   "cell_type": "markdown",
   "metadata": {},
   "source": [
    "[8] Cambia gradualmente la temperatura inversa de $5$ a $0$ y haz una animación de algunas **configuraciones** representativas para distintas temperaturas."
   ]
  },
  {
   "cell_type": "markdown",
   "metadata": {},
   "source": [
    "[9] Interpreta todo esto físicamente. ¿Qué estamos viendo?"
   ]
  },
  {
   "cell_type": "markdown",
   "metadata": {},
   "source": [
    "## -Respuestas."
   ]
  },
  {
   "cell_type": "markdown",
   "metadata": {},
   "source": [
    "### 1.-"
   ]
  },
  {
   "cell_type": "markdown",
   "metadata": {},
   "source": [
    "Sabemos que si $\\pi(\\ss)$ es la probabilidad estacionaria de estar en el lugar $\\ss$, entonces la probabilidad de aceptaci\\'on de pasar a $\\tt$ es\n",
    "\\begin{equation}\n",
    "\\alpha(\\ss\\rightarrow\\tt)=\\frac{\\pi(\\tt)}{\\pi(\\ss)}\n",
    "\\end{equation}\n",
    "pero $\\pi(\\ss)=e^{-\\beta E(\\ss)}$por lo tanto\n",
    "\\begin{equation}\n",
    "\\alpha(\\ss\\rightarrow\\tt)=e^{-\\beta \\Delta E}\n",
    "\\end{equation}\n"
   ]
  },
  {
   "cell_type": "markdown",
   "metadata": {},
   "source": [
    "### 2.- "
   ]
  },
  {
   "cell_type": "markdown",
   "metadata": {},
   "source": [
    "La energía del estado $\\ss$ está dada por:\n",
    "\\begin{equation}\n",
    "E(\\ss)=-\\sum_{\\langle i,j\\rangle} J_{i,j}\\sigma_i \\sigma_j\n",
    "\\end{equation}\n",
    "con $i,j$ vecinos en la red de espines. Para simplificar el  calculo asumimos que $J_{i,j}=1\\ \\ \\forall i,j$.\n",
    "Si volteamos el espín i' entonces, cuatro de los elementos de la suma cambian de signo (los relacionados con los vecinos de $i'$), esto es\n",
    "\\begin{equation}\n",
    "\\Delta E=E(\\tau)-E(\\sigma)=-\\sum_{\\text{$j$ vc a i'}} \\sigma_j(\\tau_{i'}-\\sigma_{i'})\n",
    "\\end{equation}\n",
    "(vc se refiere a vecinos cercanos), pero $\\tau_{i'}-\\sigma_{i'}=-2\\sigma_{i'}$, por lo tanto\n",
    "\\begin{equation}\n",
    "\\Delta E=E(\\tau)-E(\\sigma)=2\\sigma_{i'}\\sum_{\\text{$j$ vc a i'}} \\sigma_j\n",
    "\\end{equation}"
   ]
  },
  {
   "cell_type": "markdown",
   "metadata": {},
   "source": [
    "### 3.-"
   ]
  },
  {
   "cell_type": "code",
   "execution_count": 1,
   "metadata": {
    "collapsed": false,
    "scrolled": true
   },
   "outputs": [
    {
     "name": "stderr",
     "output_type": "stream",
     "text": [
      "INFO: Loading help data...\n"
     ]
    }
   ],
   "source": [
    "using PyPlot"
   ]
  },
  {
   "cell_type": "code",
   "execution_count": 2,
   "metadata": {
    "collapsed": false
   },
   "outputs": [
    {
     "data": {
      "text/plain": [
       "5.0"
      ]
     },
     "execution_count": 2,
     "metadata": {},
     "output_type": "execute_result"
    }
   ],
   "source": [
    "#Temperatura y beta\n",
    "#kB=1.3806488*10.0^(-23)\n",
    "kB=1\n",
    "β(T)=1/(kB*T);\n",
    "T=0.2\n",
    "β(T)"
   ]
  },
  {
   "cell_type": "code",
   "execution_count": 3,
   "metadata": {
    "collapsed": false
   },
   "outputs": [
    {
     "data": {
      "text/plain": [
       "δE (generic function with 3 methods)"
      ]
     },
     "execution_count": 3,
     "metadata": {},
     "output_type": "execute_result"
    }
   ],
   "source": [
    "####Configuracion y funciones de flip,energia y magnetización####\n",
    "\n",
    "#Configuracion aleatoria en un matriz\n",
    "function config(N,M)\n",
    "    2*int(rand(N,M))-1\n",
    "end\n",
    "\n",
    "#Hacemos nuestro propio modulo para tener fronteras periodicas\n",
    "function modulo(i::Int64,L::Int64)\n",
    "    i = i>L ? 1 : i<1 ? L : i\n",
    "end\n",
    "\n",
    "#Flip a la configuracion\n",
    "function flip!(σ::Array{Int64,2},i::Int64=0,j::Int64=0)               \n",
    "  N=size(σ)[1]\n",
    "  M=size(σ)[2]\n",
    "  if i==0 && j==0\n",
    "    i,j=int((N-1)*rand())+1,int((M-1)*rand())+1\n",
    "  end\n",
    "  σ[i,j]=-σ[i,j]\n",
    "  σ\n",
    "end\n",
    "\n",
    "#Calculo de Energia\n",
    "function energia(σ)\n",
    "    L1=size(σ)[1]\n",
    "    L2=size(σ)[2]\n",
    "    E=0\n",
    "    for i in 1:L1\n",
    "        for j in 1:L2\n",
    "            E+=-σ[i,j]*(σ[modulo(i+1,L1),j]+σ[modulo(i-1,L1),j]+\n",
    "                σ[i,modulo(j+1,L2)]+σ[i,modulo(j-1,L2)])\n",
    "        end\n",
    "    end\n",
    "    E\n",
    "end\n",
    "\n",
    "function magnet(σ)\n",
    "    sum(σ)\n",
    "end\n",
    "\n",
    "#Cambio de energia en un flip propuesto\n",
    "function δE(σ::Array{Int64,2},i::Int64=0,j::Int64=0)\n",
    "    if i==0 && j==0\n",
    "    i,j=int((size(σ,1)-1)*rand())+1,int((size(σ,2)-1)*rand())+1\n",
    "    end\n",
    "    L1=size(σ)[1]\n",
    "    L2=size(σ)[2]\n",
    "    \n",
    "    2*σ[i,j]*(σ[modulo(i+1,L1),j]+σ[modulo(i-1,L1),j]+\n",
    "    σ[i,modulo(j+1,L2)]+σ[i,modulo(j-1,L2)]),\n",
    "    i,j\n",
    "end"
   ]
  },
  {
   "cell_type": "code",
   "execution_count": 4,
   "metadata": {
    "collapsed": false
   },
   "outputs": [
    {
     "data": {
      "text/plain": [
       "metropolis! (generic function with 1 method)"
      ]
     },
     "execution_count": 4,
     "metadata": {},
     "output_type": "execute_result"
    }
   ],
   "source": [
    "#Proceso estocastico\n",
    "function metropolis!(σ::Array{Int64,2},T::Float64)    \n",
    "    ΔE,i,j=δE(σ)\n",
    "    ΔM=0\n",
    "    α=exp(-β(T)*ΔE)\n",
    "    r=rand()\n",
    "    cambio=false\n",
    "    if r<α\n",
    "        σ[i,j]=-σ[i,j]\n",
    "        cambio=true\n",
    "        ΔM=σ[i,j]<0?-2:2\n",
    "    else\n",
    "        σ[i,j]=σ[i,j]\n",
    "        cambio=false\n",
    "    end\n",
    "    return cambio,ΔE,ΔM\n",
    "end"
   ]
  },
  {
   "cell_type": "markdown",
   "metadata": {},
   "source": [
    "### 4.-"
   ]
  },
  {
   "cell_type": "code",
   "execution_count": 5,
   "metadata": {
    "collapsed": false
   },
   "outputs": [
    {
     "data": {
      "text/plain": [
       "iteracion_con_E_y_M (generic function with 2 methods)"
      ]
     },
     "execution_count": 5,
     "metadata": {},
     "output_type": "execute_result"
    }
   ],
   "source": [
    "######Evolucion de una cadena#######\n",
    "\n",
    "function iteracion_con_E_y_M(espines::Array{Int64,2},iteraciones::Int64,T::Float64=30.0)\n",
    "    Es::Array{Int64}=Array(Int64, iteraciones)\n",
    "    Ms::Array{Int64}=Array(Int64, iteraciones)\n",
    "    cambios::Array{Bool}=Array(Bool, iteraciones)\n",
    "    E=energia(espines)\n",
    "    M=magnet(espines)\n",
    "    \n",
    "    for i in 1:iteraciones\n",
    "        cambio,ΔE,ΔM=metropolis!(espines,T)\n",
    "        cambios[i]=cambio\n",
    "        if cambio\n",
    "            E+=ΔE\n",
    "            M+=ΔM\n",
    "        end\n",
    "        Es[i]=E\n",
    "        Ms[i]=M\n",
    "    end\n",
    "    \n",
    "    return Es,Ms,cambios\n",
    "end"
   ]
  },
  {
   "cell_type": "code",
   "execution_count": 44,
   "metadata": {
    "collapsed": false,
    "scrolled": true
   },
   "outputs": [],
   "source": [
    "#Valores iniciales\n",
    "ancho=50\n",
    "largo=50\n",
    "N=ancho*largo\n",
    "veces=int(1e6)\n",
    "espines=config(ancho,largo)\n",
    "\n",
    "Ts=[10.0,1.0,0.5,1/3,1/4,1/5]\n",
    "Es=Array(Array{Float64,1},length(Ts))\n",
    "Ms=Array(Array{Float64,1},length(Ts))\n",
    "ds=Array(Array{Bool,1},length(Ts))\n",
    "\n",
    "#Simulacion\n",
    "for i in 1:length(Ts)\n",
    "    Es[i],Ms[i],ds[i]=iteracion_con_E_y_M(espines,veces,Ts[i]);\n",
    "end"
   ]
  },
  {
   "cell_type": "code",
   "execution_count": 47,
   "metadata": {
    "collapsed": false
   },
   "outputs": [
    {
     "ename": "LoadError",
     "evalue": "PyError (:PyObject_Call) <class 'AttributeError'>\nAttributeError(\"'float' object has no attribute 'items'\",)\n  File \"/home/ernesto/anaconda3/lib/python3.4/site-packages/matplotlib/pyplot.py\", line 1349, in title\n    l =  gca().set_title(s, *args, **kwargs)\n  File \"/home/ernesto/anaconda3/lib/python3.4/site-packages/matplotlib/axes/_axes.py\", line 145, in set_title\n    title.update(fontdict)\n  File \"/home/ernesto/anaconda3/lib/python3.4/site-packages/matplotlib/artist.py\", line 754, in update\n    for k, v in six.iteritems(props):\n  File \"/home/ernesto/anaconda3/lib/python3.4/site-packages/six.py\", line 558, in iteritems\n    return iter(d.items(**kw))\n\nwhile loading In[47], in expression starting on line 5",
     "output_type": "error",
     "traceback": [
      "PyError (:PyObject_Call) <class 'AttributeError'>\nAttributeError(\"'float' object has no attribute 'items'\",)\n  File \"/home/ernesto/anaconda3/lib/python3.4/site-packages/matplotlib/pyplot.py\", line 1349, in title\n    l =  gca().set_title(s, *args, **kwargs)\n  File \"/home/ernesto/anaconda3/lib/python3.4/site-packages/matplotlib/axes/_axes.py\", line 145, in set_title\n    title.update(fontdict)\n  File \"/home/ernesto/anaconda3/lib/python3.4/site-packages/matplotlib/artist.py\", line 754, in update\n    for k, v in six.iteritems(props):\n  File \"/home/ernesto/anaconda3/lib/python3.4/site-packages/six.py\", line 558, in iteritems\n    return iter(d.items(**kw))\n\nwhile loading In[47], in expression starting on line 5",
      "",
      " in getindex at /home/ernesto/.julia/v0.3/PyCall/src/PyCall.jl:246",
      " in pysequence_query at /home/ernesto/.julia/v0.3/PyCall/src/conversions.jl:776",
      " in pytype_query at /home/ernesto/.julia/v0.3/PyCall/src/conversions.jl:792",
      " in convert at /home/ernesto/.julia/v0.3/PyCall/src/conversions.jl:842",
      " in pycall at /home/ernesto/.julia/v0.3/PyCall/src/PyCall.jl:403",
      " in fn at /home/ernesto/.julia/v0.3/PyCall/src/conversions.jl:188",
      " in close_queued_figs at /home/ernesto/.julia/v0.3/PyPlot/src/PyPlot.jl:296"
     ]
    }
   ],
   "source": [
    "#Ploteo\n",
    "fig = figure(\"primerasTs\",figsize=(12,5))\n",
    "subplot(231)\n",
    "plot(Es[1])\n",
    "title(\"T=\"Ts[1])\n",
    "ylabel(\"Energía\")\n",
    "\n",
    "subplot(232)\n",
    "plot(Es[2])\n",
    "title(Ts[2])\n",
    "\n",
    "subplot(233)\n",
    "plot(Es[3])\n",
    "title(Ts[3])\n",
    "\n",
    "subplot(234)\n",
    "plot(Ms[1])\n",
    "ylabel(\"Magnetización\")\n",
    "xlabel(\"Iteraciones\")\n",
    "\n",
    "subplot(235)\n",
    "plot(Ms[2])\n",
    "xlabel(\"Iteraciones\")\n",
    "\n",
    "subplot(236)\n",
    "plot(Ms[3])\n",
    "xlabel(\"Iteraciones\")\n",
    "\n",
    "fig = figure(\"segundasTs\",figsize=(12,5))\n",
    "subplot(231)\n",
    "plot(Es[4])\n",
    "title(Ts[4])\n",
    "ylabel(\"Energía\")\n",
    "\n",
    "subplot(232)\n",
    "plot(Es[5])\n",
    "title(Ts[5])\n",
    "\n",
    "subplot(233)\n",
    "plot(Es[6])\n",
    "title(Ts[6])\n",
    "\n",
    "subplot(234)\n",
    "plot(Ms[4])\n",
    "ylabel(\"Magnetización\")\n",
    "xlabel(\"Iteraciones\")\n",
    "\n",
    "subplot(235)\n",
    "plot(Ms[5])\n",
    "xlabel(\"Iteraciones\")\n",
    "\n",
    "subplot(236)\n",
    "plot(Ms[6])\n",
    "xlabel(\"Iteraciones\")"
   ]
  },
  {
   "cell_type": "markdown",
   "metadata": {
    "collapsed": true
   },
   "source": [
    "\n",
    "### 5.-"
   ]
  },
  {
   "cell_type": "code",
   "execution_count": null,
   "metadata": {
    "collapsed": true
   },
   "outputs": [],
   "source": []
  }
 ],
 "metadata": {
  "kernelspec": {
   "display_name": "Julia 0.3.7",
   "language": "julia",
   "name": "julia 0.3"
  },
  "language_info": {
   "name": "julia",
   "version": "0.3.7"
  }
 },
 "nbformat": 4,
 "nbformat_minor": 0
}
