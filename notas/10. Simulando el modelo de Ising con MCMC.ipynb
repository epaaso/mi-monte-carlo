{
 "metadata": {
  "kernelspec": {
   "display_name": "Julia 0.3.8-pre",
   "language": "julia",
   "name": "julia 0.3"
  },
  "language_info": {
   "name": "julia",
   "version": "0.3.8"
  },
  "name": ""
 },
 "nbformat": 3,
 "nbformat_minor": 0,
 "worksheets": [
  {
   "cells": [
    {
     "cell_type": "heading",
     "level": 1,
     "metadata": {},
     "source": [
      "MCMC para Ising "
     ]
    },
    {
     "cell_type": "markdown",
     "metadata": {},
     "source": [
      "En el notebook anterior, vimos c\u00f3mo muestrear de una distribuci\u00f3n de probabilidad $\\pi$ dada, usando el algoritmo de Metropolis, que es un ejemplo de un m\u00e9todo de \"Markov Chain Monte Carlo\" (\"Monte Carlo usando cadenas de Markov\",  MCMC).\n",
      "Apliquemos esto al modelo de Ising."
     ]
    },
    {
     "cell_type": "markdown",
     "metadata": {},
     "source": [
      "$\\newcommand{\\ss}{\\pmb \\sigma}\n",
      "\\newcommand{\\tt}{\\pmb \\tau}$\n",
      "\n",
      "[1] Escribe la probabilidad de aceptaci\u00f3n, $\\alpha(\\ss \\to \\tt)$, para la distribuci\u00f3n de Boltzmann, en t\u00e9rminos de la diferencia de energ\u00edas, $\\Delta E := E(\\tt) - E(\\ss)$."
     ]
    },
    {
     "cell_type": "markdown",
     "metadata": {},
     "source": [
      "[2] En el caso de voltear un solo esp\u00edn, encuentra una expresi\u00f3n anal\u00edtica para $\\Delta E$, en t\u00e9rminos del valor actual del esp\u00edn que se va a voltear (antes de que se cambie su valor) y los valores de sus espines. "
     ]
    },
    {
     "cell_type": "markdown",
     "metadata": {},
     "source": [
      "[3] As\u00ed, implementa el algoritmo de Metropolis para simular el modelo de Ising a una temperatura $T$ dada. \n",
      "\n",
      "Nota que el resultado de la pregunta [2] muestra que, una vez propuesto un esp\u00edn por voltear, *no* es necesario voltear el esp\u00edn para calcular la $\\Delta E$, y, por lo tanto, se requiere voltearlo *s\u00f3lo* si el cambio propuesto resulte ser aceptado. Se puede voltear al modificar la misma configuraci\u00f3n."
     ]
    },
    {
     "cell_type": "markdown",
     "metadata": {},
     "source": [
      "[4] Durante la simulaci\u00f3n, rastrea los valores de la magnetizaci\u00f3n $M(t)$ y la energ\u00eda $E(t)$. Dibuja estas cantidades como funci\u00f3n del tiempo."
     ]
    },
    {
     "cell_type": "markdown",
     "metadata": {},
     "source": [
      "[5] Quisi\u00e9ramos calcular estimados de valores promedio como $\\langle E \\rangle_\\beta$. Viendo tus gr\u00e1ficas, prop\u00f3n c\u00f3mo hacer esto e implem\u00e9ntalo. "
     ]
    },
    {
     "cell_type": "markdown",
     "metadata": {},
     "source": [
      "[6] As\u00ed, calcula $\\langle E \\rangle_\\beta$ para distintos valores de $\\beta$ entre $0$ y $5$, poniendo $J = 1$."
     ]
    },
    {
     "cell_type": "markdown",
     "metadata": {},
     "source": [
      "[7] Haz lo mismo con la magnetizaci\u00f3n. \u00bfPor qu\u00e9 no da un resultado interesante? \u00bfQu\u00e9 podr\u00edas hacer al respecto? Implem\u00e9ntalo y dibuja las gr\u00e1ficas."
     ]
    },
    {
     "cell_type": "markdown",
     "metadata": {},
     "source": [
      "[8] Cambia gradualmente la temperatura inversa de $5$ a $0$ y haz una animaci\u00f3n de algunas **configuraciones** representativas para distintas temperaturas."
     ]
    },
    {
     "cell_type": "markdown",
     "metadata": {},
     "source": [
      "[9] Interpreta todo esto f\u00edsicamente. \u00bfQu\u00e9 estamos viendo?"
     ]
    }
   ],
   "metadata": {}
  }
 ]
}