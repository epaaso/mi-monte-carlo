{
 "metadata": {
  "language": "Julia",
  "name": "",
  "signature": "sha256:0de8fa8d27bed9097013da87f85bf7bdef95ec71dd387038cfadc76e4768ff79"
 },
 "nbformat": 3,
 "nbformat_minor": 0,
 "worksheets": [
  {
   "cells": [
    {
     "cell_type": "heading",
     "level": 1,
     "metadata": {},
     "source": [
      "El generador de n\u00fameros aleatorios"
     ]
    },
    {
     "cell_type": "markdown",
     "metadata": {},
     "source": [
      "Julia incluye un *generador de n\u00fameros (seudo-)aleatorios* (RNG, \"Random Number Generator\"). Cada vez que llamamos a la funci\u00f3n `rand()`, regresa un n\u00famero aleatorio distinto. El generador de Julia es (actualmente) uno llamado *Mersenne Twister*. Utiliza ideas complejas de teor\u00eda de n\u00fameros para asegurarse que los n\u00fameros aleatorios son \"suficientemente aleatorios\"."
     ]
    },
    {
     "cell_type": "markdown",
     "metadata": {},
     "source": [
      "[1] Teclea \n",
      "\n",
      "    rand()\n",
      "    \n",
      "en el REPL o en IJulia (por ejemplo, en [JuliaBox](http://juliabox.org)). En IJulia, utiliza `Shift-Enter` para ejecutar el comando y crear una nueva celda, o `Ctrl-Enter` para ejecutar el comando y quedarse en la misma celda.\n",
      "\n",
      "Hazlo varias veces. \u00bfQu\u00e9 tipo de n\u00fameros regresa? Utiliza la funci\u00f3n `typeof` para verificar tu respuesta. El \u00faltimo valor se obtiene con `ans`. \u00bfEntre d\u00f3nde y d\u00f3nde est\u00e1n acotados los n\u00fameros?"
     ]
    },
    {
     "cell_type": "markdown",
     "metadata": {},
     "source": [
      "[2] \u00bfQu\u00e9 pasa si tecleas `rand` sin las par\u00e9ntesis?"
     ]
    },
    {
     "cell_type": "markdown",
     "metadata": {},
     "source": [
      "[3] Utiliza `?rand` para obtener ayuda sobre la funci\u00f3n."
     ]
    },
    {
     "cell_type": "markdown",
     "metadata": {},
     "source": [
      "[4] \u00bfC\u00f3mo se pueden generar varios n\u00fameros aleatorios a la vez, usando `rand`? \u00bfY una matriz aleatoria? \u00bfQu\u00e9 tipos tienen las respuestas obtenidas?"
     ]
    },
    {
     "cell_type": "heading",
     "level": 1,
     "metadata": {},
     "source": [
      "Graficar"
     ]
    },
    {
     "cell_type": "markdown",
     "metadata": {},
     "source": [
      "Hay varios paquetes disponibles para graficar en Julia. Comenzaremos con uno llamado `PyPlot`, que es un interfaz de Julia a la librer\u00eda `matplotlib` de Python. Para asegurarte de tener instalado el paquete en tu sistema, haz\n",
      "\n",
      "    Pkg.add(\"PyPlot\")\n",
      "    \n",
      "Necesitas estar conectado a internet. Esto se hace una sola vez para cada instalaci\u00f3n de Julia.\n",
      "\n",
      "Luego en cada notebook, utiliza\n",
      "\n",
      "    using PyPlot\n",
      "    \n",
      "para hacer disponible la funcionalidad del paquete."
     ]
    },
    {
     "cell_type": "markdown",
     "metadata": {},
     "source": [
      "[5] Genera un n\u00famero grande de n\u00fameros aleatorios usando `rand`. Asigna la respuesta obtenida a una variable `x`.\n",
      "Usa `plot(x)` para dibujar los resultados. Puedes agregar una opci\u00f3n `\"o\"` a la funci\u00f3n `plot` para dibujar con puntos."
     ]
    },
    {
     "cell_type": "markdown",
     "metadata": {},
     "source": [
      "[6] Define una variable entera `N`. Genera dos colecciones de n\u00fameros aleatorios `x` y `y`, las dos de longitud `N`. Dibuja los pares $(x,y)$ con\n",
      "\n",
      "    plot(x, y)\n",
      "    \n",
      "con puntos. Utiliza\n",
      "\n",
      "    axis(\"equal\")\n",
      "    \n",
      "para que la raz\u00f3n de aspecto se vea mejor. \n",
      "\n",
      "\u00bfQu\u00e9 observas? \u00bfQu\u00e9 tipo de distribuci\u00f3n tienen los n\u00fameros aleatorios?"
     ]
    },
    {
     "cell_type": "markdown",
     "metadata": {},
     "source": [
      "[7] Genera una colecci\u00f3n de n\u00fameros aleatorios `x`. Genera otra colecci\u00f3n `y` con el mismo tama\u00f1o que `x` pero con puros ceros, usando la funci\u00f3n `zeros`. Dibuja el resultado para ver c\u00f3mo se distribuyen los n\u00fameros aleatorios en una sola dimensi\u00f3n."
     ]
    },
    {
     "cell_type": "heading",
     "level": 1,
     "metadata": {},
     "source": [
      "Usando los n\u00fameros aleatorios: caminatas aleatorias"
     ]
    },
    {
     "cell_type": "markdown",
     "metadata": {},
     "source": [
      "\u00bfPara qu\u00e9 utilizamos los n\u00fameros aleatorios? A menudo, es para llevar a cabo una operaci\u00f3n *con cierta probabilidad*."
     ]
    },
    {
     "cell_type": "markdown",
     "metadata": {},
     "source": [
      "[8] Pensando en c\u00f3mo se distribuyen los n\u00fameros aleatorios, \u00bfc\u00f3mo se puede llevar a cabo una operaci\u00f3n con probabilidad 0.5? \u00bfCon probabilidad $p$ tal que $0 < p < 1$?"
     ]
    },
    {
     "cell_type": "markdown",
     "metadata": {},
     "source": [
      "[9] Define una funci\u00f3n que genera un paso de una *caminata aleatoria*, que toma pasos a la izquierda con probabilidad 0.5 y a la derecha con probabilidad 0.5. La funci\u00f3n regresa el paso escogido."
     ]
    },
    {
     "cell_type": "markdown",
     "metadata": {},
     "source": [
      "[10] Generaliza tu funci\u00f3n para aceptar un argumento `p` que corresponde a la probabilidad $p$ de brincar a la derecha, y $1-p$ a la izquierda."
     ]
    },
    {
     "cell_type": "markdown",
     "metadata": {},
     "source": [
      "[11] Haz una funci\u00f3n que genera una trayectoria de una caminata aleatoria con $N$ pasos y probabilidad $p$."
     ]
    },
    {
     "cell_type": "code",
     "collapsed": false,
     "input": [
      "function f(p,n)\n",
      "    x=[0.0]\n",
      "    for i in 2:n\n",
      "        if rand()<=p\n",
      "            push!(x,x[i-1]+0.5)\n",
      "        else\n",
      "            push!(x,x[i-1]-0.5)\n",
      "        end\n",
      "    end\n",
      "    return x\n",
      "end"
     ],
     "language": "python",
     "metadata": {},
     "outputs": [
      {
       "metadata": {},
       "output_type": "pyout",
       "prompt_number": 1,
       "text": [
        "f (generic function with 1 method)"
       ]
      }
     ],
     "prompt_number": 1
    },
    {
     "cell_type": "code",
     "collapsed": false,
     "input": [
      "using PyPlot"
     ],
     "language": "python",
     "metadata": {},
     "outputs": [],
     "prompt_number": 2
    },
    {
     "cell_type": "code",
     "collapsed": false,
     "input": [
      "plot(f(0.5,100))"
     ],
     "language": "python",
     "metadata": {},
     "outputs": [
      {
       "metadata": {},
       "output_type": "display_data",
       "png": "[encoded data removed]",
       "text": [
        "PyPlot.Figure(PyObject <matplotlib.figure.Figure object at 0xe6c4550>)"
       ]
      },
      {
       "metadata": {},
       "output_type": "pyout",
       "prompt_number": 4,
       "text": [
        "1-element Array{Any,1}:\n",
        " PyObject <matplotlib.lines.Line2D object at 0x54b27d0>"
       ]
      }
     ],
     "prompt_number": 4
    },
    {
     "cell_type": "code",
     "collapsed": false,
     "input": [],
     "language": "python",
     "metadata": {},
     "outputs": []
    }
   ],
   "metadata": {}
  }
 ]
}