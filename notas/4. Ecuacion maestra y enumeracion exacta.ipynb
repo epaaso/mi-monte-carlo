{
 "metadata": {
  "language": "Julia",
  "name": "",
  "signature": "sha256:6855ba0b3b9e7db3788fe68f20ff50431dc358639defbab6471736b927012157"
 },
 "nbformat": 3,
 "nbformat_minor": 0,
 "worksheets": [
  {
   "cells": [
    {
     "cell_type": "heading",
     "level": 1,
     "metadata": {},
     "source": [
      "Ecuaci\u00f3n maestra"
     ]
    },
    {
     "cell_type": "markdown",
     "metadata": {},
     "source": [
      "Considera una caminata aleatoria en una dimensi\u00f3n. Hasta ahora, hemos calculado **trayectorias individuales** (realizaciones) del proceso.\n",
      "\n",
      "Ahora veamos al sistema desde un punto de vista \"dual\", en t\u00e9rminos ya no de las trayectorias individuales de las part\u00edculas, sino en caracterizar la *distribuci\u00f3n de probabilidad* completa.\n",
      "\n",
      "Sea $P_t(i)$ la probabilidad de que el caminante se encuentre en el sitio $i$ al tiempo (discreto) $t \\in \\mathbb{N}$.  Para una $t$ dada, nos interesa el conjunto de valores $\\{ P_t(i)$: $i \\in \\mathbb{Z} \\}$,\n",
      "es decir la *distribuci\u00f3n de probabilidad* (o, estrictamente, *funci\u00f3n de masa*) al tiempo $t$. Podemos pensar en este objeto como un vector $\\mathbf{P}_t$ (con, en principio, \u00a1un n\u00famero *infinito* de entradas!)"
     ]
    },
    {
     "cell_type": "heading",
     "level": 2,
     "metadata": {},
     "source": [
      "Una dimensi\u00f3n"
     ]
    },
    {
     "cell_type": "markdown",
     "metadata": {},
     "source": [
      "**[1] Sup\u00f3n que el caminante comienza en $i=0$. Escribe la distribuci\u00f3n de probabilidad inicial $\\mathbf{P}_0$.  [Pista: \u00bfCu\u00e1nto vale $P_0(i=57)$, por ejemplo?]**"
     ]
    },
    {
     "cell_type": "code",
     "collapsed": false,
     "input": [
      "using PyPlot"
     ],
     "language": "python",
     "metadata": {},
     "outputs": [
      {
       "output_type": "stream",
       "stream": "stderr",
       "text": [
        "INFO: Loading help data...\n"
       ]
      }
     ],
     "prompt_number": 1
    },
    {
     "cell_type": "code",
     "collapsed": false,
     "input": [
      "function distribucion_en_0(i::Int64)\n",
      "    frecuencia = i==0 ? 1 : 0\n",
      "end"
     ],
     "language": "python",
     "metadata": {},
     "outputs": [
      {
       "metadata": {},
       "output_type": "pyout",
       "prompt_number": 3,
       "text": [
        "distribucion_en_0 (generic function with 1 method)"
       ]
      }
     ],
     "prompt_number": 3
    },
    {
     "cell_type": "markdown",
     "metadata": {},
     "source": [
      "**[2] Escribe una ecuaci\u00f3n para $\\mathbf{P}_{t+1}$, considerando c\u00f3mo se mueve la probabilidad debido a la din\u00e1mica del caminante (brinca a la derecha con probabilidad $p$, y a la izquierda con probabilidad $q:=1-p$).  Una ecuaci\u00f3n de este tipo se llama una *ecuaci\u00f3n maestra*. **"
     ]
    },
    {
     "cell_type": "markdown",
     "metadata": {},
     "source": [
      "La ecuaci\u00f3n maestra va a ser recursiva porque vamos a basarnos en el estado anterior\n",
      "\n",
      "$P_{t+1}(i)=P_{t}(i-1)*p + P_{t}(i+1)*q$"
     ]
    },
    {
     "cell_type": "markdown",
     "metadata": {},
     "source": [
      "**[3] Resuelve num\u00e9ricamente la ecuaci\u00f3n para $p=q=\\frac{1}{2}$ y dibuja la evoluci\u00f3n de la distribuci\u00f3n en el tiempo, como varias curvas en una sola gr\u00e1fica. Haz el sistema suficientemente grande para que nunca llegue a las fronteras.**\n",
      "\n",
      "\u00bfQu\u00e9 observas? \u00bfA qu\u00e9 se parece la distribuci\u00f3n?\n",
      "[Este m\u00e9todo de resolver la ecuaci\u00f3n maestra num\u00e9ricamente se llama **enumeraci\u00f3n exacta**. \u00bfA qu\u00e9 se debe el nombre?]"
     ]
    },
    {
     "cell_type": "code",
     "collapsed": false,
     "input": [
      "function distribucion_en_sucesor(distribucion::Array{Int64,1},i::Int64)\n",
      "    \n",
      "end"
     ],
     "language": "python",
     "metadata": {},
     "outputs": []
    },
    {
     "cell_type": "code",
     "collapsed": false,
     "input": [],
     "language": "python",
     "metadata": {},
     "outputs": []
    },
    {
     "cell_type": "markdown",
     "metadata": {},
     "source": [
      "**[4] \u00bfQu\u00e9 pasa para otros valores de $p$?**"
     ]
    },
    {
     "cell_type": "markdown",
     "metadata": {},
     "source": [
      "**[5] Dibuja la evoluci\u00f3n en el tiempo como un \"heat map\" (mapa de calor), que asigna a cada celda un color seg\u00fan su valor. [Esto se puede hacer con las funciones `pcolor`, `pcolormesh` e `imshow` en `PyPlot`.]**"
     ]
    },
    {
     "cell_type": "heading",
     "level": 2,
     "metadata": {},
     "source": [
      "Dos dimensiones"
     ]
    },
    {
     "cell_type": "markdown",
     "metadata": {},
     "source": [
      "[6] Escribe la ecuaci\u00f3n maestra para un caminante en 2 dimensiones. \n",
      "\n",
      "[7] Resu\u00e9lvala y dibuja una secuencia de gr\u00e1ficas para mostrar la evoluci\u00f3n en el tiempo.\n",
      "\n",
      "[8] Haz una animaci\u00f3n."
     ]
    },
    {
     "cell_type": "heading",
     "level": 2,
     "metadata": {},
     "source": [
      "Hacia una ecuaci\u00f3n diferencial parcial"
     ]
    },
    {
     "cell_type": "markdown",
     "metadata": {},
     "source": [
      "[9] Sup\u00f3n que las celdas est\u00e1n separadas por una distancia $\\delta x$, y que cada paso del tiempo corresponde a una $\\delta t$. Reescribe la ecuaci\u00f3n maestra para un caminante en 1D y demuestra que al desarrollarla, obtienes una ecuaci\u00f3n diferencial parcial. \u00bfCu\u00e1l es?"
     ]
    },
    {
     "cell_type": "markdown",
     "metadata": {},
     "source": [
      "[10] Las soluciones anal\u00edticas de esta EDP son bien conocidas. Comp\u00e1ralas con tu soluci\u00f3n num\u00e9rica.\n",
      "\n",
      "As\u00ed, vemos que el m\u00e9todo de enumeraci\u00f3n exacta para un caminante aleatorio provee un m\u00e9todo num\u00e9rico para resolver esta EDP de evoluci\u00f3n. [El m\u00e9todo se llama el de diferencias finitas.]"
     ]
    },
    {
     "cell_type": "heading",
     "level": 2,
     "metadata": {},
     "source": [
      "Fronteras"
     ]
    },
    {
     "cell_type": "markdown",
     "metadata": {},
     "source": [
      "Si el sistema no es tan grande, las fronteras cobran importancia.\n",
      "\n",
      "[11] Consideremos fronteras **reflejantes**. Inventa una regla de c\u00f3mo tratar a la probabilidad que intente salir de la frontera. Escribe las ecuaciones correspondientes.\n",
      "\n",
      "[12] \u00bfQu\u00e9 esperas f\u00edsicamente que pase para tiempos largos si el sistema est\u00e1 contenido con fronteras reflejantes?\n",
      "\n",
      "[12] Escribe c\u00f3digo para implementar estas fronteras. Dibuja la evoluci\u00f3n del sistema. \u00bfCoincide con lo que predijiste?\n",
      "\n"
     ]
    }
   ],
   "metadata": {}
  }
 ]
}