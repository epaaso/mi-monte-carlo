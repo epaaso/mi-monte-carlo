{
 "metadata": {
  "kernelspec": {
   "display_name": "Julia 0.3.7-pre",
   "language": "julia",
   "name": "julia 0.3"
  },
  "language": "Julia",
  "language_info": {
   "name": "julia",
   "version": "0.3.7"
  },
  "name": "",
  "signature": "sha256:ba893b72c0b911bdf4b33198f87dbc71704d6b8b4f28b3eb9b353d3845c0596a"
 },
 "nbformat": 3,
 "nbformat_minor": 0,
 "worksheets": [
  {
   "cells": [
    {
     "cell_type": "heading",
     "level": 1,
     "metadata": {},
     "source": [
      "El modelo de Ising"
     ]
    },
    {
     "cell_type": "markdown",
     "metadata": {},
     "source": [
      "El modelo de Ising es un modelo simplificado de un im\u00e1n tipo hierro.\n",
      "\n",
      "Consideremos que hay una red peri\u00f3dica de \u00e1tomos, y que cada \u00e1tomo tiene un \"esp\u00edn\" (dipolo magn\u00e9tico, o \"imancito\") que puede apuntar hacia arriba o hacia abajo. Los dipolos *interact\u00faan* con sus vecinos: en el caso ferromagn\u00e9tico, hay una tendencia a que *se alineen* con sus vecinos. \n",
      "\n",
      "[Esto se debe a la llamada *interacci\u00f3n de intercambio*, el cual es un fen\u00f3meno cu\u00e1ntico complicado; v\u00e9ase, por ejemplo, el libro *The Theory of Magnetism Made Simple* de Mattis.  No es, de hecho, \u00a1nada \"simple\"...!]"
     ]
    },
    {
     "cell_type": "markdown",
     "metadata": {},
     "source": [
      "Inicialmente trabajeremos con una red cuadrada en dos dimensiones, de tama\u00f1o finito $L \\times L$. Llamaremos $N := L^2$ el n\u00famero de espines.\n",
      "\n",
      "Denotaremos el esp\u00edn en el lugar $i$ por $\\sigma_i \\in \\{+1, -1\\}$, y por una configuraci\u00f3n completa por $\\pmb {\\sigma} := (\\sigma_{i})_{i=1}^{N}$. [N\u00f3tese que estamos pensando aqu\u00ed que cada sitio tiene una etiqueta que es un entero. Tambi\u00e9n ser\u00e1 \u00fatil pensar que la etiqueta es de la forma $(i,j)$.]\n",
      "\n",
      "Denotaremos por $\\Omega_{N}$ el conjunto de todas las configuraciones posibles, es decir, el *espacio de configuraciones*."
     ]
    },
    {
     "cell_type": "markdown",
     "metadata": {},
     "source": [
      "[1] \u00bfCu\u00e1l es la cardinalidad $|\\Omega_N|$, es decir, cu\u00e1ntas configuraciones hay?"
     ]
    },
    {
     "cell_type": "markdown",
     "metadata": {},
     "source": [
      "$|\\Omega_N|=2^{N\u00b2}$"
     ]
    },
    {
     "cell_type": "markdown",
     "metadata": {},
     "source": [
      "[2] Escribe una funci\u00f3n que genere una configuraci\u00f3n \"aleatoria\". \u00bfQu\u00e9 tipo de aleatoriedad es?"
     ]
    },
    {
     "cell_type": "code",
     "collapsed": false,
     "input": [
      "function random_ising(n::Int64)\n",
      "    matrix=zeros(n,n)\n",
      "    for i in 1:n\n",
      "        for j in 1:n\n",
      "            matrix[i,j]=rand()<0.5?1:-1\n",
      "        end\n",
      "    end\n",
      "    return matrix\n",
      "end"
     ],
     "language": "python",
     "metadata": {},
     "outputs": [
      {
       "metadata": {},
       "output_type": "pyout",
       "prompt_number": 46,
       "text": [
        "random_ising (generic function with 1 method)"
       ]
      }
     ],
     "prompt_number": 46
    },
    {
     "cell_type": "code",
     "collapsed": false,
     "input": [
      "conf=random_ising(10)\n",
      "conf"
     ],
     "language": "python",
     "metadata": {},
     "outputs": [
      {
       "metadata": {},
       "output_type": "pyout",
       "prompt_number": 50,
       "text": [
        "10x10 Array{Float64,2}:\n",
        " -1.0  -1.0   1.0  -1.0  -1.0  -1.0  -1.0  -1.0   1.0   1.0\n",
        "  1.0  -1.0   1.0   1.0  -1.0   1.0  -1.0  -1.0  -1.0  -1.0\n",
        "  1.0  -1.0   1.0  -1.0  -1.0   1.0  -1.0  -1.0  -1.0  -1.0\n",
        "  1.0  -1.0  -1.0   1.0   1.0  -1.0   1.0  -1.0   1.0  -1.0\n",
        " -1.0   1.0   1.0   1.0   1.0  -1.0   1.0   1.0  -1.0   1.0\n",
        "  1.0   1.0  -1.0  -1.0  -1.0   1.0  -1.0   1.0  -1.0   1.0\n",
        " -1.0   1.0   1.0  -1.0  -1.0   1.0  -1.0   1.0   1.0  -1.0\n",
        "  1.0   1.0  -1.0   1.0  -1.0  -1.0   1.0  -1.0  -1.0   1.0\n",
        " -1.0   1.0  -1.0   1.0   1.0  -1.0   1.0   1.0  -1.0   1.0\n",
        " -1.0   1.0  -1.0  -1.0  -1.0  -1.0  -1.0   1.0   1.0  -1.0"
       ]
      }
     ],
     "prompt_number": 50
    },
    {
     "cell_type": "markdown",
     "metadata": {},
     "source": [
      "[3] La *magnetizaci\u00f3n* de una configuraci\u00f3n $\\pmb \\sigma$ se define como $M(\\pmb \\sigma) := \\sum_i \\sigma_i$."
     ]
    },
    {
     "cell_type": "markdown",
     "metadata": {},
     "source": [
      "(i) Escribe una funci\u00f3n para calcular la magnetizaci\u00f3n de una configuraci\u00f3n."
     ]
    },
    {
     "cell_type": "code",
     "collapsed": false,
     "input": [
      "M(\u03c3)=sum(\u03c3)\n",
      "M(conf)"
     ],
     "language": "python",
     "metadata": {},
     "outputs": [
      {
       "metadata": {},
       "output_type": "pyout",
       "prompt_number": 51,
       "text": [
        "-8.0"
       ]
      }
     ],
     "prompt_number": 51
    },
    {
     "cell_type": "markdown",
     "metadata": {},
     "source": [
      "(ii) \u00bfCu\u00e1les son los valores posibles de la magnetizaci\u00f3n para un sistema de tama\u00f1o $N$?"
     ]
    },
    {
     "cell_type": "markdown",
     "metadata": {},
     "source": [
      "Como solo tenemos 1's y -1's si tenemos una matriz de puros 1's, al ponerle un -1 nos saltamos a su magentizaci\u00f3n anterior -2 y as\u00ed hasta -N\u00b2, por eso las posibles magnetizaciones son $\\frac{N\u00b2}{2}+1$"
     ]
    },
    {
     "cell_type": "markdown",
     "metadata": {},
     "source": [
      "(iii) Genera bastantes configuraciones al azar y calcula la magnetizaci\u00f3n de cada una."
     ]
    },
    {
     "cell_type": "code",
     "collapsed": false,
     "input": [
      "numero_de_iteraciones=10000\n",
      "magns=zeros(numero_de_iteraciones)\n",
      "for i in 1:numero_de_iteraciones\n",
      "    magns[i]=M(random_ising(10))\n",
      "end"
     ],
     "language": "python",
     "metadata": {},
     "outputs": [],
     "prompt_number": 74
    },
    {
     "cell_type": "markdown",
     "metadata": {},
     "source": [
      "(iv) \u00bfCu\u00e1les valores realmente toma? Dibuja un histograma de los valores de la magnetizaci\u00f3n que obtienes para un sistema grande. \u00bfQu\u00e9 observas?"
     ]
    },
    {
     "cell_type": "code",
     "collapsed": false,
     "input": [
      "using PyPlot"
     ],
     "language": "python",
     "metadata": {},
     "outputs": [
      {
       "output_type": "stream",
       "stream": "stderr",
       "text": [
        "INFO: Loading help data...\n"
       ]
      }
     ],
     "prompt_number": 72
    },
    {
     "cell_type": "code",
     "collapsed": false,
     "input": [
      "PyPlot.hist(magns)"
     ],
     "language": "python",
     "metadata": {},
     "outputs": [
      {
       "metadata": {},
       "output_type": "display_data",
       "png": "[encoded data removed]",
       "text": [
        "Figure(PyObject <matplotlib.figure.Figure object at 0x7fed7ca707f0>)"
       ]
      },
      {
       "metadata": {},
       "output_type": "pyout",
       "prompt_number": 75,
       "text": [
        "([13.0,112.0,557.0,1715.0,2984.0,2786.0,1342.0,438.0,52.0,1.0],[-38.0,-30.2,-22.4,-14.6,-6.8,1.0,8.8,16.6,24.4,32.2,40.0],{PyObject <matplotlib.patches.Rectangle object at 0x7fed79746f28>,PyObject <matplotlib.patches.Rectangle object at 0x7fed7974e5c0>,PyObject <matplotlib.patches.Rectangle object at 0x7fed7974eeb8>,PyObject <matplotlib.patches.Rectangle object at 0x7fed79754780>,PyObject <matplotlib.patches.Rectangle object at 0x7fed7975a240>,PyObject <matplotlib.patches.Rectangle object at 0x7fed7975a940>,PyObject <matplotlib.patches.Rectangle object at 0x7fed7975f400>,PyObject <matplotlib.patches.Rectangle object at 0x7fed7975fb00>,PyObject <matplotlib.patches.Rectangle object at 0x7fed797665c0>,PyObject <matplotlib.patches.Rectangle object at 0x7fed79766cc0>})"
       ]
      }
     ],
     "prompt_number": 75
    },
    {
     "cell_type": "markdown",
     "metadata": {},
     "source": [
      "A pesar de tener una matrices de dimension 10x10, 100x100 o 1000x1000 la distribuci\u00f3n siempre tiene magnetizaciones entre -30 y 30"
     ]
    },
    {
     "cell_type": "markdown",
     "metadata": {},
     "source": [
      "[4] Podemos llevar a cabo un proceso estoc\u00e1stico en el espacio $\\Omega$. Un paso es como sigue:\n",
      "\n",
      "1. Escoge un esp\u00edn al azar.\n",
      "\n",
      "2. Cambiarlo al valor opuesto. (Esto se suele llamar un \"flip\" = \"darle la vuelta\".)\n",
      "\n",
      "(i) \u00bfQu\u00e9 tipo de proceso es? \u00bfA qu\u00e9 te recuerda?"
     ]
    },
    {
     "cell_type": "code",
     "collapsed": false,
     "input": [],
     "language": "python",
     "metadata": {},
     "outputs": []
    },
    {
     "cell_type": "markdown",
     "metadata": {},
     "source": [
      "(ii) Implem\u00e9ntalo, partiendo de una configuraci\u00f3n aleatoria."
     ]
    },
    {
     "cell_type": "code",
     "collapsed": false,
     "input": [
      "function flipping(conf::Array{Float64,2},t::Int64=1)\n",
      "    dim=size(conf,1)\n",
      "    for i in 1:t\n",
      "        conf[rand(1:dim),rand(1:dim)]*=-1\n",
      "    end\n",
      "    conf\n",
      "end"
     ],
     "language": "python",
     "metadata": {},
     "outputs": [
      {
       "metadata": {},
       "output_type": "pyout",
       "prompt_number": 121,
       "text": [
        "flipping (generic function with 3 methods)"
       ]
      }
     ],
     "prompt_number": 121
    },
    {
     "cell_type": "markdown",
     "metadata": {},
     "source": [
      "(iii) Dibuja c\u00f3mo cambia la magnetizaci\u00f3n en el tiempo. \u00bfQu\u00e9 observas?"
     ]
    },
    {
     "cell_type": "code",
     "collapsed": false,
     "input": [
      "tiempo=500\n",
      "magns_evol=zeros(tiempo)\n",
      "conf_inicial=random_ising(10)\n",
      "conf=conf_inicial\n",
      "for i in 1:tiempo\n",
      "    magns_evol[i]=M(conf)\n",
      "    conf=flipping(conf)\n",
      "end"
     ],
     "language": "python",
     "metadata": {},
     "outputs": [],
     "prompt_number": 123
    },
    {
     "cell_type": "code",
     "collapsed": false,
     "input": [
      "tiempo=500\n",
      "arreglo_confs=Any[]\n",
      "conf_inicial=random_ising(10)\n",
      "conf=conf_inicial\n",
      "for i in 1:tiempo\n",
      "    push!(arreglo_confs,conf)\n",
      "    conf=flipping(conf)\n",
      "end\n",
      "arreglo_confs"
     ],
     "language": "python",
     "metadata": {},
     "outputs": [
      {
       "metadata": {},
       "output_type": "pyout",
       "prompt_number": 141,
       "text": [
        "500-element Array{Any,1}:\n",
        " 10x10 Array{Float64,2}:\n",
        " -1.0  -1.0   1.0   1.0   1.0  -1.0  -1.0  -1.0  -1.0  -1.0\n",
        " -1.0  -1.0  -1.0  -1.0   1.0   1.0   1.0  -1.0   1.0  -1.0\n",
        "  1.0   1.0   1.0  -1.0   1.0   1.0   1.0  -1.0  -1.0   1.0\n",
        " -1.0  -1.0   1.0  -1.0  -1.0   1.0   1.0   1.0   1.0  -1.0\n",
        "  1.0   1.0  -1.0  -1.0   1.0   1.0   1.0  -1.0  -1.0  -1.0\n",
        "  1.0   1.0  -1.0  -1.0  -1.0   1.0  -1.0   1.0   1.0   1.0\n",
        "  1.0  -1.0  -1.0   1.0   1.0  -1.0   1.0  -1.0  -1.0  -1.0\n",
        "  1.0  -1.0  -1.0  -1.0  -1.0  -1.0   1.0   1.0  -1.0  -1.0\n",
        "  1.0  -1.0  -1.0  -1.0   1.0   1.0   1.0  -1.0   1.0   1.0\n",
        "  1.0   1.0   1.0   1.0  -1.0  -1.0  -1.0  -1.0   1.0  -1.0\n",
        " 10x10 Array{Float64,2}:\n",
        " -1.0  -1.0   1.0   1.0   1.0  -1.0  -1.0  -1.0  -1.0  -1.0\n",
        " -1.0  -1.0  -1.0  -1.0   1.0   1.0   1.0  -1.0   1.0  -1.0\n",
        "  1.0   1.0   1.0  -1.0   1.0   1.0   1.0  -1.0  -1.0   1.0\n",
        " -1.0  -1.0   1.0  -1.0  -1.0   1.0   1.0   1.0   1.0  -1.0\n",
        "  1.0   1.0  -1.0  -1.0   1.0   1.0   1.0  -1.0  -1.0  -1.0\n",
        "  1.0   1.0  -1.0  -1.0  -1.0   1.0  -1.0   1.0   1.0   1.0\n",
        "  1.0  -1.0  -1.0   1.0   1.0  -1.0   1.0  -1.0  -1.0  -1.0\n",
        "  1.0  -1.0  -1.0  -1.0  -1.0  -1.0   1.0   1.0  -1.0  -1.0\n",
        "  1.0  -1.0  -1.0  -1.0   1.0   1.0   1.0  -1.0   1.0   1.0\n",
        "  1.0   1.0   1.0   1.0  -1.0  -1.0  -1.0  -1.0   1.0  -1.0\n",
        " 10x10 Array{Float64,2}:\n",
        " -1.0  -1.0   1.0   1.0   1.0  -1.0  -1.0  -1.0  -1.0  -1.0\n",
        " -1.0  -1.0  -1.0  -1.0   1.0   1.0   1.0  -1.0   1.0  -1.0\n",
        "  1.0   1.0   1.0  -1.0   1.0   1.0   1.0  -1.0  -1.0   1.0\n",
        " -1.0  -1.0   1.0  -1.0  -1.0   1.0   1.0   1.0   1.0  -1.0\n",
        "  1.0   1.0  -1.0  -1.0   1.0   1.0   1.0  -1.0  -1.0  -1.0\n",
        "  1.0   1.0  -1.0  -1.0  -1.0   1.0  -1.0   1.0   1.0   1.0\n",
        "  1.0  -1.0  -1.0   1.0   1.0  -1.0   1.0  -1.0  -1.0  -1.0\n",
        "  1.0  -1.0  -1.0  -1.0  -1.0  -1.0   1.0   1.0  -1.0  -1.0\n",
        "  1.0  -1.0  -1.0  -1.0   1.0   1.0   1.0  -1.0   1.0   1.0\n",
        "  1.0   1.0   1.0   1.0  -1.0  -1.0  -1.0  -1.0   1.0  -1.0\n",
        " 10x10 Array{Float64,2}:\n",
        " -1.0  -1.0   1.0   1.0   1.0  -1.0  -1.0  -1.0  -1.0  -1.0\n",
        " -1.0  -1.0  -1.0  -1.0   1.0   1.0   1.0  -1.0   1.0  -1.0\n",
        "  1.0   1.0   1.0  -1.0   1.0   1.0   1.0  -1.0  -1.0   1.0\n",
        " -1.0  -1.0   1.0  -1.0  -1.0   1.0   1.0   1.0   1.0  -1.0\n",
        "  1.0   1.0  -1.0  -1.0   1.0   1.0   1.0  -1.0  -1.0  -1.0\n",
        "  1.0   1.0  -1.0  -1.0  -1.0   1.0  -1.0   1.0   1.0   1.0\n",
        "  1.0  -1.0  -1.0   1.0   1.0  -1.0   1.0  -1.0  -1.0  -1.0\n",
        "  1.0  -1.0  -1.0  -1.0  -1.0  -1.0   1.0   1.0  -1.0  -1.0\n",
        "  1.0  -1.0  -1.0  -1.0   1.0   1.0   1.0  -1.0   1.0   1.0\n",
        "  1.0   1.0   1.0   1.0  -1.0  -1.0  -1.0  -1.0   1.0  -1.0\n",
        " 10x10 Array{Float64,2}:\n",
        " -1.0  -1.0   1.0   1.0   1.0  -1.0  -1.0  -1.0  -1.0  -1.0\n",
        " -1.0  -1.0  -1.0  -1.0   1.0   1.0   1.0  -1.0   1.0  -1.0\n",
        "  1.0   1.0   1.0  -1.0   1.0   1.0   1.0  -1.0  -1.0   1.0\n",
        " -1.0  -1.0   1.0  -1.0  -1.0   1.0   1.0   1.0   1.0  -1.0\n",
        "  1.0   1.0  -1.0  -1.0   1.0   1.0   1.0  -1.0  -1.0  -1.0\n",
        "  1.0   1.0  -1.0  -1.0  -1.0   1.0  -1.0   1.0   1.0   1.0\n",
        "  1.0  -1.0  -1.0   1.0   1.0  -1.0   1.0  -1.0  -1.0  -1.0\n",
        "  1.0  -1.0  -1.0  -1.0  -1.0  -1.0   1.0   1.0  -1.0  -1.0\n",
        "  1.0  -1.0  -1.0  -1.0   1.0   1.0   1.0  -1.0   1.0   1.0\n",
        "  1.0   1.0   1.0   1.0  -1.0  -1.0  -1.0  -1.0   1.0  -1.0\n",
        " 10x10 Array{Float64,2}:\n",
        " -1.0  -1.0   1.0   1.0   1.0  -1.0  -1.0  -1.0  -1.0  -1.0\n",
        " -1.0  -1.0  -1.0  -1.0   1.0   1.0   1.0  -1.0   1.0  -1.0\n",
        "  1.0   1.0   1.0  -1.0   1.0   1.0   1.0  -1.0  -1.0   1.0\n",
        " -1.0  -1.0   1.0  -1.0  -1.0   1.0   1.0   1.0   1.0  -1.0\n",
        "  1.0   1.0  -1.0  -1.0   1.0   1.0   1.0  -1.0  -1.0  -1.0\n",
        "  1.0   1.0  -1.0  -1.0  -1.0   1.0  -1.0   1.0   1.0   1.0\n",
        "  1.0  -1.0  -1.0   1.0   1.0  -1.0   1.0  -1.0  -1.0  -1.0\n",
        "  1.0  -1.0  -1.0  -1.0  -1.0  -1.0   1.0   1.0  -1.0  -1.0\n",
        "  1.0  -1.0  -1.0  -1.0   1.0   1.0   1.0  -1.0   1.0   1.0\n",
        "  1.0   1.0   1.0   1.0  -1.0  -1.0  -1.0  -1.0   1.0  -1.0\n",
        " 10x10 Array{Float64,2}:\n",
        " -1.0  -1.0   1.0   1.0   1.0  -1.0  -1.0  -1.0  -1.0  -1.0\n",
        " -1.0  -1.0  -1.0  -1.0   1.0   1.0   1.0  -1.0   1.0  -1.0\n",
        "  1.0   1.0   1.0  -1.0   1.0   1.0   1.0  -1.0  -1.0   1.0\n",
        " -1.0  -1.0   1.0  -1.0  -1.0   1.0   1.0   1.0   1.0  -1.0\n",
        "  1.0   1.0  -1.0  -1.0   1.0   1.0   1.0  -1.0  -1.0  -1.0\n",
        "  1.0   1.0  -1.0  -1.0  -1.0   1.0  -1.0   1.0   1.0   1.0\n",
        "  1.0  -1.0  -1.0   1.0   1.0  -1.0   1.0  -1.0  -1.0  -1.0\n",
        "  1.0  -1.0  -1.0  -1.0  -1.0  -1.0   1.0   1.0  -1.0  -1.0\n",
        "  1.0  -1.0  -1.0  -1.0   1.0   1.0   1.0  -1.0   1.0   1.0\n",
        "  1.0   1.0   1.0   1.0  -1.0  -1.0  -1.0  -1.0   1.0  -1.0\n",
        " 10x10 Array{Float64,2}:\n",
        " -1.0  -1.0   1.0   1.0   1.0  -1.0  -1.0  -1.0  -1.0  -1.0\n",
        " -1.0  -1.0  -1.0  -1.0   1.0   1.0   1.0  -1.0   1.0  -1.0\n",
        "  1.0   1.0   1.0  -1.0   1.0   1.0   1.0  -1.0  -1.0   1.0\n",
        " -1.0  -1.0   1.0  -1.0  -1.0   1.0   1.0   1.0   1.0  -1.0\n",
        "  1.0   1.0  -1.0  -1.0   1.0   1.0   1.0  -1.0  -1.0  -1.0\n",
        "  1.0   1.0  -1.0  -1.0  -1.0   1.0  -1.0   1.0   1.0   1.0\n",
        "  1.0  -1.0  -1.0   1.0   1.0  -1.0   1.0  -1.0  -1.0  -1.0\n",
        "  1.0  -1.0  -1.0  -1.0  -1.0  -1.0   1.0   1.0  -1.0  -1.0\n",
        "  1.0  -1.0  -1.0  -1.0   1.0   1.0   1.0  -1.0   1.0   1.0\n",
        "  1.0   1.0   1.0   1.0  -1.0  -1.0  -1.0  -1.0   1.0  -1.0\n",
        " 10x10 Array{Float64,2}:\n",
        " -1.0  -1.0   1.0   1.0   1.0  -1.0  -1.0  -1.0  -1.0  -1.0\n",
        " -1.0  -1.0  -1.0  -1.0   1.0   1.0   1.0  -1.0   1.0  -1.0\n",
        "  1.0   1.0   1.0  -1.0   1.0   1.0   1.0  -1.0  -1.0   1.0\n",
        " -1.0  -1.0   1.0  -1.0  -1.0   1.0   1.0   1.0   1.0  -1.0\n",
        "  1.0   1.0  -1.0  -1.0   1.0   1.0   1.0  -1.0  -1.0  -1.0\n",
        "  1.0   1.0  -1.0  -1.0  -1.0   1.0  -1.0   1.0   1.0   1.0\n",
        "  1.0  -1.0  -1.0   1.0   1.0  -1.0   1.0  -1.0  -1.0  -1.0\n",
        "  1.0  -1.0  -1.0  -1.0  -1.0  -1.0   1.0   1.0  -1.0  -1.0\n",
        "  1.0  -1.0  -1.0  -1.0   1.0   1.0   1.0  -1.0   1.0   1.0\n",
        "  1.0   1.0   1.0   1.0  -1.0  -1.0  -1.0  -1.0   1.0  -1.0\n",
        " 10x10 Array{Float64,2}:\n",
        " -1.0  -1.0   1.0   1.0   1.0  -1.0  -1.0  -1.0  -1.0  -1.0\n",
        " -1.0  -1.0  -1.0  -1.0   1.0   1.0   1.0  -1.0   1.0  -1.0\n",
        "  1.0   1.0   1.0  -1.0   1.0   1.0   1.0  -1.0  -1.0   1.0\n",
        " -1.0  -1.0   1.0  -1.0  -1.0   1.0   1.0   1.0   1.0  -1.0\n",
        "  1.0   1.0  -1.0  -1.0   1.0   1.0   1.0  -1.0  -1.0  -1.0\n",
        "  1.0   1.0  -1.0  -1.0  -1.0   1.0  -1.0   1.0   1.0   1.0\n",
        "  1.0  -1.0  -1.0   1.0   1.0  -1.0   1.0  -1.0  -1.0  -1.0\n",
        "  1.0  -1.0  -1.0  -1.0  -1.0  -1.0   1.0   1.0  -1.0  -1.0\n",
        "  1.0  -1.0  -1.0  -1.0   1.0   1.0   1.0  -1.0   1.0   1.0\n",
        "  1.0   1.0   1.0   1.0  -1.0  -1.0  -1.0  -1.0   1.0  -1.0\n",
        " 10x10 Array{Float64,2}:\n",
        " -1.0  -1.0   1.0   1.0   1.0  -1.0  -1.0  -1.0  -1.0  -1.0\n",
        " -1.0  -1.0  -1.0  -1.0   1.0   1.0   1.0  -1.0   1.0  -1.0\n",
        "  1.0   1.0   1.0  -1.0   1.0   1.0   1.0  -1.0  -1.0   1.0\n",
        " -1.0  -1.0   1.0  -1.0  -1.0   1.0   1.0   1.0   1.0  -1.0\n",
        "  1.0   1.0  -1.0  -1.0   1.0   1.0   1.0  -1.0  -1.0  -1.0\n",
        "  1.0   1.0  -1.0  -1.0  -1.0   1.0  -1.0   1.0   1.0   1.0\n",
        "  1.0  -1.0  -1.0   1.0   1.0  -1.0   1.0  -1.0  -1.0  -1.0\n",
        "  1.0  -1.0  -1.0  -1.0  -1.0  -1.0   1.0   1.0  -1.0  -1.0\n",
        "  1.0  -1.0  -1.0  -1.0   1.0   1.0   1.0  -1.0   1.0   1.0\n",
        "  1.0   1.0   1.0   1.0  -1.0  -1.0  -1.0  -1.0   1.0  -1.0\n",
        " 10x10 Array{Float64,2}:\n",
        " -1.0  -1.0   1.0   1.0   1.0  -1.0  -1.0  -1.0  -1.0  -1.0\n",
        " -1.0  -1.0  -1.0  -1.0   1.0   1.0   1.0  -1.0   1.0  -1.0\n",
        "  1.0   1.0   1.0  -1.0   1.0   1.0   1.0  -1.0  -1.0   1.0\n",
        " -1.0  -1.0   1.0  -1.0  -1.0   1.0   1.0   1.0   1.0  -1.0\n",
        "  1.0   1.0  -1.0  -1.0   1.0   1.0   1.0  -1.0  -1.0  -1.0\n",
        "  1.0   1.0  -1.0  -1.0  -1.0   1.0  -1.0   1.0   1.0   1.0\n",
        "  1.0  -1.0  -1.0   1.0   1.0  -1.0   1.0  -1.0  -1.0  -1.0\n",
        "  1.0  -1.0  -1.0  -1.0  -1.0  -1.0   1.0   1.0  -1.0  -1.0\n",
        "  1.0  -1.0  -1.0  -1.0   1.0   1.0   1.0  -1.0   1.0   1.0\n",
        "  1.0   1.0   1.0   1.0  -1.0  -1.0  -1.0  -1.0   1.0  -1.0\n",
        " 10x10 Array{Float64,2}:\n",
        " -1.0  -1.0   1.0   1.0   1.0  -1.0  -1.0  -1.0  -1.0  -1.0\n",
        " -1.0  -1.0  -1.0  -1.0   1.0   1.0   1.0  -1.0   1.0  -1.0\n",
        "  1.0   1.0   1.0  -1.0   1.0   1.0   1.0  -1.0  -1.0   1.0\n",
        " -1.0  -1.0   1.0  -1.0  -1.0   1.0   1.0   1.0   1.0  -1.0\n",
        "  1.0   1.0  -1.0  -1.0   1.0   1.0   1.0  -1.0  -1.0  -1.0\n",
        "  1.0   1.0  -1.0  -1.0  -1.0   1.0  -1.0   1.0   1.0   1.0\n",
        "  1.0  -1.0  -1.0   1.0   1.0  -1.0   1.0  -1.0  -1.0  -1.0\n",
        "  1.0  -1.0  -1.0  -1.0  -1.0  -1.0   1.0   1.0  -1.0  -1.0\n",
        "  1.0  -1.0  -1.0  -1.0   1.0   1.0   1.0  -1.0   1.0   1.0\n",
        "  1.0   1.0   1.0   1.0  -1.0  -1.0  -1.0  -1.0   1.0  -1.0\n",
        " \u22ee                                                                                                                                                                                                                                                                                                                                                                                                                                                                                                                                                                                                                                              \n",
        " 10x10 Array{Float64,2}:\n",
        " -1.0  -1.0   1.0   1.0   1.0  -1.0  -1.0  -1.0  -1.0  -1.0\n",
        " -1.0  -1.0  -1.0  -1.0   1.0   1.0   1.0  -1.0   1.0  -1.0\n",
        "  1.0   1.0   1.0  -1.0   1.0   1.0   1.0  -1.0  -1.0   1.0\n",
        " -1.0  -1.0   1.0  -1.0  -1.0   1.0   1.0   1.0   1.0  -1.0\n",
        "  1.0   1.0  -1.0  -1.0   1.0   1.0   1.0  -1.0  -1.0  -1.0\n",
        "  1.0   1.0  -1.0  -1.0  -1.0   1.0  -1.0   1.0   1.0   1.0\n",
        "  1.0  -1.0  -1.0   1.0   1.0  -1.0   1.0  -1.0  -1.0  -1.0\n",
        "  1.0  -1.0  -1.0  -1.0  -1.0  -1.0   1.0   1.0  -1.0  -1.0\n",
        "  1.0  -1.0  -1.0  -1.0   1.0   1.0   1.0  -1.0   1.0   1.0\n",
        "  1.0   1.0   1.0   1.0  -1.0  -1.0  -1.0  -1.0   1.0  -1.0\n",
        " 10x10 Array{Float64,2}:\n",
        " -1.0  -1.0   1.0   1.0   1.0  -1.0  -1.0  -1.0  -1.0  -1.0\n",
        " -1.0  -1.0  -1.0  -1.0   1.0   1.0   1.0  -1.0   1.0  -1.0\n",
        "  1.0   1.0   1.0  -1.0   1.0   1.0   1.0  -1.0  -1.0   1.0\n",
        " -1.0  -1.0   1.0  -1.0  -1.0   1.0   1.0   1.0   1.0  -1.0\n",
        "  1.0   1.0  -1.0  -1.0   1.0   1.0   1.0  -1.0  -1.0  -1.0\n",
        "  1.0   1.0  -1.0  -1.0  -1.0   1.0  -1.0   1.0   1.0   1.0\n",
        "  1.0  -1.0  -1.0   1.0   1.0  -1.0   1.0  -1.0  -1.0  -1.0\n",
        "  1.0  -1.0  -1.0  -1.0  -1.0  -1.0   1.0   1.0  -1.0  -1.0\n",
        "  1.0  -1.0  -1.0  -1.0   1.0   1.0   1.0  -1.0   1.0   1.0\n",
        "  1.0   1.0   1.0   1.0  -1.0  -1.0  -1.0  -1.0   1.0  -1.0\n",
        " 10x10 Array{Float64,2}:\n",
        " -1.0  -1.0   1.0   1.0   1.0  -1.0  -1.0  -1.0  -1.0  -1.0\n",
        " -1.0  -1.0  -1.0  -1.0   1.0   1.0   1.0  -1.0   1.0  -1.0\n",
        "  1.0   1.0   1.0  -1.0   1.0   1.0   1.0  -1.0  -1.0   1.0\n",
        " -1.0  -1.0   1.0  -1.0  -1.0   1.0   1.0   1.0   1.0  -1.0\n",
        "  1.0   1.0  -1.0  -1.0   1.0   1.0   1.0  -1.0  -1.0  -1.0\n",
        "  1.0   1.0  -1.0  -1.0  -1.0   1.0  -1.0   1.0   1.0   1.0\n",
        "  1.0  -1.0  -1.0   1.0   1.0  -1.0   1.0  -1.0  -1.0  -1.0\n",
        "  1.0  -1.0  -1.0  -1.0  -1.0  -1.0   1.0   1.0  -1.0  -1.0\n",
        "  1.0  -1.0  -1.0  -1.0   1.0   1.0   1.0  -1.0   1.0   1.0\n",
        "  1.0   1.0   1.0   1.0  -1.0  -1.0  -1.0  -1.0   1.0  -1.0\n",
        " 10x10 Array{Float64,2}:\n",
        " -1.0  -1.0   1.0   1.0   1.0  -1.0  -1.0  -1.0  -1.0  -1.0\n",
        " -1.0  -1.0  -1.0  -1.0   1.0   1.0   1.0  -1.0   1.0  -1.0\n",
        "  1.0   1.0   1.0  -1.0   1.0   1.0   1.0  -1.0  -1.0   1.0\n",
        " -1.0  -1.0   1.0  -1.0  -1.0   1.0   1.0   1.0   1.0  -1.0\n",
        "  1.0   1.0  -1.0  -1.0   1.0   1.0   1.0  -1.0  -1.0  -1.0\n",
        "  1.0   1.0  -1.0  -1.0  -1.0   1.0  -1.0   1.0   1.0   1.0\n",
        "  1.0  -1.0  -1.0   1.0   1.0  -1.0   1.0  -1.0  -1.0  -1.0\n",
        "  1.0  -1.0  -1.0  -1.0  -1.0  -1.0   1.0   1.0  -1.0  -1.0\n",
        "  1.0  -1.0  -1.0  -1.0   1.0   1.0   1.0  -1.0   1.0   1.0\n",
        "  1.0   1.0   1.0   1.0  -1.0  -1.0  -1.0  -1.0   1.0  -1.0\n",
        " 10x10 Array{Float64,2}:\n",
        " -1.0  -1.0   1.0   1.0   1.0  -1.0  -1.0  -1.0  -1.0  -1.0\n",
        " -1.0  -1.0  -1.0  -1.0   1.0   1.0   1.0  -1.0   1.0  -1.0\n",
        "  1.0   1.0   1.0  -1.0   1.0   1.0   1.0  -1.0  -1.0   1.0\n",
        " -1.0  -1.0   1.0  -1.0  -1.0   1.0   1.0   1.0   1.0  -1.0\n",
        "  1.0   1.0  -1.0  -1.0   1.0   1.0   1.0  -1.0  -1.0  -1.0\n",
        "  1.0   1.0  -1.0  -1.0  -1.0   1.0  -1.0   1.0   1.0   1.0\n",
        "  1.0  -1.0  -1.0   1.0   1.0  -1.0   1.0  -1.0  -1.0  -1.0\n",
        "  1.0  -1.0  -1.0  -1.0  -1.0  -1.0   1.0   1.0  -1.0  -1.0\n",
        "  1.0  -1.0  -1.0  -1.0   1.0   1.0   1.0  -1.0   1.0   1.0\n",
        "  1.0   1.0   1.0   1.0  -1.0  -1.0  -1.0  -1.0   1.0  -1.0\n",
        " 10x10 Array{Float64,2}:\n",
        " -1.0  -1.0   1.0   1.0   1.0  -1.0  -1.0  -1.0  -1.0  -1.0\n",
        " -1.0  -1.0  -1.0  -1.0   1.0   1.0   1.0  -1.0   1.0  -1.0\n",
        "  1.0   1.0   1.0  -1.0   1.0   1.0   1.0  -1.0  -1.0   1.0\n",
        " -1.0  -1.0   1.0  -1.0  -1.0   1.0   1.0   1.0   1.0  -1.0\n",
        "  1.0   1.0  -1.0  -1.0   1.0   1.0   1.0  -1.0  -1.0  -1.0\n",
        "  1.0   1.0  -1.0  -1.0  -1.0   1.0  -1.0   1.0   1.0   1.0\n",
        "  1.0  -1.0  -1.0   1.0   1.0  -1.0   1.0  -1.0  -1.0  -1.0\n",
        "  1.0  -1.0  -1.0  -1.0  -1.0  -1.0   1.0   1.0  -1.0  -1.0\n",
        "  1.0  -1.0  -1.0  -1.0   1.0   1.0   1.0  -1.0   1.0   1.0\n",
        "  1.0   1.0   1.0   1.0  -1.0  -1.0  -1.0  -1.0   1.0  -1.0\n",
        " 10x10 Array{Float64,2}:\n",
        " -1.0  -1.0   1.0   1.0   1.0  -1.0  -1.0  -1.0  -1.0  -1.0\n",
        " -1.0  -1.0  -1.0  -1.0   1.0   1.0   1.0  -1.0   1.0  -1.0\n",
        "  1.0   1.0   1.0  -1.0   1.0   1.0   1.0  -1.0  -1.0   1.0\n",
        " -1.0  -1.0   1.0  -1.0  -1.0   1.0   1.0   1.0   1.0  -1.0\n",
        "  1.0   1.0  -1.0  -1.0   1.0   1.0   1.0  -1.0  -1.0  -1.0\n",
        "  1.0   1.0  -1.0  -1.0  -1.0   1.0  -1.0   1.0   1.0   1.0\n",
        "  1.0  -1.0  -1.0   1.0   1.0  -1.0   1.0  -1.0  -1.0  -1.0\n",
        "  1.0  -1.0  -1.0  -1.0  -1.0  -1.0   1.0   1.0  -1.0  -1.0\n",
        "  1.0  -1.0  -1.0  -1.0   1.0   1.0   1.0  -1.0   1.0   1.0\n",
        "  1.0   1.0   1.0   1.0  -1.0  -1.0  -1.0  -1.0   1.0  -1.0\n",
        " 10x10 Array{Float64,2}:\n",
        " -1.0  -1.0   1.0   1.0   1.0  -1.0  -1.0  -1.0  -1.0  -1.0\n",
        " -1.0  -1.0  -1.0  -1.0   1.0   1.0   1.0  -1.0   1.0  -1.0\n",
        "  1.0   1.0   1.0  -1.0   1.0   1.0   1.0  -1.0  -1.0   1.0\n",
        " -1.0  -1.0   1.0  -1.0  -1.0   1.0   1.0   1.0   1.0  -1.0\n",
        "  1.0   1.0  -1.0  -1.0   1.0   1.0   1.0  -1.0  -1.0  -1.0\n",
        "  1.0   1.0  -1.0  -1.0  -1.0   1.0  -1.0   1.0   1.0   1.0\n",
        "  1.0  -1.0  -1.0   1.0   1.0  -1.0   1.0  -1.0  -1.0  -1.0\n",
        "  1.0  -1.0  -1.0  -1.0  -1.0  -1.0   1.0   1.0  -1.0  -1.0\n",
        "  1.0  -1.0  -1.0  -1.0   1.0   1.0   1.0  -1.0   1.0   1.0\n",
        "  1.0   1.0   1.0   1.0  -1.0  -1.0  -1.0  -1.0   1.0  -1.0\n",
        " 10x10 Array{Float64,2}:\n",
        " -1.0  -1.0   1.0   1.0   1.0  -1.0  -1.0  -1.0  -1.0  -1.0\n",
        " -1.0  -1.0  -1.0  -1.0   1.0   1.0   1.0  -1.0   1.0  -1.0\n",
        "  1.0   1.0   1.0  -1.0   1.0   1.0   1.0  -1.0  -1.0   1.0\n",
        " -1.0  -1.0   1.0  -1.0  -1.0   1.0   1.0   1.0   1.0  -1.0\n",
        "  1.0   1.0  -1.0  -1.0   1.0   1.0   1.0  -1.0  -1.0  -1.0\n",
        "  1.0   1.0  -1.0  -1.0  -1.0   1.0  -1.0   1.0   1.0   1.0\n",
        "  1.0  -1.0  -1.0   1.0   1.0  -1.0   1.0  -1.0  -1.0  -1.0\n",
        "  1.0  -1.0  -1.0  -1.0  -1.0  -1.0   1.0   1.0  -1.0  -1.0\n",
        "  1.0  -1.0  -1.0  -1.0   1.0   1.0   1.0  -1.0   1.0   1.0\n",
        "  1.0   1.0   1.0   1.0  -1.0  -1.0  -1.0  -1.0   1.0  -1.0\n",
        " 10x10 Array{Float64,2}:\n",
        " -1.0  -1.0   1.0   1.0   1.0  -1.0  -1.0  -1.0  -1.0  -1.0\n",
        " -1.0  -1.0  -1.0  -1.0   1.0   1.0   1.0  -1.0   1.0  -1.0\n",
        "  1.0   1.0   1.0  -1.0   1.0   1.0   1.0  -1.0  -1.0   1.0\n",
        " -1.0  -1.0   1.0  -1.0  -1.0   1.0   1.0   1.0   1.0  -1.0\n",
        "  1.0   1.0  -1.0  -1.0   1.0   1.0   1.0  -1.0  -1.0  -1.0\n",
        "  1.0   1.0  -1.0  -1.0  -1.0   1.0  -1.0   1.0   1.0   1.0\n",
        "  1.0  -1.0  -1.0   1.0   1.0  -1.0   1.0  -1.0  -1.0  -1.0\n",
        "  1.0  -1.0  -1.0  -1.0  -1.0  -1.0   1.0   1.0  -1.0  -1.0\n",
        "  1.0  -1.0  -1.0  -1.0   1.0   1.0   1.0  -1.0   1.0   1.0\n",
        "  1.0   1.0   1.0   1.0  -1.0  -1.0  -1.0  -1.0   1.0  -1.0\n",
        " 10x10 Array{Float64,2}:\n",
        " -1.0  -1.0   1.0   1.0   1.0  -1.0  -1.0  -1.0  -1.0  -1.0\n",
        " -1.0  -1.0  -1.0  -1.0   1.0   1.0   1.0  -1.0   1.0  -1.0\n",
        "  1.0   1.0   1.0  -1.0   1.0   1.0   1.0  -1.0  -1.0   1.0\n",
        " -1.0  -1.0   1.0  -1.0  -1.0   1.0   1.0   1.0   1.0  -1.0\n",
        "  1.0   1.0  -1.0  -1.0   1.0   1.0   1.0  -1.0  -1.0  -1.0\n",
        "  1.0   1.0  -1.0  -1.0  -1.0   1.0  -1.0   1.0   1.0   1.0\n",
        "  1.0  -1.0  -1.0   1.0   1.0  -1.0   1.0  -1.0  -1.0  -1.0\n",
        "  1.0  -1.0  -1.0  -1.0  -1.0  -1.0   1.0   1.0  -1.0  -1.0\n",
        "  1.0  -1.0  -1.0  -1.0   1.0   1.0   1.0  -1.0   1.0   1.0\n",
        "  1.0   1.0   1.0   1.0  -1.0  -1.0  -1.0  -1.0   1.0  -1.0\n",
        " 10x10 Array{Float64,2}:\n",
        " -1.0  -1.0   1.0   1.0   1.0  -1.0  -1.0  -1.0  -1.0  -1.0\n",
        " -1.0  -1.0  -1.0  -1.0   1.0   1.0   1.0  -1.0   1.0  -1.0\n",
        "  1.0   1.0   1.0  -1.0   1.0   1.0   1.0  -1.0  -1.0   1.0\n",
        " -1.0  -1.0   1.0  -1.0  -1.0   1.0   1.0   1.0   1.0  -1.0\n",
        "  1.0   1.0  -1.0  -1.0   1.0   1.0   1.0  -1.0  -1.0  -1.0\n",
        "  1.0   1.0  -1.0  -1.0  -1.0   1.0  -1.0   1.0   1.0   1.0\n",
        "  1.0  -1.0  -1.0   1.0   1.0  -1.0   1.0  -1.0  -1.0  -1.0\n",
        "  1.0  -1.0  -1.0  -1.0  -1.0  -1.0   1.0   1.0  -1.0  -1.0\n",
        "  1.0  -1.0  -1.0  -1.0   1.0   1.0   1.0  -1.0   1.0   1.0\n",
        "  1.0   1.0   1.0   1.0  -1.0  -1.0  -1.0  -1.0   1.0  -1.0"
       ]
      }
     ],
     "prompt_number": 141
    },
    {
     "cell_type": "code",
     "collapsed": false,
     "input": [
      "using PyCall\n",
      "@pyimport matplotlib.animation as anim\n",
      "fig=figure()\n",
      "ims = [[PyPlot.hist(distribuci\u00f3n_en_t_2D(distribucion_inicial_2D,i) )] for i=1:100]\n",
      "ani = anim.ArtistAnimation(fig, ims, interval=140, blit=true)\n",
      "ani[:save](\"caminante2D.mp4\", extra_args=[\"-vcodec\", \"libx264\", \"-pix_fmt\", \"yuv420p\"])\n",
      "display(\"text/html\", string(\"\"\"<video autoplay controls><source src=\"data:video/x-m4v;base64,\"\"\",\n",
      "                            base64(open(readbytes,\"caminante2D.mp4\")),\"\"\"\" type=\"video/mp4\"></video>\"\"\"))"
     ],
     "language": "python",
     "metadata": {},
     "outputs": []
    },
    {
     "cell_type": "markdown",
     "metadata": {},
     "source": [
      "(iv) \u00bfCu\u00e1l es el *promedio temporal* (promedio *en el tiempo*) de la magnetizaci\u00f3n?"
     ]
    },
    {
     "cell_type": "code",
     "collapsed": false,
     "input": [],
     "language": "python",
     "metadata": {},
     "outputs": [
      {
       "metadata": {},
       "output_type": "pyout",
       "prompt_number": 136,
       "text": [
        "5-element Array{Array{Int64,1},1}:\n",
        " [2,3,4]\n",
        " [3,4,5]\n",
        " [4,5,6]\n",
        " [5,6,7]\n",
        " [6,7,8]"
       ]
      }
     ],
     "prompt_number": 136
    },
    {
     "cell_type": "heading",
     "level": 2,
     "metadata": {},
     "source": [
      "La energ\u00eda"
     ]
    },
    {
     "cell_type": "markdown",
     "metadata": {},
     "source": [
      "Hasta ahora, no hemos modelado las *interacciones* entre los espines, que es lo que hace interesante y rico el modelo. Para ello, tomaremos en cuenta que los espines \"quieren\" alinearse con sus vecinos, es decir, que la *energ\u00eda* ser\u00e1 *menor* cuando dos vecinos est\u00e9n alineados."
     ]
    },
    {
     "cell_type": "markdown",
     "metadata": {},
     "source": [
      "[5] Considera un par de espines vecinos $\\sigma_i$ y $\\sigma_j$. Escribe una tabla de los valores posibles de los dos espines y las energ\u00edas correspondientes que asignaremos."
     ]
    },
    {
     "cell_type": "markdown",
     "metadata": {},
     "source": [
      "[6] (i) Implementa una funci\u00f3n que toma una configuraci\u00f3n $\\pmb \\sigma$ y regresa la energ\u00eda correspondiente $E(\\pmb \\sigma)$. \n",
      "\n",
      "(ii) Calcula anal\u00edticamente los valores m\u00ednimo y m\u00e1ximo posible de la energ\u00eda para un sistema de tama\u00f1o $L_1 \\times L_2$. \u00bfA qu\u00e9 tipo de configuraciones corresponden? \u00bfCu\u00e1ntas configuraciones hay con estos valores de la energ\u00eda?\n",
      "\n",
      "(iii) Verifica que tu c\u00f3digo reproduzca estos resultados anal\u00edticos para estas configuraciones."
     ]
    },
    {
     "cell_type": "markdown",
     "metadata": {},
     "source": [
      "[7] En la pregunta [6], hubo que escoger qu\u00e9 hacer en las fronteras e la configuraci\u00f3n finita. Enumera unas posibilidades de c\u00f3mo tratar las fronteras e implem\u00e9ntalas, en particular el caso de fronteras **peri\u00f3dicas**."
     ]
    }
   ],
   "metadata": {}
  }
 ]
}