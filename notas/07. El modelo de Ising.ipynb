{
 "metadata": {
  "kernelspec": {
   "display_name": "Julia 0.3.7-pre",
   "language": "julia",
   "name": "julia 0.3"
  },
  "language_info": {
   "name": "julia",
   "version": "0.3.7"
  },
  "name": ""
 },
 "nbformat": 3,
 "nbformat_minor": 0,
 "worksheets": [
  {
   "cells": [
    {
     "cell_type": "heading",
     "level": 1,
     "metadata": {},
     "source": [
      "El modelo de Ising"
     ]
    },
    {
     "cell_type": "markdown",
     "metadata": {},
     "source": [
      "El modelo de Ising es un modelo simplificado de un im\u00e1n tipo hierro.\n",
      "\n",
      "Consideremos que hay una red peri\u00f3dica de \u00e1tomos, y que cada \u00e1tomo tiene un \"esp\u00edn\" (dipolo magn\u00e9tico, o \"imancito\") que puede apuntar hacia arriba o hacia abajo. Los dipolos *interact\u00faan* con sus vecinos: en el caso ferromagn\u00e9tico, hay una tendencia a que *se alineen* con sus vecinos. \n",
      "\n",
      "[Esto se debe a la llamada *interacci\u00f3n de intercambio*, el cual es un fen\u00f3meno cu\u00e1ntico complicado; v\u00e9ase, por ejemplo, el libro *The Theory of Magnetism Made Simple* de Mattis.  No es, de hecho, \u00a1nada \"simple\"...!]"
     ]
    },
    {
     "cell_type": "markdown",
     "metadata": {},
     "source": [
      "Inicialmente trabajeremos con una red cuadrada en dos dimensiones, de tama\u00f1o finito $L \\times L$. Llamaremos $N := L^2$ el n\u00famero de espines.\n",
      "\n",
      "Denotaremos el esp\u00edn en el lugar $i$ por $\\sigma_i \\in \\{+1, -1\\}$, y por una configuraci\u00f3n completa por $\\pmb {\\sigma} := (\\sigma_{i})_{i=1}^{N}$. [N\u00f3tese que estamos pensando aqu\u00ed que cada sitio tiene una etiqueta que es un entero. Tambi\u00e9n ser\u00e1 \u00fatil pensar que la etiqueta es de la forma $(i,j)$.]\n",
      "\n",
      "Denotaremos por $\\Omega_{N}$ el conjunto de todas las configuraciones posibles, es decir, el *espacio de configuraciones*."
     ]
    },
    {
     "cell_type": "markdown",
     "metadata": {},
     "source": [
      "[1] \u00bfCu\u00e1l es la cardinalidad $|\\Omega_N|$, es decir, cu\u00e1ntas configuraciones hay?\n",
      "\n",
      "[2] Escribe una funci\u00f3n que genere una configuraci\u00f3n \"aleatoria\". \u00bfQu\u00e9 tipo de aleatoriedad es?\n",
      "\n",
      "[3] La *magnetizaci\u00f3n* de una configuraci\u00f3n $\\pmb \\sigma$ se define como $M(\\pmb \\sigma) := \\sum_i \\sigma_i$. \n",
      "\n",
      "(i) Escribe una funci\u00f3n para calcular la magnetizaci\u00f3n de una configuraci\u00f3n.\n",
      "\n",
      "(ii) \u00bfCu\u00e1les son los valores posibles de la magnetizaci\u00f3n para un sistema de tama\u00f1o $N$?\n",
      "\n",
      "(iii) Genera bastantes configuraciones al azar y calcula la magnetizaci\u00f3n de cada una.\n",
      "\n",
      "(iv) \u00bfCu\u00e1les valores realmente toma? Dibuja un histograma de los valores de la magnetizaci\u00f3n que obtienes para un sistema grande. \u00bfQu\u00e9 observas?"
     ]
    },
    {
     "cell_type": "markdown",
     "metadata": {},
     "source": [
      "[4] Podemos llevar a cabo un proceso estoc\u00e1stico en el espacio $\\Omega$. Un paso es como sigue:\n",
      "\n",
      "1. Escoge un esp\u00edn al azar.\n",
      "\n",
      "2. Cambiarlo al valor opuesto. (Esto se suele llamar un \"flip\" = \"darle la vuelta\".)\n",
      "\n",
      "(i) \u00bfQu\u00e9 tipo de proceso es? \u00bfA qu\u00e9 te recuerda?\n",
      "\n",
      "(ii) Implem\u00e9ntalo, partiendo de una configuraci\u00f3n aleatoria. \n",
      "\n",
      "(iii) Dibuja c\u00f3mo cambia la magnetizaci\u00f3n en el tiempo. \u00bfQu\u00e9 observas?  \n",
      "\n",
      "(iv) \u00bfCu\u00e1l es el *promedio temporal* (promedio *en el tiempo*) de la magnetizaci\u00f3n?\n",
      "\n"
     ]
    },
    {
     "cell_type": "heading",
     "level": 2,
     "metadata": {},
     "source": [
      "La energ\u00eda"
     ]
    },
    {
     "cell_type": "markdown",
     "metadata": {},
     "source": [
      "Hasta ahora, no hemos modelado las *interacciones* entre los espines, que es lo que hace interesante y rico el modelo. Para ello, tomaremos en cuenta que los espines \"quieren\" alinearse con sus vecinos, es decir, que la *energ\u00eda* ser\u00e1 *menor* cuando dos vecinos est\u00e9n alineados."
     ]
    },
    {
     "cell_type": "markdown",
     "metadata": {},
     "source": [
      "[5] Considera un par de espines vecinos $\\sigma_i$ y $\\sigma_j$. Escribe una tabla de los valores posibles de los dos espines y las energ\u00edas correspondientes que asignaremos."
     ]
    },
    {
     "cell_type": "markdown",
     "metadata": {},
     "source": [
      "[6] (i) Implementa una funci\u00f3n que toma una configuraci\u00f3n $\\pmb \\sigma$ y regresa la energ\u00eda correspondiente $E(\\pmb \\sigma)$. \n",
      "\n",
      "(ii) Calcula anal\u00edticamente los valores m\u00ednimo y m\u00e1ximo posible de la energ\u00eda para un sistema de tama\u00f1o $L_1 \\times L_2$. \u00bfA qu\u00e9 tipo de configuraciones corresponden? \u00bfCu\u00e1ntas configuraciones hay con estos valores de la energ\u00eda?\n",
      "\n",
      "(iii) Verifica que tu c\u00f3digo reproduzca estos resultados anal\u00edticos para estas configuraciones."
     ]
    },
    {
     "cell_type": "markdown",
     "metadata": {},
     "source": [
      "[7] En la pregunta [6], hubo que escoger qu\u00e9 hacer en las fronteras e la configuraci\u00f3n finita. Enumera unas posibilidades de c\u00f3mo tratar las fronteras e implem\u00e9ntalas, en particular el caso de fronteras **peri\u00f3dicas**."
     ]
    }
   ],
   "metadata": {}
  }
 ]
}