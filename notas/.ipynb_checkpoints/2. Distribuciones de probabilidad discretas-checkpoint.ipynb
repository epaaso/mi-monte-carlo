{
 "metadata": {
  "language": "Julia",
  "name": "",
  "signature": "sha256:3287f3d0794cb20702b10f3563326005c6a3ce5033449159e3e39927d5702ccf"
 },
 "nbformat": 3,
 "nbformat_minor": 0,
 "worksheets": [
  {
   "cells": [
    {
     "cell_type": "heading",
     "level": 1,
     "metadata": {},
     "source": [
      "\u00bfQu\u00e9 es una distribuci\u00f3n de probabilidad?"
     ]
    },
    {
     "cell_type": "markdown",
     "metadata": {},
     "source": [
      "El concepto de *distribuci\u00f3n de probabilidad* es fundamental. Describe c\u00f3mo se reparte la probabilidad de una *variable aleatoria*. \n",
      "\n",
      "Le damos el nombre *variable aleatoria* a una cantidad que toma distintos valores cada vez que lo medimos. (El nombre no es bueno.) Ciertos valores pueden ser *m\u00e1s probables* y otros menos probables."
     ]
    },
    {
     "cell_type": "heading",
     "level": 2,
     "metadata": {},
     "source": [
      "Lanzar un dado"
     ]
    },
    {
     "cell_type": "markdown",
     "metadata": {},
     "source": [
      "Como primer ejemplo, pensemos en un dado. Cuando lanzamos un dado, puede caer en uno de los lados $1$ a $6$. Si el dado no tiene sesgo, esperamos que caer\u00e1 con \"igual probabilidad\" $\\frac{1}{6}$ en cada lado. Pero, \u00bfqu\u00e9 queremos decir con esta aseveraci\u00f3n?"
     ]
    },
    {
     "cell_type": "markdown",
     "metadata": {},
     "source": [
      "En una interpretaci\u00f3n \"frecuentista\" de la probabilidad, nos referimos a que si lanzamos el dado un n\u00famero muy grande $N$ de veces, caer\u00e1 en cada lado $N/6$ veces. [Otra interpretaci\u00f3n, m\u00e1s favorecida hoy d\u00eda, es la Bayesiana.]"
     ]
    },
    {
     "cell_type": "markdown",
     "metadata": {},
     "source": [
      "La colecci\u00f3n de todas las probabilidades de todos los valores posibles de la variable aleatoria $X$, \"el valor que arroja el dado\", se llama la *distribuci\u00f3n de probabilidad* de $X$.  Escribimos $P(X=1) = \\frac{1}{6}$, etc."
     ]
    },
    {
     "cell_type": "markdown",
     "metadata": {},
     "source": [
      "Si las probabilidades son iguales, decimos que la distribuci\u00f3n es *uniforme*. Pero si realmente hacemos el experimento, \u00bfqu\u00e9 tan uniformes salen las frecuencias?"
     ]
    },
    {
     "cell_type": "markdown",
     "metadata": {},
     "source": [
      "**Ejercicio 1**:\n",
      "\n",
      "(a) Genera un n\u00famero aleatorio uniforme entero entre 1 y 6 con\n",
      "\n",
      "    rand(1:6)\n",
      "    \n",
      "[Checa cu\u00e1l es el tipo del objeto `1:6`.] \n",
      "\n",
      "(b) \u00bfC\u00f3mo se pueden generar $N$ tales n\u00fameros? Haz una funci\u00f3n para hacerlo.\n",
      "\n",
      "(c) Cuenta el n\u00famero de veces que dio $1$, $2$, $\\ldots$, $6$ y as\u00ed calcula las frecuencias al normalizarlos con el n\u00famero total.\n",
      "\n",
      "(d) Dibuja el resultado. \u00bfQu\u00e9 observas? Hazlo varias veces con el mismo valor de $N$.\n",
      "\n",
      "(e) Repite el c\u00e1lculo con n\u00fameros $N$ mayores. \u00bfQu\u00e9 observas?\n",
      "\n",
      "(f) Calcula para cada $N$ cu\u00e1nto *desv\u00eda* el valor observado del valor te\u00f3rico esperado. Dibuja esto en funci\u00f3n de $N$. \u00bfC\u00f3mo se comporta esta desviaci\u00f3n?"
     ]
    },
    {
     "cell_type": "markdown",
     "metadata": {},
     "source": [
      "Este resultado se puede entender al hacer un c\u00e1lculo anal\u00edtico, como sigue."
     ]
    },
    {
     "cell_type": "code",
     "collapsed": false,
     "input": [
      "rand(1:6)"
     ],
     "language": "python",
     "metadata": {},
     "outputs": [
      {
       "metadata": {},
       "output_type": "pyout",
       "prompt_number": 1,
       "text": [
        "4"
       ]
      }
     ],
     "prompt_number": 1
    },
    {
     "cell_type": "code",
     "collapsed": false,
     "input": [
      "function f(N)\n",
      "    x=[]\n",
      "    for i in 1:N\n",
      "        push!(x,rand(1:6))\n",
      "    end\n",
      "    return x\n",
      "end"
     ],
     "language": "python",
     "metadata": {},
     "outputs": [
      {
       "metadata": {},
       "output_type": "pyout",
       "prompt_number": 2,
       "text": [
        "f (generic function with 1 method)"
       ]
      }
     ],
     "prompt_number": 2
    },
    {
     "cell_type": "code",
     "collapsed": false,
     "input": [
      "N=zeros(6);"
     ],
     "language": "python",
     "metadata": {},
     "outputs": [],
     "prompt_number": 6
    },
    {
     "cell_type": "code",
     "collapsed": false,
     "input": [
      "@which rand()"
     ],
     "language": "python",
     "metadata": {},
     "outputs": [
      {
       "html": [
        "rand()"
       ],
       "metadata": {},
       "output_type": "pyout",
       "prompt_number": 2,
       "text": [
        "rand()"
       ]
      }
     ],
     "prompt_number": 2
    },
    {
     "cell_type": "code",
     "collapsed": false,
     "input": [],
     "language": "python",
     "metadata": {},
     "outputs": []
    },
    {
     "cell_type": "code",
     "collapsed": false,
     "input": [
      "for i in f(50)\n",
      "    for j in 1:6\n",
      "        if i==j\n",
      "            N[i]+=1\n",
      "        end\n",
      "    end\n",
      "end"
     ],
     "language": "python",
     "metadata": {},
     "outputs": [],
     "prompt_number": 9
    },
    {
     "cell_type": "code",
     "collapsed": false,
     "input": [
      "frecuencias=N/sum(N)"
     ],
     "language": "python",
     "metadata": {},
     "outputs": [
      {
       "metadata": {},
       "output_type": "pyout",
       "prompt_number": 12,
       "text": [
        "6-element Array{Float64,1}:\n",
        " 0.18\n",
        " 0.18\n",
        " 0.22\n",
        " 0.18\n",
        " 0.08\n",
        " 0.16"
       ]
      }
     ],
     "prompt_number": 12
    },
    {
     "cell_type": "code",
     "collapsed": false,
     "input": [
      "using PyPlot"
     ],
     "language": "python",
     "metadata": {},
     "outputs": [
      {
       "output_type": "stream",
       "stream": "stderr",
       "text": [
        "\n",
        "WARNING: deprecated syntax \"[a=>b, ...]\" at /home/hector/.julia/v0.4/IJulia/src/inline.jl:23.\n",
        "Use \"Dict(a=>b, ...)\" instead.\n"
       ]
      }
     ],
     "prompt_number": 1
    },
    {
     "cell_type": "code",
     "collapsed": false,
     "input": [
      "function d(n)\n",
      "    x=[]\n",
      "    for i in 1:n\n",
      "        push!(x,rand(1:6))\n",
      "    end\n",
      "    N=zeros(6)\n",
      "    for i in x\n",
      "    for j in 1:6\n",
      "        if i==j\n",
      "            N[i]+=1\n",
      "        end\n",
      "    end\n",
      "end\n",
      "    frecuencias=N/sum(N)\n",
      "    desviacion=[abs(i-1/6) for i in frecuencias]\n",
      "    return maximum(desviacion)\n",
      "end\n"
     ],
     "language": "python",
     "metadata": {},
     "outputs": [
      {
       "metadata": {},
       "output_type": "pyout",
       "prompt_number": 43,
       "text": [
        "d (generic function with 1 method)"
       ]
      }
     ],
     "prompt_number": 43
    },
    {
     "cell_type": "code",
     "collapsed": false,
     "input": [
      "y=[d(i) for i in 1:1000];"
     ],
     "language": "python",
     "metadata": {},
     "outputs": [],
     "prompt_number": 50
    },
    {
     "cell_type": "code",
     "collapsed": false,
     "input": [
      "plot(1:1000,y)"
     ],
     "language": "python",
     "metadata": {},
     "outputs": [
      {
       "metadata": {},
       "output_type": "display_data",
       "png": "[encoded data removed]",
       "text": [
        "PyPlot.Figure(PyObject <matplotlib.figure.Figure object at 0xb1cfd50>)"
       ]
      },
      {
       "metadata": {},
       "output_type": "pyout",
       "prompt_number": 52,
       "text": [
        "1-element Array{Any,1}:\n",
        " PyObject <matplotlib.lines.Line2D object at 0x537af10>"
       ]
      }
     ],
     "prompt_number": 52
    },
    {
     "cell_type": "markdown",
     "metadata": {},
     "source": [
      "**Ejercicio 2**:\n",
      "\n",
      "(a) Pensemos s\u00f3lo en el lado $1$. Sea $p := \\frac{1}{6}$ la probabilidad de que caiga en este lado.\n",
      "Si lanzamos 2 veces, \u00bfcu\u00e1l es la probabilidad de que salgan (i) cero veces $1$; (ii) una vez $1$; (iii) dos veces $1$?\n",
      "\n",
      "(b) Si lanzamos 3 veces, \u00bfcu\u00e1les son las probabilidades de que salga cada n\u00famero posible de $1$s entre 0 y 3?\n",
      "\n",
      "(c) Si lanzamos N veces, \u00bfcu\u00e1les son las probabilidades?\n",
      "\n",
      "(d) \u00bfCu\u00e1l es el valor *promedio* que sale? \u00bfQu\u00e9 otra cantidad podr\u00edamos querer calcular?"
     ]
    },
    {
     "cell_type": "markdown",
     "metadata": {},
     "source": [
      "**Respuestas**\n",
      "- (a) (i) $P(x_1\\neq 1| x_2\\neq 1)=P(x_1\\neq 1)P(x_2\\neq 1)=\\left(\\frac{5}{6}\\right)^2=\\frac{25}{36}$.\n",
      "\n",
      " (ii) $P(x_1=1|x_2\\neq 1)=P(x_1=1)P(x_2\\neq 1)=\\frac{1}{6}\\frac{5}{6}=\\frac{5}{36}$.\n",
      " \n",
      " (iii) $P(x_1=1|x_2=1)=P(x_1= 1)P(x_2= 1)=\\frac{1}{6}\\frac{1}{6}=\\frac{1}{36}$.\n",
      "- (b) y (c) La soluci\u00f3n es an\u00e1loga al inciso anterior ya que son experimentos independientes."
     ]
    },
    {
     "cell_type": "markdown",
     "metadata": {},
     "source": [
      "Aqu\u00ed, estamos hablando de *otra* variable aleatoria, el n\u00famero de veces $Y_N$ que sale un $1$ en $N$ intentos.\n",
      "Por lo tanto, tambi\u00e9n podemos hablar de la distribuci\u00f3n de probabilidad de $Y_N$, que una vez m\u00e1s es la colecci\u00f3n de todas las probabilidades de todos los valores posibles de $Y_N$, que son $0$, $\\ldots$, $N$.\n",
      "\n",
      "Investiguemos esta distribuci\u00f3n. Para hacerlo, generalicemos a una secuencia de *ensayos de Bernoulli*: es una secuencia de eventos independientes, con probabilidad $p$ de \u00e9xito en cada evento."
     ]
    },
    {
     "cell_type": "markdown",
     "metadata": {},
     "source": [
      "**Ejercicio 3**:\n",
      "\n",
      "(a) Escribe una funci\u00f3n que lleva a cabo $N$ ensayos de Bernoulli con probabilidad $p$ y calcula la proporci\u00f3n que fueron exitosos.\n",
      "\n",
      "(b) Utiliza tu funci\u00f3n para estimar num\u00e9ricamente la distribuci\u00f3n de probabilidad de $Y_{N,p}$.\n",
      "\n",
      "(c) Dib\u00fajalo y comp\u00e1ralo con el anal\u00edtico.\n",
      "\n",
      "(d) \u00bfQu\u00e9 pasa cuando $N$ es grande y $p$ es chico -- c\u00f3mo se ve la distribuci\u00f3n? \u00bfEsto se puede entender anal\u00edticamente?"
     ]
    },
    {
     "cell_type": "code",
     "collapsed": false,
     "input": [
      "function ber(N,p)\n",
      "    x=[]\n",
      "    for i in 1:N\n",
      "        if rand()<=p\n",
      "            push!(x,1)\n",
      "        else\n",
      "            push!(x,0)\n",
      "        end\n",
      "    end\n",
      "    return x\n",
      "end"
     ],
     "language": "python",
     "metadata": {},
     "outputs": [
      {
       "metadata": {},
       "output_type": "pyout",
       "prompt_number": 2,
       "text": [
        "ber (generic function with 1 method)"
       ]
      }
     ],
     "prompt_number": 2
    },
    {
     "cell_type": "code",
     "collapsed": false,
     "input": [
      "function prop(N,p)\n",
      "    proporcion=sum(ber(N,p))/length(ber(N,p))\n",
      "end"
     ],
     "language": "python",
     "metadata": {},
     "outputs": [
      {
       "metadata": {},
       "output_type": "pyout",
       "prompt_number": 3,
       "text": [
        "prop (generic function with 1 method)"
       ]
      }
     ],
     "prompt_number": 3
    },
    {
     "cell_type": "code",
     "collapsed": false,
     "input": [
      "y=[prop(20,0.5) for i in 1:10000];"
     ],
     "language": "python",
     "metadata": {},
     "outputs": [],
     "prompt_number": 9
    },
    {
     "cell_type": "markdown",
     "metadata": {},
     "source": [
      "La distribuci\u00f3n de probabilidad de $Y_{N,p}$ se llama una *distribuci\u00f3n binomial*. Se dice que es una distribuci\u00f3n de probabilidad *discreta*, ya que los valores que toma son valores discretos. \n",
      "\n",
      "La notaci\u00f3n que se utiliza es\n",
      "\n",
      "$$X \\sim B(N,p)$$\n",
      "\n",
      "para decir que $X$ es una variable aleatoria con distribuci\u00f3n de probabilidad binomial con par\u00e1metros $N$ y $p$."
     ]
    },
    {
     "cell_type": "code",
     "collapsed": false,
     "input": [
      "plt.hist(y)"
     ],
     "language": "python",
     "metadata": {},
     "outputs": [
      {
       "metadata": {},
       "output_type": "display_data",
       "png": "[encoded data removed]",
       "text": [
        "PyPlot.Figure(PyObject <matplotlib.figure.Figure object at 0xbe20b10>)"
       ]
      },
      {
       "metadata": {},
       "output_type": "pyout",
       "prompt_number": 10,
       "text": [
        "([12,187,368,1946,1590,3431,1911,351,191,13],[0.1,0.18,0.26,0.33999999999999997,0.42000000000000004,0.5,0.58,0.66,0.74,0.82,0.9],Any[PyObject <matplotlib.patches.Rectangle object at 0xbfd5ad0>,PyObject <matplotlib.patches.Rectangle object at 0xbfd5c10>,PyObject <matplotlib.patches.Rectangle object at 0xbfdb0d0>,PyObject <matplotlib.patches.Rectangle object at 0xbfdb550>,PyObject <matplotlib.patches.Rectangle object at 0xbfdb9d0>,PyObject <matplotlib.patches.Rectangle object at 0xbfdbe50>,PyObject <matplotlib.patches.Rectangle object at 0xbfde310>,PyObject <matplotlib.patches.Rectangle object at 0xbfde790>,PyObject <matplotlib.patches.Rectangle object at 0xbfdec10>,PyObject <matplotlib.patches.Rectangle object at 0xd5100d0>])"
       ]
      }
     ],
     "prompt_number": 10
    },
    {
     "cell_type": "code",
     "collapsed": false,
     "input": [],
     "language": "python",
     "metadata": {},
     "outputs": []
    }
   ],
   "metadata": {}
  }
 ]
}