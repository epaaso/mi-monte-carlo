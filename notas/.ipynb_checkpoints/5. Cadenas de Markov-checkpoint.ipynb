{
 "metadata": {
  "kernelspec": {
   "display_name": "Julia 0.3.7-pre",
   "language": "julia",
   "name": "julia 0.3"
  },
  "language": "Julia",
  "language_info": {
   "name": "julia",
   "version": "0.3.7"
  },
  "name": "",
  "signature": "sha256:3adf163f5100ecd2689261c4167d98ba6c87801a7b9f4af4446b7e8bb12db311"
 },
 "nbformat": 3,
 "nbformat_minor": 0,
 "worksheets": [
  {
   "cells": [
    {
     "cell_type": "heading",
     "level": 1,
     "metadata": {},
     "source": [
      "Cadenas de Markov "
     ]
    },
    {
     "cell_type": "markdown",
     "metadata": {},
     "source": [
      "Un caminante aleatorio es un tipo particular de una *cadena de Markov*.\n",
      "\n",
      "Una cadena de Markov es, a su vez, un tipo de \n",
      "*proceso estoc\u00e1stico*, es decir una evoluci\u00f3n en \n",
      "el tiempo que no es determinista, sino donde hay \n",
      "una probabilidad dada, el sistema lleva a cabo \n",
      "una *transici\u00f3n* hacia un estado nuevo. Las cadenas de Markov son de gran importancia hoy d\u00eda en las ciencias.\n",
      "\n",
      "La particularidad de las cadenas de Markov es que satisfacen la *propiedad de Markov*: el estado nuevo depende *s\u00f3lo de un estado anterior*. Se suele decir que el proceso *no tiene memoria*.\n",
      "\n",
      "Por ejemplo, una caminata aleatoria satisface esto, ya que la posici\u00f3n al tiempo $t+1$ depende s\u00f3lo de la posici\u00f3n al tiempo $t$ (no de posiciones a tiempos anteriores).  "
     ]
    },
    {
     "cell_type": "markdown",
     "metadata": {},
     "source": [
      "Sea $X_n$ el estado del proceso al tiempo $n$. Nos interesaremos por el momento en procesos de Markov tal que\n",
      "$P(X_{n+1} = j \\, | \\, X_n = i) = p_{ij}$, independiente del tiempo. La notaci\u00f3n aqu\u00ed es de una *probabilidad condicional*, es decir, la probabilidad de que el sistema est\u00e1 en el estado $j$ al tiempo $n+1$, *dado que* estaba en el estado $i$ al tiempo $n$."
     ]
    },
    {
     "cell_type": "markdown",
     "metadata": {},
     "source": [
      "[1] Las $p_{ij}$ forman una matriz. \n",
      "\n",
      "(i) Escribe la matriz para un caminante aleatorio con fronteras reflejantes en 0 y $L=5$, si tiene probabilidades $p$, $q$, y $r$ de brincar a la derecha o izquierda, o de permanecer en el mismo lugar, respectivamente.\n",
      "\n",
      "(ii) \u00bfQu\u00e9 propiedad debe satisfacer cualquier matriz de transici\u00f3n?"
     ]
    },
    {
     "cell_type": "code",
     "collapsed": false,
     "input": [
      "function generar_caminante_aleatorio(L::Int64,p::Float64=1/3,q::Float64=1/3,r::Float64=1/3)\n",
      "    m=zeros(L,L)\n",
      "    #Asingamos los valores sin las fronteras primero\n",
      "    for i in 1:L\n",
      "        m[i,i]=r\n",
      "        if i<L\n",
      "            m[i,i+1]=p\n",
      "        end\n",
      "        if i>1\n",
      "            m[i,i-1]=q\n",
      "        end\n",
      "    end\n",
      "    #Y ahora las fronteras\n",
      "    m[1,1]+=q\n",
      "    m[L,L]+=p\n",
      "    return m\n",
      "end\n",
      "#Visualizamos\n",
      "m=generar_caminante_aleatorio(6)"
     ],
     "language": "python",
     "metadata": {},
     "outputs": [
      {
       "metadata": {},
       "output_type": "pyout",
       "prompt_number": 41,
       "text": [
        "6x6 Array{Float64,2}:\n",
        " 0.666667  0.333333  0.0       0.0       0.0       0.0     \n",
        " 0.333333  0.333333  0.333333  0.0       0.0       0.0     \n",
        " 0.0       0.333333  0.333333  0.333333  0.0       0.0     \n",
        " 0.0       0.0       0.333333  0.333333  0.333333  0.0     \n",
        " 0.0       0.0       0.0       0.333333  0.333333  0.333333\n",
        " 0.0       0.0       0.0       0.0       0.333333  0.666667"
       ]
      }
     ],
     "prompt_number": 41
    },
    {
     "cell_type": "markdown",
     "metadata": {},
     "source": [
      "La suma de los elementos de cualquiera de sus renglones o columnas debe de ser uno e.d.\n",
      "$$ \\sum_j^L p_{ij}= \\sum_i^L p_{ij}=1$$"
     ]
    },
    {
     "cell_type": "markdown",
     "metadata": {},
     "source": [
      "Tambien se cumple q la determinante de esta matriz es 0"
     ]
    },
    {
     "cell_type": "markdown",
     "metadata": {},
     "source": [
      "[2] Considera una cadena que tiene 4 estados. Desde cada estado puede brincar a cada otro estado con igual probabilidad. \n",
      "\n",
      "**(i) Escribe la matriz de transici\u00f3n $\\mathsf{P} = (p_{ij})$. \u00bfQu\u00e9 propiedades tiene que satisfacer?**"
     ]
    },
    {
     "cell_type": "code",
     "collapsed": false,
     "input": [
      "P=ones(4,4)\n",
      "P=P*1/4"
     ],
     "language": "python",
     "metadata": {},
     "outputs": [
      {
       "metadata": {},
       "output_type": "pyout",
       "prompt_number": 2,
       "text": [
        "4x4 Array{Float64,2}:\n",
        " 0.25  0.25  0.25  0.25\n",
        " 0.25  0.25  0.25  0.25\n",
        " 0.25  0.25  0.25  0.25\n",
        " 0.25  0.25  0.25  0.25"
       ]
      }
     ],
     "prompt_number": 2
    },
    {
     "cell_type": "markdown",
     "metadata": {},
     "source": [
      "Esta matriz satisface la propiedad a\u00f1adida de que cada entrada debe valer \"1 / (su numero de estados)\".\n",
      "\n",
      "Adem\u00e1s, tambien su traza es 1."
     ]
    },
    {
     "cell_type": "markdown",
     "metadata": {},
     "source": [
      "(ii) \u00bfQu\u00e9 tipo de propiedades nos podr\u00edan interesar?, suponiendo que esto modela un estado f\u00edsico, qu\u00edmico o biol\u00f3gico que puede estar en uno de estos estados."
     ]
    },
    {
     "cell_type": "markdown",
     "metadata": {},
     "source": [
      "Es interesante q su determinante sea 0, pues no la podemos diagonalizar mas de lo que esta, lo que nos habla de que esto quiza no tiene modos normales.\n",
      "Tambien es importante que, tomando en cuenta que la composici\u00f3n de esta funci\u00f3n es una multiplicaci\u00f3n de matrices, las potencias de estas matrices sigan manteniendo la propiedad de que la suma de todas las entradas es 1.\n",
      "Esto quiere decir que el sistema se mantiene normalizado."
     ]
    },
    {
     "cell_type": "markdown",
     "metadata": {},
     "source": [
      "(iii) Simula la din\u00e1mica del sistema: escribe una funci\u00f3n que genera una realizaci\u00f3n de cierta longitud."
     ]
    },
    {
     "cell_type": "code",
     "collapsed": false,
     "input": [
      "function realizacion_Markov(inicio::Array{Float64,1}, matriz::Array{Float64,2}, longitud::Int64)\n",
      "    if size(inicio)[1] != size(matriz)[1]\n",
      "        return \"Las dimensiones no coinciden\"\n",
      "    end\n",
      "    return (matriz^longitud)*inicio\n",
      "end"
     ],
     "language": "python",
     "metadata": {},
     "outputs": [
      {
       "metadata": {},
       "output_type": "pyout",
       "prompt_number": 25,
       "text": [
        "realizacion_Markov (generic function with 1 method)"
       ]
      }
     ],
     "prompt_number": 25
    },
    {
     "cell_type": "code",
     "collapsed": false,
     "input": [
      "dim = 11\n",
      "inicio = zeros(dim)\n",
      "inicio[(dim-1)/2]=1\n",
      "matriz=generar_caminante_aleatorio(dim)\n",
      "realizacion_Markov(inicio,matriz,2)"
     ],
     "language": "python",
     "metadata": {},
     "outputs": [
      {
       "metadata": {},
       "output_type": "pyout",
       "prompt_number": 37,
       "text": [
        "11-element Array{Float64,1}:\n",
        " 0.0     \n",
        " 0.0     \n",
        " 0.111111\n",
        " 0.222222\n",
        " 0.333333\n",
        " 0.222222\n",
        " 0.111111\n",
        " 0.0     \n",
        " 0.0     \n",
        " 0.0     \n",
        " 0.0     "
       ]
      }
     ],
     "prompt_number": 37
    },
    {
     "cell_type": "markdown",
     "metadata": {},
     "source": [
      "(iv) Escribe funciones que calculen las cantidades de interes num\u00e9ricamente."
     ]
    },
    {
     "cell_type": "markdown",
     "metadata": {},
     "source": [
      "[3] Escribe una funci\u00f3n para simular una realizaci\u00f3n de una trayectoria correspondiendo a una matriz de transici\u00f3n *arbitraria* $\\mathsf{P}$ que satisfaga las propiedades de 2(i)."
     ]
    },
    {
     "cell_type": "heading",
     "level": 2,
     "metadata": {},
     "source": [
      "M\u00e9todo estilo enumeraci\u00f3n exacta"
     ]
    },
    {
     "cell_type": "markdown",
     "metadata": {},
     "source": [
      "Tal como hicimos para un caminante aleatorio, para una cadena de Markov tambi\u00e9n podemos cambiar de punto de vista y estudiar la evoluci\u00f3n de la *distribuci\u00f3n de probabilidad*, la cual nos dice la probabilidad de que la cadena se encuentra en cada estado al tiempo $t$.\n",
      "\n",
      "Primero veamos esto anal\u00edticamente."
     ]
    },
    {
     "cell_type": "markdown",
     "metadata": {},
     "source": [
      "[4] Supongamos que la cadena empieza en alguna distribuci\u00f3n de probabilidad inicial $\\mathbf{P}_0 = (P_{0,i}: i=1, \\ldots, n)$, donde $n$ es el n\u00famero de estados.\n",
      "\n",
      "(i) Escribe la ecuaci\u00f3n maestra que describe c\u00f3mo evoluciona la probabilidad en 1 paso.  \n",
      "\n",
      "(ii) Escr\u00edbela de nuevo, ahora usando notaci\u00f3n matricial.\n",
      "\n",
      "(ii) \u00bfQu\u00e9 pasa en 2 pasos? \u00bfEn $N$ pasos?"
     ]
    },
    {
     "cell_type": "markdown",
     "metadata": {},
     "source": [
      "(i)La ecuacion es como la que vimos en la nota 4.\n",
      "$P_{t+1}(i)=P_{t}(i-1)*p + P_{t}(i+1)*q + P_{t}(i)*r$\n",
      "(ii) Asi que en notacion matricial ser\u00eda $\\vec{P_{t+1}} =\n",
      " \\begin{pmatrix}\n",
      "  r & q & 0 & 0 & \\cdots & 0 \\\\\n",
      "  p & r & q & 0 & \\cdots & 0 \\\\\n",
      "  0 & p & r & q & \\cdots & 0 \\\\\n",
      "  \\vdots  & \\vdots  & \\vdots  & \\ddots & \\vdots  \\\\\n",
      "  0 & 0 & 0 & 0 & \\cdots & r \n",
      " \\end{pmatrix}\\vec{P_t}$"
     ]
    },
    {
     "cell_type": "markdown",
     "metadata": {},
     "source": [
      "Como vi antes... quiza deber\u00eda de haberlo visto de otra forma pero no se me ocurre, como la composicion de la aplicacion de una funcion que es una matriz es multiplicacion de estas en el tiempo n tendriamos: $$ \\vec{P_{t+n}}= \\vec{P_{t}}^n$$"
     ]
    },
    {
     "cell_type": "markdown",
     "metadata": {},
     "source": [
      "[5] Simula la din\u00e1mica de la cadena de Markov de la pregunta 2 desde una condici\u00f3n inicial que es una delta en alg\u00fan estado por un tiempo $t$. \u00bfQu\u00e9 observas cuando $t \\to \\infty$?"
     ]
    },
    {
     "cell_type": "code",
     "collapsed": false,
     "input": [
      "matriz^1000"
     ],
     "language": "python",
     "metadata": {},
     "outputs": [
      {
       "metadata": {},
       "output_type": "pyout",
       "prompt_number": 43,
       "text": [
        "11x11 Array{Float64,2}:\n",
        " 0.0909091  0.0909091  0.0909091  \u2026  0.0909091  0.0909091  0.0909091\n",
        " 0.0909091  0.0909091  0.0909091     0.0909091  0.0909091  0.0909091\n",
        " 0.0909091  0.0909091  0.0909091     0.0909091  0.0909091  0.0909091\n",
        " 0.0909091  0.0909091  0.0909091     0.0909091  0.0909091  0.0909091\n",
        " 0.0909091  0.0909091  0.0909091     0.0909091  0.0909091  0.0909091\n",
        " 0.0909091  0.0909091  0.0909091  \u2026  0.0909091  0.0909091  0.0909091\n",
        " 0.0909091  0.0909091  0.0909091     0.0909091  0.0909091  0.0909091\n",
        " 0.0909091  0.0909091  0.0909091     0.0909091  0.0909091  0.0909091\n",
        " 0.0909091  0.0909091  0.0909091     0.0909091  0.0909091  0.0909091\n",
        " 0.0909091  0.0909091  0.0909091     0.0909091  0.0909091  0.0909091\n",
        " 0.0909091  0.0909091  0.0909091  \u2026  0.0909091  0.0909091  0.0909091"
       ]
      }
     ],
     "prompt_number": 43
    },
    {
     "cell_type": "markdown",
     "metadata": {},
     "source": [
      "Se puede ver que se tiende a la matriz que vimos en la pregunta 2(i), una matriz q representa la misma probabilidad de pasar de cualquier lugar a cualquier otro."
     ]
    },
    {
     "cell_type": "markdown",
     "metadata": {},
     "source": [
      "[6] Este mismo fen\u00f3meno (lo que pasa cuando $t \\to \\infty$) ocurre para \"casi todas\" las cadenas de Markov (cuando se satisfacen ciertas condiciones t\u00e9cnicas). Expl\u00edcalo usando propiedades de la matriz que vieron en \u00e1lgebra lineal. \u00bfA qu\u00e9 corresponde lo que pasa cuando $t \\to \\infty$?"
     ]
    }
   ],
   "metadata": {}
  }
 ]
}