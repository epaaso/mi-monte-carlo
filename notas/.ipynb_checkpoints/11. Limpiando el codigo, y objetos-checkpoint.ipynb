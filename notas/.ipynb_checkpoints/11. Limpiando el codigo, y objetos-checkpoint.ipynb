{
 "metadata": {
  "kernelspec": {
   "display_name": "Julia 0.3.8-pre",
   "language": "julia",
   "name": "julia 0.3"
  },
  "language": "Julia",
  "language_info": {
   "name": "julia",
   "version": "0.3.8"
  },
  "name": "",
  "signature": "sha256:b645e7fedfff8f1f9c37aab1a044c8315cc64374cb6fccae5028b64b5ddaeb90"
 },
 "nbformat": 3,
 "nbformat_minor": 0,
 "worksheets": [
  {
   "cells": [
    {
     "cell_type": "markdown",
     "metadata": {},
     "source": [
      "Hasta ahora, tu c\u00f3digo probablemente est\u00e1 regado en uno o varios notebooks.\n",
      "La idea es, primero, recolectarlo en un lugar."
     ]
    },
    {
     "cell_type": "markdown",
     "metadata": {},
     "source": [
      "[1] Revisa la documentaci\u00f3n sobre **modules** (m\u00f3dulos) en Julia. Crea un m\u00f3dulo que se llama `Ising` (o `ModeloIsing`, o algo por el estilo), en un archivo `Ising.jl` tal que puedas incluir el c\u00f3digo (e.g. desde un notebook) con `using Ising`, y correrlo al llamar una sola funci\u00f3n que acepte los par\u00e1metros importantes del modelo (tama\u00f1o de la caja, temperatura, etc.).  [Se recomienda usar un editor que \"sepa Julia\", e.g. Juno, Sublime Text, Atom (o Emacs o Vim) para este prop\u00f3sito.]\n",
      "\n",
      "[2] Escribe un \"script\" (programa corto con c\u00f3digo de Julia) que toma los *argumentos de la l\u00ednea de comandos* [en Julia, \u00e9stos se guardan en la variable `ARGS`, y produce los plots de la energ\u00eda y magnetizaci\u00f3n en funci\u00f3n de la temperatura."
     ]
    },
    {
     "cell_type": "code",
     "collapsed": false,
     "input": [],
     "language": "python",
     "metadata": {},
     "outputs": [
      {
       "ename": "LoadError",
       "evalue": "modules not defined\nwhile loading In[4], in expression starting on line 1",
       "output_type": "pyerr",
       "traceback": [
        "modules not defined\nwhile loading In[4], in expression starting on line 1",
        ""
       ]
      }
     ],
     "prompt_number": 4
    },
    {
     "cell_type": "heading",
     "level": 1,
     "metadata": {},
     "source": [
      "Tipos "
     ]
    },
    {
     "cell_type": "markdown",
     "metadata": {},
     "source": [
      "Hasta ahora, no hay manera de hablar del \"modelo de Ising\" o del \"m\u00e9todo de Metropolis\" en tu c\u00f3digo --los conceptos est\u00e1n, de igual forma, regados por el programa. Julia permite llevar a cabo la **programaci\u00f3n orientada a objetos**, al definir tus propios **tipos** nuevos.\n",
      "\n",
      "Por ejemplo:"
     ]
    },
    {
     "cell_type": "code",
     "collapsed": false,
     "input": [
      "type Hola\n",
      "    a::Int\n",
      "    b\n",
      "end"
     ],
     "language": "python",
     "metadata": {},
     "outputs": [],
     "prompt_number": 6
    },
    {
     "cell_type": "markdown",
     "metadata": {},
     "source": [
      "define un *tipo nuevo de objeto*, que se llama `Hola`. Especifica que un objeto de este tipo contendr\u00e1 una propiedad `a`, que es, a fuerzas, de tipo `Int`, y otro objeto `b`, que puede ser de cualquier tipo."
     ]
    },
    {
     "cell_type": "markdown",
     "metadata": {},
     "source": [
      "[3] Encuentra la manera de *crear un objeto nuevo* de este tipo."
     ]
    },
    {
     "cell_type": "markdown",
     "metadata": {},
     "source": [
      "Se usan constructores!"
     ]
    },
    {
     "cell_type": "code",
     "collapsed": true,
     "input": [
      "holita=Hola(1,\"nomnom\")"
     ],
     "language": "python",
     "metadata": {},
     "outputs": [
      {
       "metadata": {},
       "output_type": "pyout",
       "prompt_number": 7,
       "text": [
        "Hola(1,\"nomnom\")"
       ]
      }
     ],
     "prompt_number": 7
    },
    {
     "cell_type": "markdown",
     "metadata": {},
     "source": [
      "[4] \u00bfCu\u00e1les elementos de tu programa podr\u00edas tratar como objetos de esta forma? \u00bfC\u00f3mo se deber\u00edan comunicar entre ellos? [Nota que \u00a1no necesariamente hay respuestas \u00fanicas ni evidentes a esta pregunta!]"
     ]
    },
    {
     "cell_type": "markdown",
     "metadata": {},
     "source": [
      "[5] La programaci\u00f3n orientada a objetos requiere la posibilidad de manipular los objetos, al llamar funciones que act\u00faan con o en funci\u00f3n de ellos. Por ejemplo, si uno tiene un tipo `Configuracion`, podr\u00eda querer tener una funci\u00f3n `voltear` que act\u00faa sobre este objeto. \u00bfC\u00f3mo se puede hacer esto en Julia?"
     ]
    },
    {
     "cell_type": "markdown",
     "metadata": {},
     "source": [
      "[6] Escribe una nueva versi\u00f3n de tu c\u00f3digo, en el cual se separa los conceptos de esta manera."
     ]
    }
   ],
   "metadata": {}
  }
 ]
}