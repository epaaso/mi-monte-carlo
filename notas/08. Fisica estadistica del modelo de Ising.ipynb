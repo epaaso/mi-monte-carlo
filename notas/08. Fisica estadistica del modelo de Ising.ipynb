{
 "metadata": {
  "kernelspec": {
   "display_name": "Julia 0.3.7-pre",
   "language": "julia",
   "name": "julia 0.3"
  },
  "language_info": {
   "name": "julia",
   "version": "0.3.7"
  },
  "name": ""
 },
 "nbformat": 3,
 "nbformat_minor": 0,
 "worksheets": [
  {
   "cells": [
    {
     "cell_type": "heading",
     "level": 1,
     "metadata": {},
     "source": [
      "F\u00edsica estad\u00edstica en el ensamble can\u00f3nico "
     ]
    },
    {
     "cell_type": "markdown",
     "metadata": {},
     "source": [
      "Ya que contamos con un modelo microsc\u00f3pico, el modelo de Ising, que especifica cu\u00e1les son las *configuraciones microsc\u00f3picas*, o **microestados**, del sistema, y su energ\u00eda, \u00a1podemos hacer **f\u00edsica estad\u00edstica**!"
     ]
    },
    {
     "cell_type": "markdown",
     "metadata": {},
     "source": [
      "Por el momento, y en la mayor parte del curso, ocuparemos el **ensamble can\u00f3nico**. Recordemos que esto modela un sistema en contacto con un ba\u00f1o t\u00e9rmico (o reservorio) infinito, a una temperatura fija $T$. \n",
      "\n",
      "[Estos conceptos no son nada sencillos, pero supondremos que ya se han tratado en el curso de F\u00edsica Estad\u00edstica.]"
     ]
    },
    {
     "cell_type": "markdown",
     "metadata": {},
     "source": [
      "$\\newcommand{\\ss}{\\pmb{\\sigma}}$\n",
      "\n",
      "Lo que debemos extraer de esto es que un sistema en equilibrio, a temperatura $T$, tiene cierta probabilidad de ocupar cada microestado $\\ss$, dada por\n",
      "\n",
      "$$p_T^{\\mathrm{(eq)}}(\\ss) \\propto e^{-\\beta E(\\ss)},$$\n",
      "\n",
      "donde hemos introducido la **temperatura inversa** $\\beta := 1/(k_B T)$, con $k_B$ la constante de Boltzmann. La cantidad $\\beta$ resulta ser m\u00e1s natural que pensar en t\u00e9rminos de $T$; tomaremos unidades en las cuales $k_B = 1$.\n",
      "\n",
      "Para la constante de proporcionalidad, introducimos la notaci\u00f3n $Z(\\beta)$, que depende de la temperatura $T$, o de $\\beta$, de tal forma que las probabilidades est\u00e1n dadas por\n",
      "\n",
      "$$p_T^{\\mathrm{(eq)}}(\\ss) = \\frac{1}{Z(\\beta)} e^{-\\beta E(\\ss)}.$$\n",
      "\n",
      "Esta distribuci\u00f3n de probabilidad se llama la **distribuci\u00f3n can\u00f3nica** a temperatura $T$, o la **distribuci\u00f3n de Boltzmann(-Gibbs)**.\n"
     ]
    },
    {
     "cell_type": "markdown",
     "metadata": {},
     "source": [
      "[1] Escribe una expresi\u00f3n para $Z(\\beta)$, que se llama la **funci\u00f3n de partici\u00f3n** a temperatura $T$. Recuerda cu\u00e1l es la relaci\u00f3n entre $Z$ y la energ\u00eda libre macrosc\u00f3pica, $F$."
     ]
    },
    {
     "cell_type": "markdown",
     "metadata": {},
     "source": [
      "Las cantidades de inter\u00e9s son cantidades macrosc\u00f3picas, dadas por **promedios** sobre la distribuci\u00f3n de Boltzmann, que denotaremos con $\\langle \\cdot \\rangle$. En general, estas propiedades se pueden expresar en t\u00e9rminos de la funci\u00f3n de partici\u00f3n, $Z$, por lo cual $Z$ asume un papel principal en la f\u00edsica estad\u00edstica de equilibrio."
     ]
    },
    {
     "cell_type": "markdown",
     "metadata": {},
     "source": [
      "[2] Escribe una expresi\u00f3n para el promedio $\\langle E \\rangle_\\beta$ de la energ\u00eda a temperatura $T$. Demuestra que se puede expresar en t\u00e9rminos de una derivada de $Z(\\beta)$."
     ]
    },
    {
     "cell_type": "heading",
     "level": 2,
     "metadata": {},
     "source": [
      "C\u00e1lculos exactos"
     ]
    },
    {
     "cell_type": "markdown",
     "metadata": {},
     "source": [
      "En principio, podemos calcular $Z$, y los promedios, de forma exacta a partir de su definici\u00f3n, como sigue."
     ]
    },
    {
     "cell_type": "markdown",
     "metadata": {},
     "source": [
      "[3] (i) Escribe c\u00f3digo que genera *todos los microestados $\\ss$* del modelo de Ising cuadrado de tama\u00f1o $n \\times m$, uno tras otro. [Pista: un arreglo 2D en Julia se puede manipular como si fuera de 1D; piensa en binario.]\n",
      "\n",
      "(ii) Utiliza tu c\u00f3digo para ir calculando $Z(\\beta)$ y $\\langle E \\rangle$ para distintas temperaturas *para sistemas muy peque\u00f1os*. Utiliza condiciones peri\u00f3dicas de frontera cuando calculas $E(\\ss)$. [Empieza con el sistema m\u00e1s peque\u00f1o y aumenta el tama\u00f1o de uno en uno...]\n",
      "\n",
      "(iii) \u00bfHasta qu\u00e9 tama\u00f1o de sistema puedes llevar a cabo estos c\u00e1lculos en un tiempo razonable?\n",
      "\n",
      "(iv) Para el sistema m\u00e1s grande que puedas, dibuja estas cantidades en funci\u00f3n de $T$. \u00bfQu\u00e9 observas?\n",
      "\n",
      "(v) \u00bfQu\u00e9 pasa con $\\langle M \\rangle$? \u00bfPor qu\u00e9? \u00bfQu\u00e9 podr\u00edamos hacer al respecto?\n",
      "\n",
      "[4] Hay dos valores especiales de la temperatura. \n",
      "\n",
      "(i) \u00bfCu\u00e1les son? \n",
      "\n",
      "(ii) Para estas temperaturas especiales, calcula anal\u00edticamente $Z$ $\\langle E \\rangle$. \u00bfQu\u00e9 deber\u00eda pasar entre estas dos temperaturas?\n"
     ]
    },
    {
     "cell_type": "heading",
     "level": 2,
     "metadata": {},
     "source": [
      "\u00bfQu\u00e9 sigue? "
     ]
    },
    {
     "cell_type": "markdown",
     "metadata": {},
     "source": [
      "En principio, si calculamos $Z$ como funci\u00f3n de $\\beta$, podemos extraer las propiedades termodin\u00e1micas macrosc\u00f3picas. Pero acabamos de ver que \u00a1*no* podemos calcular $Z$ para sistemas de tama\u00f1o interesante!\n",
      "\n",
      "\u00bfCu\u00e1l es la soluci\u00f3n? Debemos encontrar una manera de calcular las cantidades de inter\u00e9s, como $\\langle E \\rangle$, *sin* tener que pasar por la v\u00eda de calcular $Z$.\n",
      "\n",
      "Dado que estas cantidades tienen que ver con *promedios*, surge la idea de calcularlas al promediar sobre *datos* que generamos. \u00bfCu\u00e1les datos? La idea es que generemos una secuencia *en el tiempo* de configuraciones $\\ss^{(1)}$, $\\ss^{(2)}$, etc., y que calculemos $\\langle E \\rangle$ como el promedio aritm\u00e9tico --en el sentido de la estad\u00edstica-- de *los datos* $E(\\ss^{(1)})$, $E(\\ss^{(2)})$, etc. Por supuesto, esto nos dar\u00e1 s\u00f3lo *una aproximaci\u00f3n* al valor exacto. Si la generaci\u00f3n de la secuencia ocupa un proceso azaraso, entonces *tendremos un m\u00e9todo tipo Monte Carlo*."
     ]
    },
    {
     "cell_type": "markdown",
     "metadata": {},
     "source": [
      "Esto lo empezamos a hacer en el notebook anterior (sin darnos cuenta), pero sin contar a\u00fan con la temperatura. Ahora hemos introducido el concepto de temperatura, a trav\u00e9s de la distribuci\u00f3n de Boltzmann."
     ]
    },
    {
     "cell_type": "markdown",
     "metadata": {},
     "source": [
      "[5] Integra lo que hemos visto hasta ahora en el curso para \u00a1dar una propuesta para una soluci\u00f3n al problema!"
     ]
    }
   ],
   "metadata": {}
  }
 ]
}