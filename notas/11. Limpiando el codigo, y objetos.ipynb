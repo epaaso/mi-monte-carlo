{
 "cells": [
  {
   "cell_type": "markdown",
   "metadata": {},
   "source": [
    "Hasta ahora, tu código probablemente está regado en uno o varios notebooks.\n",
    "La idea es, primero, recolectarlo en un lugar."
   ]
  },
  {
   "cell_type": "markdown",
   "metadata": {},
   "source": [
    "[1] Revisa la documentación sobre **modules** (módulos) en Julia. Crea un módulo que se llama `Ising` (o `ModeloIsing`, o algo por el estilo), en un archivo `Ising.jl` tal que puedas incluir el código (e.g. desde un notebook) con `using Ising`, y correrlo al llamar una sola función que acepte los parámetros importantes del modelo (tamaño de la caja, temperatura, etc.).  [Se recomienda usar un editor que \"sepa Julia\", e.g. Juno, Sublime Text, Atom (o Emacs o Vim) para este propósito.]\n",
    "\n",
    "**[2] Escribe un \"script\" (programa corto con código de Julia) que toma los *argumentos de la línea de comandos* [en Julia, éstos se guardan en la variable `ARGS`, y produce los plots de la energía y magnetización en función de la temperatura.**"
   ]
  },
  {
   "cell_type": "markdown",
   "metadata": {},
   "source": [
    "El archivo se llama IsingPlot.jl y se le dan como parametros (en orden) ancho, largo, temperatura, iteraciones"
   ]
  },
  {
   "cell_type": "markdown",
   "metadata": {},
   "source": [
    "## Tests (pruebas)"
   ]
  },
  {
   "cell_type": "markdown",
   "metadata": {},
   "source": [
    "Cuando uno escribe software científico, es de suma importancia (evidentemente) que el software funcione correctamente. Sin embargo, desgraciadamente es, al mismo tiempo **¡imposible garantizar que funcione correctamente**! Lo más que podamos hacer es dar una cierta medida de confianza de esto. Una manera de hacerlo es el escribir **tests** (pruebas).\n",
    "\n",
    "Los **unit tests** (pruebas unitarias) checan si las unidades del programa (básicamente, las funciones) hacen lo que deben hacer. \n",
    "En Julia, un paquete muy útil para escribir tests es [`FactCheck.jl`](https://github.com/JuliaLang/FactCheck.jl)."
   ]
  },
  {
   "cell_type": "markdown",
   "metadata": {},
   "source": [
    "[3] Revisa la documentación de `FactCheck.jl`. Escribe, en un archivo aparte, tests para tu código de Ising para asegurarte que\n",
    "estén bien las siguientes funciones (por ejemplo):\n",
    "\n",
    "- la función que calcule la energía de una configuración\n",
    "- la función que calcule la diferencia de energía\n",
    "- la función que calcule la probabilidad de aceptación, $\\alpha$\n",
    "\n",
    "Para hacerlo, escoge para cada función varias inputs (entradas / argumentos) de la función **para los cuales conoces de antemano la respuesta correcta** y checa si tu programa da los resultados esperados."
   ]
  },
  {
   "cell_type": "markdown",
   "metadata": {},
   "source": [
    "# Tipos "
   ]
  },
  {
   "cell_type": "markdown",
   "metadata": {},
   "source": [
    "Hasta ahora, no hay manera de hablar del \"modelo de Ising\" o del \"método de Metropolis\" en tu código --los conceptos están, de igual forma, regados por el programa. Julia permite llevar a cabo la **programación orientada a objetos**, al definir tus propios **tipos** nuevos.\n",
    "\n",
    "Por ejemplo:"
   ]
  },
  {
   "cell_type": "code",
   "execution_count": 1,
   "metadata": {
    "collapsed": false
   },
   "outputs": [],
   "source": [
    "type Hola\n",
    "    a::Int\n",
    "    b\n",
    "end"
   ]
  },
  {
   "cell_type": "markdown",
   "metadata": {},
   "source": [
    "define un *tipo nuevo de objeto*, que se llama `Hola`. Especifica que un objeto de este tipo contendrá una propiedad `a`, que es, a fuerzas, de tipo `Int`, y otro objeto `b`, que puede ser de cualquier tipo."
   ]
  },
  {
   "cell_type": "markdown",
   "metadata": {},
   "source": [
    "[4] Encuentra la manera de *crear un objeto nuevo* de este tipo."
   ]
  },
  {
   "cell_type": "code",
   "execution_count": 7,
   "metadata": {
    "collapsed": false
   },
   "outputs": [
    {
     "data": {
      "text/plain": [
       "Hola(2,\"neto\")"
      ]
     },
     "execution_count": 7,
     "metadata": {},
     "output_type": "execute_result"
    }
   ],
   "source": [
    "saludo=Hola(2,\"neto\")"
   ]
  },
  {
   "cell_type": "markdown",
   "metadata": {},
   "source": [
    "**[5] ¿Cuáles elementos de tu programa podrías tratar como objetos de esta forma? ¿Cómo se deberían comunicar entre ellos? [Nota que ¡no necesariamente hay respuestas únicas ni evidentes a esta pregunta!]**"
   ]
  },
  {
   "cell_type": "markdown",
   "metadata": {},
   "source": [
    "Podriamos tratar a la configuración como un tipo, y darle campos como su magnetizacion y su energia."
   ]
  },
  {
   "cell_type": "markdown",
   "metadata": {},
   "source": [
    "**[6] La programación orientada a objetos requiere la posibilidad de manipular los objetos, al llamar funciones que actúan con o en función de ellos. Por ejemplo, si uno tiene un tipo `Configuracion`, podría querer tener una función `voltear` que actúa sobre este objeto. ¿Cómo se puede hacer esto en Julia?**"
   ]
  },
  {
   "cell_type": "markdown",
   "metadata": {},
   "source": [
    "Nadamas se pone el objeto como parametro de la función y se actua sobre sus campos poniendo el nombre de la instancia del objeto . el nombre del campo. Por ejemplo con el tipo \"Hola\":"
   ]
  },
  {
   "cell_type": "code",
   "execution_count": 3,
   "metadata": {
    "collapsed": false
   },
   "outputs": [
    {
     "data": {
      "text/plain": [
       "aumentarSaludos! (generic function with 1 method)"
      ]
     },
     "execution_count": 3,
     "metadata": {},
     "output_type": "execute_result"
    }
   ],
   "source": [
    "function aumentarSaludos!(saludo::Hola)\n",
    "    saludo.a+=1\n",
    "end"
   ]
  },
  {
   "cell_type": "code",
   "execution_count": 8,
   "metadata": {
    "collapsed": false
   },
   "outputs": [
    {
     "name": "stdout",
     "output_type": "stream",
     "text": [
      "2\n",
      "3\n"
     ]
    }
   ],
   "source": [
    "println(saludo.a)\n",
    "aumentarSaludos!(saludo)\n",
    "println(saludo.a);"
   ]
  },
  {
   "cell_type": "markdown",
   "metadata": {},
   "source": [
    "**[7] Escribe una nueva versión de tu código, en el cual se separa los conceptos de esta manera.**"
   ]
  },
  {
   "cell_type": "code",
   "execution_count": null,
   "metadata": {
    "collapsed": true
   },
   "outputs": [],
   "source": [
    "Eso esta en "
   ]
  },
  {
   "cell_type": "markdown",
   "metadata": {},
   "source": [
    "## Control de versiones"
   ]
  },
  {
   "cell_type": "markdown",
   "metadata": {},
   "source": [
    "Es importante contar con una bitácora de la evolución de tu código (y notebooks, datos, etc.) Para esto, se utiliza un *sistema de control de versiones*. El más común hoy día es [`git`](http://git-scm.com/).  Luego debes guardar tus archivos, y la bitácora, en un lugar remoto, por ejemplo [GitHub](http://www.github.com)."
   ]
  },
  {
   "cell_type": "markdown",
   "metadata": {},
   "source": [
    "[8] Aprende a utilizar `git`, por ejemplo usando los primeros dos notebooks de [este curso](https://github.com/lbenet/MetodosNumericosAvanzados)."
   ]
  },
  {
   "cell_type": "markdown",
   "metadata": {},
   "source": [
    "**[9] Crea un repositorio para tus archivos y notebooks y empújalo a una cuenta en GitHub.**"
   ]
  },
  {
   "cell_type": "markdown",
   "metadata": {},
   "source": [
    "https://github.com/netoelgrande/mi-monte-carlo"
   ]
  },
  {
   "cell_type": "markdown",
   "metadata": {},
   "source": [
    "**[10] Haz un \"fork\" del proyecto de alguien más y compara los códigos. Trabaja en equipo para mejorar los códigos y sube la nueva versión.**\n",
    "\n",
    "**Adapta tus tests para el código ajeno ¡e intenta romperlo!**"
   ]
  },
  {
   "cell_type": "markdown",
   "metadata": {},
   "source": [
    "Uy eso esta difícil hacerlo de tarea"
   ]
  },
  {
   "cell_type": "markdown",
   "metadata": {},
   "source": [
    "## Profiling"
   ]
  },
  {
   "cell_type": "markdown",
   "metadata": {},
   "source": [
    "El \"profiling\" (perfilamiento) es una manera de encontrar dónde se pasa más tiempo en tu programa.\n",
    "\n",
    "Julia tiene un comando (macro) `@time` que permite ver cuánto tiempo pasa en una función dada, e.g.\n",
    "\n",
    "    @time run(100)\n",
    "    \n",
    "Regresa información sobre el tiempo total y la memoria utilizada."
   ]
  },
  {
   "cell_type": "markdown",
   "metadata": {},
   "source": [
    "[11] Compara el tiempo de los dos códigos con los mismos parámetros. Encuentra cuáles funciones son más lentas."
   ]
  },
  {
   "cell_type": "markdown",
   "metadata": {},
   "source": [
    "Julia tiene también `@profile run(100)` que recolecta información sobre las funciones en las cuales se pasó más tiempo durante la corrida:"
   ]
  },
  {
   "cell_type": "markdown",
   "metadata": {},
   "source": [
    "    @profile run(100)\n",
    "    Profile.print()"
   ]
  },
  {
   "cell_type": "markdown",
   "metadata": {},
   "source": [
    "[12] Encuentra dónde pasa tiempo tu programa. ¿Hay alguna manera de acelerarlo?"
   ]
  },
  {
   "cell_type": "markdown",
   "metadata": {},
   "source": [
    "Nótese que estas optimizaciones **sólo** se deben hacer **después** de que ya tengas una versión **funcional** (aún si lenta) del programa. `git` permite rastrear todas las versiones anteriores del programa.\n",
    "\n",
    "Dijo Donald Knuth (uno de los computólogos más destacados del siglo XX): \"La optimización prematura es la raíz de todos los males\"."
   ]
  }
 ],
 "metadata": {
  "kernelspec": {
   "display_name": "Julia 0.3.7",
   "language": "julia",
   "name": "julia 0.3"
  },
  "language": "Julia",
  "language_info": {
   "name": "julia",
   "version": "0.3.7"
  }
 },
 "nbformat": 4,
 "nbformat_minor": 0
}
