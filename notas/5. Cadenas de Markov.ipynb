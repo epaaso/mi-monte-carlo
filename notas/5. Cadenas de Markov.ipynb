{
 "metadata": {
  "language": "Julia",
  "name": "",
  "signature": "sha256:d8bab3dde848ae3baca302c29688ef5b401acb1474739780e933152177e83e46"
 },
 "nbformat": 3,
 "nbformat_minor": 0,
 "worksheets": [
  {
   "cells": [
    {
     "cell_type": "markdown",
     "metadata": {},
     "source": [
      "Un caminante aleatorio es un tipo particular de una *cadena de Markov*.\n",
      "\n",
      "Una cadena de Markov es, a su vez, un tipo de *proceso estoc\u00e1stico*, es decir una evoluci\u00f3n en el tiempo que no es determinista, sino donde hay una probabilidad dada, el sistema lleva a cabo una *transici\u00f3n* hacia un estado nuevo.\n",
      "\n",
      "La particularidad de las cadenas de Markov es que satisfacen la *propiedad de Markov*: el estado nuevo depende *s\u00f3lo de un estado anterior*. Se suele decir que el proceso *no tiene memoria*.\n",
      "\n",
      "Por ejemplo, una caminata aleatoria satisface esto, ya que la posici\u00f3n al tiempo $t+1$ depende s\u00f3lo de la posici\u00f3n al tiempo $t$ (no de posiciones a tiempos anteriores).  "
     ]
    },
    {
     "cell_type": "markdown",
     "metadata": {},
     "source": [
      "Sea $X_n$ el estado del proceso al tiempo $n$. Nos interesaremos por el momento en procesos de Markov tal que\n",
      "$P(X_{n+1} = j \\, | \\, X_n = i) = p_{ij}$, independiente del tiempo. La notaci\u00f3n aqu\u00ed es de una *probabilidad condicional*, es decir, la probabilidad de que el sistema est\u00e1 en el estado $j$ al tiempo $n+1$, *dado que* estaba en el estado $i$ al tiempo $n$."
     ]
    },
    {
     "cell_type": "markdown",
     "metadata": {},
     "source": [
      "[1] Las $p_{ij}$ forman una matriz. \u00bfQu\u00e9 propiedad deber\u00eda tener?\n",
      "\n",
      "[2] Considera una cadena que tiene 4 estados. Desde cada estado puede brincar a cada otro estado con igual probabilidad. \n",
      "\n",
      "(i) Escribe la matriz de transici\u00f3n $\\mathsf{P} = (p_{ij})$. \u00bfQu\u00e9 propiedades tiene que satisfacer?\n",
      "\n",
      "(ii) \u00bfQu\u00e9 tipo de propiedades nos podr\u00edan interesar?, suponiendo que esto modela un estado f\u00edsico, qu\u00edmico o biol\u00f3gico que puede estar en uno de estos estados.\n",
      "\n",
      "(iii) Simula la din\u00e1mica del sistema: escribe una funci\u00f3n que genera una realizaci\u00f3n de cierta longitud.\n",
      "\n",
      "(iv) Escribe funciones que calculen las cantidades de interes num\u00e9ricamente.\n",
      "\n"
     ]
    },
    {
     "cell_type": "markdown",
     "metadata": {},
     "source": [
      "[3] Escribe una funci\u00f3n para simular la din\u00e1mica de una matriz de transici\u00f3n *arbitraria* $\\mathsf{P}$ que satisfaga las propiedades de 2(i)."
     ]
    }
   ],
   "metadata": {}
  }
 ]
}