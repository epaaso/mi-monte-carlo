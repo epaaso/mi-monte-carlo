{
 "metadata": {
  "kernelspec": {
   "display_name": "Julia 0.3.7-pre",
   "language": "julia",
   "name": "julia 0.3"
  },
  "language": "Julia",
  "language_info": {
   "name": "julia",
   "version": "0.3.7"
  },
  "name": "",
  "signature": "sha256:13d5192b3c51511de91735c96e4a76f87a9b8578f4b26b748d217e8817a53cbf"
 },
 "nbformat": 3,
 "nbformat_minor": 0,
 "worksheets": [
  {
   "cells": [
    {
     "cell_type": "heading",
     "level": 1,
     "metadata": {},
     "source": [
      "Cadenas de Markov "
     ]
    },
    {
     "cell_type": "markdown",
     "metadata": {},
     "source": [
      "Un caminante aleatorio es un tipo particular de una *cadena de Markov*.\n",
      "\n",
      "Una cadena de Markov es, a su vez, un tipo de \n",
      "*proceso estoc\u00e1stico*, es decir una evoluci\u00f3n en \n",
      "el tiempo que no es determinista, sino donde hay \n",
      "una probabilidad dada, el sistema lleva a cabo \n",
      "una *transici\u00f3n* hacia un estado nuevo. Las cadenas de Markov son de gran importancia hoy d\u00eda en las ciencias.\n",
      "\n",
      "La particularidad de las cadenas de Markov es que satisfacen la *propiedad de Markov*: el estado nuevo depende *s\u00f3lo de un estado anterior*. Se suele decir que el proceso *no tiene memoria*.\n",
      "\n",
      "Por ejemplo, una caminata aleatoria satisface esto, ya que la posici\u00f3n al tiempo $t+1$ depende s\u00f3lo de la posici\u00f3n al tiempo $t$ (no de posiciones a tiempos anteriores).  "
     ]
    },
    {
     "cell_type": "markdown",
     "metadata": {},
     "source": [
      "Sea $X_n$ el estado del proceso al tiempo $n$. Nos interesaremos por el momento en procesos de Markov tal que\n",
      "$P(X_{n+1} = j \\, | \\, X_n = i) = p_{ij}$, independiente del tiempo. La notaci\u00f3n aqu\u00ed es de una *probabilidad condicional*, es decir, la probabilidad de que el sistema est\u00e1 en el estado $j$ al tiempo $n+1$, *dado que* estaba en el estado $i$ al tiempo $n$."
     ]
    },
    {
     "cell_type": "markdown",
     "metadata": {},
     "source": [
      "[1] Las $p_{ij}$ forman una matriz. \n",
      "\n",
      "(i) Escribe la matriz para un caminante aleatorio con fronteras reflejantes en 0 y $L=5$, si tiene probabilidades $p$, $q$, y $r$ de brincar a la derecha o izquierda, o de permanecer en el mismo lugar, respectivamente.\n",
      "\n",
      "(ii) \u00bfQu\u00e9 propiedad debe satisfacer cualquier matriz de transici\u00f3n?"
     ]
    },
    {
     "cell_type": "code",
     "collapsed": false,
     "input": [
      "p=q=r=1/3\n",
      "L=6\n",
      "m=zeros(L,L)\n",
      "#Asingamos los valores sin las fronteras primero\n",
      "for i in 1:L\n",
      "    m[i,i]=r\n",
      "    if i<L\n",
      "        m[i,i+1]=p\n",
      "    end\n",
      "    if i>1\n",
      "        m[i,i-1]=q\n",
      "    end\n",
      "end\n",
      "#Y ahora las fronteras\n",
      "m[1,1]+=q\n",
      "m[L,L]+=p\n",
      "#Visualizamos\n",
      "m"
     ],
     "language": "python",
     "metadata": {},
     "outputs": [
      {
       "metadata": {},
       "output_type": "pyout",
       "prompt_number": 19,
       "text": [
        "6x6 Array{Float64,2}:\n",
        " 0.666667  0.333333  0.0       0.0       0.0       0.0     \n",
        " 0.333333  0.333333  0.333333  0.0       0.0       0.0     \n",
        " 0.0       0.333333  0.333333  0.333333  0.0       0.0     \n",
        " 0.0       0.0       0.333333  0.333333  0.333333  0.0     \n",
        " 0.0       0.0       0.0       0.333333  0.333333  0.333333\n",
        " 0.0       0.0       0.0       0.0       0.333333  0.666667"
       ]
      }
     ],
     "prompt_number": 19
    },
    {
     "cell_type": "code",
     "collapsed": false,
     "input": [
      "m*m"
     ],
     "language": "python",
     "metadata": {},
     "outputs": [
      {
       "metadata": {},
       "output_type": "pyout",
       "prompt_number": 22,
       "text": [
        "6x6 Array{Float64,2}:\n",
        " 0.555556  0.333333  0.111111  0.0       0.0       0.0     \n",
        " 0.333333  0.333333  0.222222  0.111111  0.0       0.0     \n",
        " 0.111111  0.222222  0.333333  0.222222  0.111111  0.0     \n",
        " 0.0       0.111111  0.222222  0.333333  0.222222  0.111111\n",
        " 0.0       0.0       0.111111  0.222222  0.333333  0.333333\n",
        " 0.0       0.0       0.0       0.111111  0.333333  0.555556"
       ]
      }
     ],
     "prompt_number": 22
    },
    {
     "cell_type": "markdown",
     "metadata": {},
     "source": [
      "La suma de los elementos de cualquiera de sus renglones o columnas debe de ser uno e.d.\n",
      "$$ \\sum_j^L p_{ij}= \\sum_i^L x_{ij}=1$$"
     ]
    },
    {
     "cell_type": "markdown",
     "metadata": {},
     "source": [
      "[2] Considera una cadena que tiene 4 estados. Desde cada estado puede brincar a cada otro estado con igual probabilidad. \n",
      "\n",
      "(i) Escribe la matriz de transici\u00f3n $\\mathsf{P} = (p_{ij})$. \u00bfQu\u00e9 propiedades tiene que satisfacer?"
     ]
    },
    {
     "cell_type": "code",
     "collapsed": false,
     "input": [
      "P=ones(4,4)\n",
      "P=P*1/4"
     ],
     "language": "python",
     "metadata": {},
     "outputs": [
      {
       "metadata": {},
       "output_type": "pyout",
       "prompt_number": 18,
       "text": [
        "4x4 Array{Float64,2}:\n",
        " 0.25  0.25  0.25  0.25\n",
        " 0.25  0.25  0.25  0.25\n",
        " 0.25  0.25  0.25  0.25\n",
        " 0.25  0.25  0.25  0.25"
       ]
      }
     ],
     "prompt_number": 18
    },
    {
     "cell_type": "code",
     "collapsed": false,
     "input": [
      "P*P*P"
     ],
     "language": "python",
     "metadata": {},
     "outputs": [
      {
       "metadata": {},
       "output_type": "pyout",
       "prompt_number": 21,
       "text": [
        "4x4 Array{Float64,2}:\n",
        " 0.25  0.25  0.25  0.25\n",
        " 0.25  0.25  0.25  0.25\n",
        " 0.25  0.25  0.25  0.25\n",
        " 0.25  0.25  0.25  0.25"
       ]
      }
     ],
     "prompt_number": 21
    },
    {
     "cell_type": "markdown",
     "metadata": {},
     "source": [
      "Esta matriz satisface la propiedad a\u00f1adida de que cada entrada debe valer 1 entre su numero de estados.\n",
      "\n",
      "Adem\u00e1s, tambien su traza es 1."
     ]
    },
    {
     "cell_type": "markdown",
     "metadata": {},
     "source": [
      "(ii) \u00bfQu\u00e9 tipo de propiedades nos podr\u00edan interesar?, suponiendo que esto modela un estado f\u00edsico, qu\u00edmico o biol\u00f3gico que puede estar en uno de estos estados."
     ]
    },
    {
     "cell_type": "code",
     "collapsed": false,
     "input": [],
     "language": "python",
     "metadata": {},
     "outputs": []
    },
    {
     "cell_type": "markdown",
     "metadata": {},
     "source": [
      "(iii) Simula la din\u00e1mica del sistema: escribe una funci\u00f3n que genera una realizaci\u00f3n de cierta longitud."
     ]
    },
    {
     "cell_type": "markdown",
     "metadata": {},
     "source": [
      "(iv) Escribe funciones que calculen las cantidades de interes num\u00e9ricamente."
     ]
    },
    {
     "cell_type": "markdown",
     "metadata": {},
     "source": [
      "[3] Escribe una funci\u00f3n para simular una realizaci\u00f3n de una trayectoria correspondiendo a una matriz de transici\u00f3n *arbitraria* $\\mathsf{P}$ que satisfaga las propiedades de 2(i)."
     ]
    },
    {
     "cell_type": "heading",
     "level": 2,
     "metadata": {},
     "source": [
      "M\u00e9todo estilo enumeraci\u00f3n exacta"
     ]
    },
    {
     "cell_type": "markdown",
     "metadata": {},
     "source": [
      "Tal como hicimos para un caminante aleatorio, para una cadena de Markov tambi\u00e9n podemos cambiar de punto de vista y estudiar la evoluci\u00f3n de la *distribuci\u00f3n de probabilidad*, la cual nos dice la probabilidad de que la cadena se encuentra en cada estado al tiempo $t$.\n",
      "\n",
      "Primero veamos esto anal\u00edticamente."
     ]
    },
    {
     "cell_type": "markdown",
     "metadata": {},
     "source": [
      "[4] Supongamos que la cadena empieza en alguna distribuci\u00f3n de probabilidad inicial $\\mathbf{P}_0 = (P_{0,i}: i=1, \\ldots, n)$, donde $n$ es el n\u00famero de estados.\n",
      "\n",
      "(i) Escribe la ecuaci\u00f3n maestra que describe c\u00f3mo evoluciona la probabilidad en 1 paso.  \n",
      "\n",
      "(ii) Escr\u00edbela de nuevo, ahora usando notaci\u00f3n matricial.\n",
      "\n",
      "(ii) \u00bfQu\u00e9 pasa en 2 pasos? \u00bfEn $N$ pasos?"
     ]
    },
    {
     "cell_type": "markdown",
     "metadata": {},
     "source": [
      "[5] Simula la din\u00e1mica de la cadena de Markov de la pregunta 2 desde una condici\u00f3n inicial que es una delta en alg\u00fan estado por un tiempo $t$. \u00bfQu\u00e9 observas cuando $t \\to \\infty$?"
     ]
    },
    {
     "cell_type": "markdown",
     "metadata": {},
     "source": [
      "[6] Este mismo fen\u00f3meno (lo que pasa cuando $t \\to \\infty$) ocurre para \"casi todas\" las cadenas de Markov (cuando se satisfacen ciertas condiciones t\u00e9cnicas). Expl\u00edcalo usando propiedades de la matriz que vieron en \u00e1lgebra lineal. \u00bfA qu\u00e9 corresponde lo que pasa cuando $t \\to \\infty$?"
     ]
    }
   ],
   "metadata": {}
  }
 ]
}