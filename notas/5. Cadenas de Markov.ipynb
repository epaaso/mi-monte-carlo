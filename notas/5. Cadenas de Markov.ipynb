{
 "cells": [
  {
   "cell_type": "markdown",
   "metadata": {},
   "source": [
    "# Cadenas de Markov "
   ]
  },
  {
   "cell_type": "markdown",
   "metadata": {},
   "source": [
    "Un caminante aleatorio es un tipo particular de una *cadena de Markov*.\n",
    "\n",
    "Una cadena de Markov es, a su vez, un tipo de \n",
    "*proceso estocástico*, es decir una evolución en \n",
    "el tiempo que no es determinista, sino donde hay \n",
    "una probabilidad dada, el sistema lleva a cabo \n",
    "una *transición* hacia un estado nuevo. Las cadenas de Markov son de gran importancia hoy día en las ciencias.\n",
    "\n",
    "La particularidad de las cadenas de Markov es que satisfacen la *propiedad de Markov*: el estado nuevo depende *sólo de un estado anterior*. Se suele decir que el proceso *no tiene memoria*.\n",
    "\n",
    "Por ejemplo, una caminata aleatoria satisface esto, ya que la posición al tiempo $t+1$ depende sólo de la posición al tiempo $t$ (no de posiciones a tiempos anteriores).  "
   ]
  },
  {
   "cell_type": "markdown",
   "metadata": {},
   "source": [
    "Sea $X_n$ el estado del proceso al tiempo $n$. Nos interesaremos por el momento en procesos de Markov tal que\n",
    "$P(X_{n+1} = j \\, | \\, X_n = i) = p_{ij}$, independiente del tiempo. La notación aquí es de una *probabilidad condicional*, es decir, la probabilidad de que el sistema está en el estado $j$ al tiempo $n+1$, *dado que* estaba en el estado $i$ al tiempo $n$."
   ]
  },
  {
   "cell_type": "markdown",
   "metadata": {},
   "source": [
    "[1] Las $p_{ij}$ forman una matriz. \n",
    "\n",
    "(i) Escribe la matriz para un caminante aleatorio con fronteras reflejantes en 0 y $L=5$, si tiene probabilidades $p$, $q$, y $r$ de brincar a la derecha o izquierda, o de permanecer en el mismo lugar, respectivamente.\n",
    "\n",
    "(ii) ¿Qué propiedad debe satisfacer cualquier matriz de transición?"
   ]
  },
  {
   "cell_type": "code",
   "execution_count": 41,
   "metadata": {
    "collapsed": false
   },
   "outputs": [
    {
     "data": {
      "text/plain": [
       "6x6 Array{Float64,2}:\n",
       " 0.666667  0.333333  0.0       0.0       0.0       0.0     \n",
       " 0.333333  0.333333  0.333333  0.0       0.0       0.0     \n",
       " 0.0       0.333333  0.333333  0.333333  0.0       0.0     \n",
       " 0.0       0.0       0.333333  0.333333  0.333333  0.0     \n",
       " 0.0       0.0       0.0       0.333333  0.333333  0.333333\n",
       " 0.0       0.0       0.0       0.0       0.333333  0.666667"
      ]
     },
     "execution_count": 41,
     "metadata": {},
     "output_type": "execute_result"
    }
   ],
   "source": [
    "function generar_caminante_aleatorio(L::Int64,p::Float64=1/3,q::Float64=1/3,r::Float64=1/3)\n",
    "    m=zeros(L,L)\n",
    "    #Asingamos los valores sin las fronteras primero\n",
    "    for i in 1:L\n",
    "        m[i,i]=r\n",
    "        if i<L\n",
    "            m[i,i+1]=p\n",
    "        end\n",
    "        if i>1\n",
    "            m[i,i-1]=q\n",
    "        end\n",
    "    end\n",
    "    #Y ahora las fronteras\n",
    "    m[1,1]+=q\n",
    "    m[L,L]+=p\n",
    "    return m\n",
    "end\n",
    "#Visualizamos\n",
    "m=generar_caminante_aleatorio(6)"
   ]
  },
  {
   "cell_type": "markdown",
   "metadata": {},
   "source": [
    "La suma de los elementos de cualquiera de sus renglones o columnas debe de ser uno e.d.\n",
    "$$ \\sum_j^L p_{ij}= \\sum_i^L p_{ij}=1$$"
   ]
  },
  {
   "cell_type": "markdown",
   "metadata": {},
   "source": [
    "Tambien se cumple q la determinante de esta matriz es 0"
   ]
  },
  {
   "cell_type": "markdown",
   "metadata": {},
   "source": [
    "[2] Considera una cadena que tiene 4 estados. Desde cada estado puede brincar a cada otro estado con igual probabilidad. \n",
    "\n",
    "**(i) Escribe la matriz de transición $\\mathsf{P} = (p_{ij})$. ¿Qué propiedades tiene que satisfacer?**"
   ]
  },
  {
   "cell_type": "code",
   "execution_count": 2,
   "metadata": {
    "collapsed": false
   },
   "outputs": [
    {
     "data": {
      "text/plain": [
       "4x4 Array{Float64,2}:\n",
       " 0.25  0.25  0.25  0.25\n",
       " 0.25  0.25  0.25  0.25\n",
       " 0.25  0.25  0.25  0.25\n",
       " 0.25  0.25  0.25  0.25"
      ]
     },
     "execution_count": 2,
     "metadata": {},
     "output_type": "execute_result"
    }
   ],
   "source": [
    "P=ones(4,4)\n",
    "P=P*1/4"
   ]
  },
  {
   "cell_type": "markdown",
   "metadata": {},
   "source": [
    "Esta matriz satisface la propiedad añadida de que cada entrada debe valer \"1 / (su numero de estados)\".\n",
    "\n",
    "Además, tambien su traza es 1."
   ]
  },
  {
   "cell_type": "markdown",
   "metadata": {},
   "source": [
    "(ii) ¿Qué tipo de propiedades nos podrían interesar?, suponiendo que esto modela un estado físico, químico o biológico que puede estar en uno de estos estados."
   ]
  },
  {
   "cell_type": "markdown",
   "metadata": {},
   "source": [
    "Es interesante q su determinante sea 0, pues no la podemos diagonalizar mas de lo que esta, lo que nos habla de que esto quiza no tiene modos normales.\n",
    "Tambien es importante que, tomando en cuenta que la composición de esta función es una multiplicación de matrices, las potencias de estas matrices sigan manteniendo la propiedad de que la suma de todas las entradas es 1.\n",
    "Esto quiere decir que el sistema se mantiene normalizado."
   ]
  },
  {
   "cell_type": "markdown",
   "metadata": {},
   "source": [
    "(iii) Simula la dinámica del sistema: escribe una función que genera una realización de cierta longitud."
   ]
  },
  {
   "cell_type": "code",
   "execution_count": 25,
   "metadata": {
    "collapsed": false
   },
   "outputs": [
    {
     "data": {
      "text/plain": [
       "realizacion_Markov (generic function with 1 method)"
      ]
     },
     "execution_count": 25,
     "metadata": {},
     "output_type": "execute_result"
    }
   ],
   "source": [
    "function realizacion_Markov(inicio::Array{Float64,1}, matriz::Array{Float64,2}, longitud::Int64)\n",
    "    if size(inicio)[1] != size(matriz)[1]\n",
    "        return \"Las dimensiones no coinciden\"\n",
    "    end\n",
    "    return (matriz^longitud)*inicio\n",
    "end"
   ]
  },
  {
   "cell_type": "code",
   "execution_count": 37,
   "metadata": {
    "collapsed": false
   },
   "outputs": [
    {
     "data": {
      "text/plain": [
       "11-element Array{Float64,1}:\n",
       " 0.0     \n",
       " 0.0     \n",
       " 0.111111\n",
       " 0.222222\n",
       " 0.333333\n",
       " 0.222222\n",
       " 0.111111\n",
       " 0.0     \n",
       " 0.0     \n",
       " 0.0     \n",
       " 0.0     "
      ]
     },
     "execution_count": 37,
     "metadata": {},
     "output_type": "execute_result"
    }
   ],
   "source": [
    "dim = 11\n",
    "inicio = zeros(dim)\n",
    "inicio[(dim-1)/2]=1\n",
    "matriz=generar_caminante_aleatorio(dim)\n",
    "realizacion_Markov(inicio,matriz,2)"
   ]
  },
  {
   "cell_type": "markdown",
   "metadata": {},
   "source": [
    "(iv) Escribe funciones que calculen las cantidades de interes numéricamente."
   ]
  },
  {
   "cell_type": "markdown",
   "metadata": {},
   "source": [
    "[3] Escribe una función para simular una realización de una trayectoria correspondiendo a una matriz de transición *arbitraria* $\\mathsf{P}$ que satisfaga las propiedades de 2(i)."
   ]
  },
  {
   "cell_type": "markdown",
   "metadata": {},
   "source": [
    "## Método estilo enumeración exacta"
   ]
  },
  {
   "cell_type": "markdown",
   "metadata": {},
   "source": [
    "Tal como hicimos para un caminante aleatorio, para una cadena de Markov también podemos cambiar de punto de vista y estudiar la evolución de la *distribución de probabilidad*, la cual nos dice la probabilidad de que la cadena se encuentra en cada estado al tiempo $t$.\n",
    "\n",
    "Primero veamos esto analíticamente."
   ]
  },
  {
   "cell_type": "markdown",
   "metadata": {},
   "source": [
    "[4] Supongamos que la cadena empieza en alguna distribución de probabilidad inicial $\\mathbf{P}_0 = (P_{0,i}: i=1, \\ldots, n)$, donde $n$ es el número de estados.\n",
    "\n",
    "(i) Escribe la ecuación maestra que describe cómo evoluciona la probabilidad en 1 paso.  \n",
    "\n",
    "(ii) Escríbela de nuevo, ahora usando notación matricial.\n",
    "\n",
    "(ii) ¿Qué pasa en 2 pasos? ¿En $N$ pasos?"
   ]
  },
  {
   "cell_type": "markdown",
   "metadata": {},
   "source": [
    "(i)La ecuacion es como la que vimos en la nota 4.\n",
    "$P_{t+1}(i)=P_{t}(i-1)*p + P_{t}(i+1)*q + P_{t}(i)*r$\n",
    "(ii) Asi que en notacion matricial sería $\\vec{P_{t+1}} =\n",
    " \\begin{pmatrix}\n",
    "  r & q & 0 & 0 & \\cdots & 0 \\\\\n",
    "  p & r & q & 0 & \\cdots & 0 \\\\\n",
    "  0 & p & r & q & \\cdots & 0 \\\\\n",
    "  \\vdots  & \\vdots  & \\vdots  & \\ddots & \\vdots  \\\\\n",
    "  0 & 0 & 0 & 0 & \\cdots & r \n",
    " \\end{pmatrix}\\vec{P_t}$"
   ]
  },
  {
   "cell_type": "markdown",
   "metadata": {},
   "source": [
    "Como vi antes (quiza debería de haberlo visto de otra forma pero no se me ocurre), debido a que la composicion de la aplicación de una transf lineal que es una matriz es multiplicacion de estas, en el tiempo n tendriamos: $$ \\vec{P_{t+n}}= \\vec{P_{t}}^n$$"
   ]
  },
  {
   "cell_type": "markdown",
   "metadata": {},
   "source": [
    "[5] Simula la dinámica de la cadena de Markov de la pregunta 2 desde una condición inicial que es una delta en algún estado por un tiempo $t$. ¿Qué observas cuando $t \\to \\infty$?"
   ]
  },
  {
   "cell_type": "code",
   "execution_count": 43,
   "metadata": {
    "collapsed": false
   },
   "outputs": [
    {
     "data": {
      "text/plain": [
       "11x11 Array{Float64,2}:\n",
       " 0.0909091  0.0909091  0.0909091  …  0.0909091  0.0909091  0.0909091\n",
       " 0.0909091  0.0909091  0.0909091     0.0909091  0.0909091  0.0909091\n",
       " 0.0909091  0.0909091  0.0909091     0.0909091  0.0909091  0.0909091\n",
       " 0.0909091  0.0909091  0.0909091     0.0909091  0.0909091  0.0909091\n",
       " 0.0909091  0.0909091  0.0909091     0.0909091  0.0909091  0.0909091\n",
       " 0.0909091  0.0909091  0.0909091  …  0.0909091  0.0909091  0.0909091\n",
       " 0.0909091  0.0909091  0.0909091     0.0909091  0.0909091  0.0909091\n",
       " 0.0909091  0.0909091  0.0909091     0.0909091  0.0909091  0.0909091\n",
       " 0.0909091  0.0909091  0.0909091     0.0909091  0.0909091  0.0909091\n",
       " 0.0909091  0.0909091  0.0909091     0.0909091  0.0909091  0.0909091\n",
       " 0.0909091  0.0909091  0.0909091  …  0.0909091  0.0909091  0.0909091"
      ]
     },
     "execution_count": 43,
     "metadata": {},
     "output_type": "execute_result"
    }
   ],
   "source": [
    "matriz^1000"
   ]
  },
  {
   "cell_type": "markdown",
   "metadata": {},
   "source": [
    "Se puede ver que se tiende a la matriz que vimos en la pregunta 2(i), una matriz q representa la misma probabilidad de pasar de cualquier lugar a cualquier otro."
   ]
  },
  {
   "cell_type": "markdown",
   "metadata": {},
   "source": [
    "[6] Este mismo fenómeno (lo que pasa cuando $t \\to \\infty$) ocurre para \"casi todas\" las cadenas de Markov (cuando se satisfacen ciertas condiciones técnicas). Explícalo usando propiedades de la matriz que vieron en álgebra lineal. ¿A qué corresponde lo que pasa cuando $t \\to \\infty$?"
   ]
  },
  {
   "cell_type": "code",
   "execution_count": 4,
   "metadata": {
    "collapsed": false
   },
   "outputs": [
    {
     "data": {
      "text/plain": [
       "mover (generic function with 2 methods)"
      ]
     },
     "execution_count": 4,
     "metadata": {},
     "output_type": "execute_result"
    }
   ],
   "source": [
    "function mover(x)\n",
    "    null\n",
    "end"
   ]
  },
  {
   "cell_type": "code",
   "execution_count": 3,
   "metadata": {
    "collapsed": false
   },
   "outputs": [
    {
     "data": {
      "text/plain": [
       "mover (generic function with 2 methods)"
      ]
     },
     "execution_count": 3,
     "metadata": {},
     "output_type": "execute_result"
    }
   ],
   "source": [
    "function mover(x,y)\n",
    "    x+y\n",
    "end"
   ]
  }
 ],
 "metadata": {
  "kernelspec": {
   "display_name": "Julia 0.3.7",
   "language": "julia",
   "name": "julia 0.3"
  },
  "language": "Julia",
  "language_info": {
   "name": "julia",
   "version": "0.3.7"
  }
 },
 "nbformat": 4,
 "nbformat_minor": 0
}
