{
 "metadata": {
  "language": "Julia",
  "name": "",
  "signature": "sha256:928636b5adf321bf5e7b37dd2a5e89937a97f23018b67bc958e2e39deb0b7626"
 },
 "nbformat": 3,
 "nbformat_minor": 0,
 "worksheets": [
  {
   "cells": [
    {
     "cell_type": "heading",
     "level": 1,
     "metadata": {},
     "source": [
      "Distribuci\u00f3n estacionaria"
     ]
    },
    {
     "cell_type": "markdown",
     "metadata": {},
     "source": [
      "En el notebook 05, vimos que la distribuci\u00f3n de probabilidad $\\mathbf{\\mu}_t$ de una cadena de Markov tiende a acercarse (*converger*), cuando $t \\to \\infty$, a una distribuci\u00f3n de probabilidad que podemos denotar $\\mathbf{\\mu}_\\infty$.  [Usaremos la notaci\u00f3n $\\mu$ (de \"medida\") para evitar que haya tantos P's.]"
     ]
    },
    {
     "cell_type": "markdown",
     "metadata": {},
     "source": [
      "[1] (i) Escribe la ecuaci\u00f3n que gobierna la evoluci\u00f3n de $\\mathbf{\\mu}_t$, y de ah\u00ed obtiene una ecuaci\u00f3n para $\\mathbf{\\mu}_\\infty$.\n",
      "\n",
      "(ii) \u00bfC\u00f3mo se relacion $\\mathbf{\\mu}_\\infty$ con la matriz de transici\u00f3n $\\mathsf{P}$ de la cadena?\n",
      "\n",
      "(iii) Demuestra que si empezamos con la distribuci\u00f3n $\\mathbf{\\mu}_\\infty$, la distribuci\u00f3n a cualquier tiempo ser\u00e1 la misma. \n",
      "\n",
      "(iv) Debido a ello, llamamos a $\\mathbf{\\mu}_\\infty$ una *distribuci\u00f3n estacionaria* de la cadena. se puede demostrar que existe y es \u00fanica si la cadena satisface dos propiedades t\u00e9cnicas, que sea *aperi\u00f3dica* e *irreducible*.\n",
      "\n",
      "Busca y explica estas dos propiedades de una cadena de Markov."
     ]
    },
    {
     "cell_type": "markdown",
     "metadata": {},
     "source": [
      "[2] Dada una matriz de transici\u00f3n $\\mathsf{P}$, \u00bfc\u00f3mo podemos calcular de forma num\u00e9rica la distribuci\u00f3n estacionaria correspondiente?"
     ]
    },
    {
     "cell_type": "markdown",
     "metadata": {},
     "source": [
      "[3] Reescribe la expresi\u00f3n de estacionariedad para un estado dado, $i$, de la cadena. Interpreta esta expresi\u00f3n f\u00edsicamente. Esta propiedad se llama *balance*."
     ]
    },
    {
     "cell_type": "markdown",
     "metadata": {},
     "source": [
      "[4] \u00bfQu\u00e9 tan r\u00e1pido converger\u00e1 una cadena de Markov a distribuci\u00f3n estacionaria?"
     ]
    },
    {
     "cell_type": "heading",
     "level": 1,
     "metadata": {},
     "source": [
      "Hacia MCMC: Markov Chain Monte Carlo"
     ]
    },
    {
     "cell_type": "markdown",
     "metadata": {},
     "source": [
      "En el resto del curso, estaremos ocupados con una pregunta distinta:\n",
      "\n",
      "*Dada* una distribuci\u00f3n de probabilidad $\\pi$ sobre un conjunto $S := \\{s_1, \\ldots, s_k\\}$, \u00bfc\u00f3mo podr\u00edamos *dise\u00f1ar* un proceso estoc\u00e1stico tal que tenga la distribuci\u00f3n $\\pi$, y as\u00ed *simular* el sistema con la distribuci\u00f3n requerida?"
     ]
    },
    {
     "cell_type": "markdown",
     "metadata": {},
     "source": [
      "[5] \u00a1Responde esta pregunta!"
     ]
    }
   ],
   "metadata": {}
  }
 ]
}