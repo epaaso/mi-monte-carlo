{
 "metadata": {
  "language": "Julia",
  "name": "",
  "signature": "sha256:e6f6bc2849c799a1ffd91694750a1e330bbbcac39971bed27a04fcaba5fb72ac"
 },
 "nbformat": 3,
 "nbformat_minor": 0,
 "worksheets": [
  {
   "cells": [
    {
     "cell_type": "heading",
     "level": 1,
     "metadata": {},
     "source": [
      "<center>Caminantes Tati</center>"
     ]
    },
    {
     "cell_type": "code",
     "collapsed": false,
     "input": [
      "using PyPlot"
     ],
     "language": "python",
     "metadata": {},
     "outputs": [
      {
       "output_type": "stream",
       "stream": "stderr",
       "text": [
        "INFO: Loading help data...\n"
       ]
      }
     ],
     "prompt_number": 1
    },
    {
     "cell_type": "code",
     "collapsed": false,
     "input": [
      "function browniano_parado(parar_en::Float64=-1.0,factor_aleatorio::Float64=0.2)\n",
      "    posiciones = Float64[1]\n",
      "    posiciones[1] = 0\n",
      "    llego=false\n",
      "    while !llego        \n",
      "        push!(posiciones,posiciones[end]+factor_aleatorio*(rand()*2-1))\n",
      "        if posiciones[end]-parar_en<0.05 || posiciones[end]<parar_en\n",
      "            llego=true\n",
      "        end\n",
      "    end\n",
      "    posiciones\n",
      "end"
     ],
     "language": "python",
     "metadata": {},
     "outputs": []
    },
    {
     "cell_type": "code",
     "collapsed": false,
     "input": [
      "function exprnd(mean::Float64,m::Int64=1,n::Int64=1)\n",
      "    if mean <= 0.0\n",
      "        error(\"mean must be positive\")\n",
      "    end\n",
      "    rander=zeros(m,n)\n",
      "    for i in 1:m\n",
      "        for j in 1:n\n",
      "            rander[i,j]=-mean*log(rand())\n",
      "        end\n",
      "    end\n",
      "    return rander\n",
      "end"
     ],
     "language": "python",
     "metadata": {},
     "outputs": [
      {
       "metadata": {},
       "output_type": "pyout",
       "prompt_number": 10,
       "text": [
        "exprnd (generic function with 3 methods)"
       ]
      }
     ],
     "prompt_number": 10
    },
    {
     "cell_type": "code",
     "collapsed": false,
     "input": [
      "exprnd(5.0,1,2)"
     ],
     "language": "python",
     "metadata": {},
     "outputs": [
      {
       "metadata": {},
       "output_type": "pyout",
       "prompt_number": 12,
       "text": [
        "1x2 Array{Float64,2}:\n",
        " 0.435913  0.618224"
       ]
      }
     ],
     "prompt_number": 12
    },
    {
     "cell_type": "code",
     "collapsed": false,
     "input": [
      "LAMBDA = 1;\n",
      "MU = 1/LAMBDA;\n",
      "\n",
      "% Time interval\n",
      "% Note: If you change this interval, you might also want to\n",
      "%       change STEPSIZE which determines the discretization\n",
      "%       (another note: the discretization only affects the plot)\n",
      "TMAX = 30;\n",
      "\n",
      "% Number of random numbers generated\n",
      "% Note: this parameter has to be chosen big enough that\n",
      "%       the whole interval TMAX is covered. The value\n",
      "%       is just a guess\n",
      "N = 40;\n",
      "\n",
      "xx = exprnd(MU, 1, N);\n",
      "yy = zeros(1,N+1);\n",
      "\n",
      "for i = 2:N\n",
      "    yy(i) = yy(i-1)+xx(i-1);\n",
      "end\n",
      "\n",
      "if yy(N) < TMAX\n",
      "    error('ERROR: Time interval is not covered by random numbers. Try running again or increasing N')\n",
      "end\n",
      "\n",
      "% graphic is discrete, so choose smallest time step\n",
      "STEP_SIZE = 0.1;\n",
      "\n",
      "tt = yy(1):STEP_SIZE:TMAX;\n",
      "STEPS = size(tt,2);\n",
      "\n",
      "% calculate N_t\n",
      "nn = zeros(1,STEPS);\n",
      "current_n=1;\n",
      "for i = 1:STEPS\n",
      "    while yy(current_n+1) < tt(i)\n",
      "        current_n = current_n+1;\n",
      "    end\n",
      "    \n",
      "    nn(i) = current_n;\n",
      "end"
     ],
     "language": "python",
     "metadata": {},
     "outputs": []
    },
    {
     "cell_type": "code",
     "collapsed": false,
     "input": [
      "caminatas=Any[]\n",
      "for i in 1:3\n",
      "    brownie=browniano_parado()\n",
      "    while length(brownie)<100 || length(brownie)>600\n",
      "        brownie=browniano_parado()\n",
      "    end\n",
      "    push!(caminatas,brownie)\n",
      "end\n",
      "caminatas"
     ],
     "language": "python",
     "metadata": {},
     "outputs": []
    },
    {
     "cell_type": "code",
     "collapsed": false,
     "input": [
      "indiceLarga=0\n",
      "largo=0\n",
      "pasoTiempo=0.02\n",
      "tiempos1=Any[]\n",
      "for i in 1:3\n",
      "    tempLargo=length(caminatas[i])\n",
      "    if largo<tempLargo\n",
      "        largo=tempLargo\n",
      "    end\n",
      "    tiempo = [(i-1)*pasoTiempo for i in 1:tempLargo]\n",
      "    push!(tiempos1,tiempo)\n",
      "end\n",
      "length(tiempos[3])"
     ],
     "language": "python",
     "metadata": {},
     "outputs": []
    },
    {
     "cell_type": "code",
     "collapsed": false,
     "input": [
      "for i in 1:3\n",
      "    plot(tiempos1[i],caminatas[i],label=\"B\"string(i))\n",
      "end\n",
      "plot([0,10],[-1,-1],\"k\")\n",
      "legend()\n",
      "xlabel(L\"t\")\n",
      "ylabel(L\"X_t\")"
     ],
     "language": "python",
     "metadata": {},
     "outputs": []
    },
    {
     "cell_type": "code",
     "collapsed": false,
     "input": [
      "tiempos = Vector{Float64}[ zeros(length(caminatas[i])) for i in 1:3 ]\n",
      "lastTime=0\n",
      "temp=0\n",
      "\n",
      "for i in 1:length(tiempos)    \n",
      "    for j in 1:length(tiempos[i])\n",
      "        tiempos[i][j]=lastTime-j*pasoTiempo\n",
      "        temp=tiempos[i][j]\n",
      "    end\n",
      "    lastTime=temp\n",
      "end\n",
      "tiempos"
     ],
     "language": "python",
     "metadata": {},
     "outputs": []
    },
    {
     "cell_type": "code",
     "collapsed": false,
     "input": [
      "caminatasReves=Any[]\n",
      "for i in 1:3\n",
      "    temp=[caminatas[i][end-j] for j in 0:(length(caminatas[i])-1)]\n",
      "    temp=temp+i\n",
      "    push!(caminatasReves,temp)\n",
      "end\n",
      "caminatasReves"
     ],
     "language": "python",
     "metadata": {},
     "outputs": []
    },
    {
     "cell_type": "code",
     "collapsed": false,
     "input": [
      "brownie=[1,1]\n",
      "while length(brownie)<100 || length(brownie)>600\n",
      "    brownie=browniano_parado()\n",
      "end\n",
      "tiempoBrownie=zeros(length(brownie))\n",
      "tiempoBrownie[1]=0\n",
      "for i in 1:length(tiempoBrownie)\n",
      "    if i>1\n",
      "        tiempoBrownie[i]=tiempoBrownie[i-1]+ pasoTiempo\n",
      "    end\n",
      "end"
     ],
     "language": "python",
     "metadata": {},
     "outputs": []
    },
    {
     "cell_type": "code",
     "collapsed": false,
     "input": [
      "for i in 1:3\n",
      "    plot(tiempos[i],caminatasReves[i],label=\"B\"string(i))    \n",
      "end\n",
      "plot(tiempoBrownie, brownie,label=\"B0\")\n",
      "plot([0,0],[-2,4],\"k\")\n",
      "plot([-20,10],[0,0],\"k\")\n",
      "legend()\n",
      "xlabel(L\"t\")\n",
      "ylabel(L\"X_t\")"
     ],
     "language": "python",
     "metadata": {},
     "outputs": []
    },
    {
     "cell_type": "code",
     "collapsed": false,
     "input": [],
     "language": "python",
     "metadata": {},
     "outputs": []
    }
   ],
   "metadata": {}
  }
 ]
}